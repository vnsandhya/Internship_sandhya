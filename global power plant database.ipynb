{
 "cells": [
  {
   "cell_type": "code",
   "execution_count": 1,
   "id": "3e692fa8",
   "metadata": {},
   "outputs": [
    {
     "data": {
      "text/html": [
       "<div>\n",
       "<style scoped>\n",
       "    .dataframe tbody tr th:only-of-type {\n",
       "        vertical-align: middle;\n",
       "    }\n",
       "\n",
       "    .dataframe tbody tr th {\n",
       "        vertical-align: top;\n",
       "    }\n",
       "\n",
       "    .dataframe thead th {\n",
       "        text-align: right;\n",
       "    }\n",
       "</style>\n",
       "<table border=\"1\" class=\"dataframe\">\n",
       "  <thead>\n",
       "    <tr style=\"text-align: right;\">\n",
       "      <th></th>\n",
       "      <th>0</th>\n",
       "      <th>1</th>\n",
       "      <th>2</th>\n",
       "    </tr>\n",
       "  </thead>\n",
       "  <tbody>\n",
       "    <tr>\n",
       "      <th>country</th>\n",
       "      <td>IND</td>\n",
       "      <td>IND</td>\n",
       "      <td>IND</td>\n",
       "    </tr>\n",
       "    <tr>\n",
       "      <th>country_long</th>\n",
       "      <td>India</td>\n",
       "      <td>India</td>\n",
       "      <td>India</td>\n",
       "    </tr>\n",
       "    <tr>\n",
       "      <th>name</th>\n",
       "      <td>ACME Solar Tower</td>\n",
       "      <td>ADITYA CEMENT WORKS</td>\n",
       "      <td>AES Saurashtra Windfarms</td>\n",
       "    </tr>\n",
       "    <tr>\n",
       "      <th>gppd_idnr</th>\n",
       "      <td>WRI1020239</td>\n",
       "      <td>WRI1019881</td>\n",
       "      <td>WRI1026669</td>\n",
       "    </tr>\n",
       "    <tr>\n",
       "      <th>capacity_mw</th>\n",
       "      <td>2.5</td>\n",
       "      <td>98.0</td>\n",
       "      <td>39.2</td>\n",
       "    </tr>\n",
       "    <tr>\n",
       "      <th>latitude</th>\n",
       "      <td>28.1839</td>\n",
       "      <td>24.7663</td>\n",
       "      <td>21.9038</td>\n",
       "    </tr>\n",
       "    <tr>\n",
       "      <th>longitude</th>\n",
       "      <td>73.2407</td>\n",
       "      <td>74.609</td>\n",
       "      <td>69.3732</td>\n",
       "    </tr>\n",
       "    <tr>\n",
       "      <th>primary_fuel</th>\n",
       "      <td>Solar</td>\n",
       "      <td>Coal</td>\n",
       "      <td>Wind</td>\n",
       "    </tr>\n",
       "    <tr>\n",
       "      <th>other_fuel1</th>\n",
       "      <td>NaN</td>\n",
       "      <td>NaN</td>\n",
       "      <td>NaN</td>\n",
       "    </tr>\n",
       "    <tr>\n",
       "      <th>other_fuel2</th>\n",
       "      <td>NaN</td>\n",
       "      <td>NaN</td>\n",
       "      <td>NaN</td>\n",
       "    </tr>\n",
       "    <tr>\n",
       "      <th>other_fuel3</th>\n",
       "      <td>NaN</td>\n",
       "      <td>NaN</td>\n",
       "      <td>NaN</td>\n",
       "    </tr>\n",
       "    <tr>\n",
       "      <th>commissioning_year</th>\n",
       "      <td>2011.0</td>\n",
       "      <td>NaN</td>\n",
       "      <td>NaN</td>\n",
       "    </tr>\n",
       "    <tr>\n",
       "      <th>owner</th>\n",
       "      <td>Solar Paces</td>\n",
       "      <td>Ultratech Cement ltd</td>\n",
       "      <td>AES</td>\n",
       "    </tr>\n",
       "    <tr>\n",
       "      <th>source</th>\n",
       "      <td>National Renewable Energy Laboratory</td>\n",
       "      <td>Ultratech Cement ltd</td>\n",
       "      <td>CDM</td>\n",
       "    </tr>\n",
       "    <tr>\n",
       "      <th>url</th>\n",
       "      <td>http://www.nrel.gov/csp/solarpaces/project_det...</td>\n",
       "      <td>http://www.ultratechcement.com/</td>\n",
       "      <td>https://cdm.unfccc.int/Projects/DB/DNV-CUK1328...</td>\n",
       "    </tr>\n",
       "    <tr>\n",
       "      <th>geolocation_source</th>\n",
       "      <td>National Renewable Energy Laboratory</td>\n",
       "      <td>WRI</td>\n",
       "      <td>WRI</td>\n",
       "    </tr>\n",
       "    <tr>\n",
       "      <th>wepp_id</th>\n",
       "      <td>NaN</td>\n",
       "      <td>NaN</td>\n",
       "      <td>NaN</td>\n",
       "    </tr>\n",
       "    <tr>\n",
       "      <th>year_of_capacity_data</th>\n",
       "      <td>NaN</td>\n",
       "      <td>NaN</td>\n",
       "      <td>NaN</td>\n",
       "    </tr>\n",
       "    <tr>\n",
       "      <th>generation_gwh_2013</th>\n",
       "      <td>NaN</td>\n",
       "      <td>NaN</td>\n",
       "      <td>NaN</td>\n",
       "    </tr>\n",
       "    <tr>\n",
       "      <th>generation_gwh_2014</th>\n",
       "      <td>NaN</td>\n",
       "      <td>NaN</td>\n",
       "      <td>NaN</td>\n",
       "    </tr>\n",
       "    <tr>\n",
       "      <th>generation_gwh_2015</th>\n",
       "      <td>NaN</td>\n",
       "      <td>NaN</td>\n",
       "      <td>NaN</td>\n",
       "    </tr>\n",
       "    <tr>\n",
       "      <th>generation_gwh_2016</th>\n",
       "      <td>NaN</td>\n",
       "      <td>NaN</td>\n",
       "      <td>NaN</td>\n",
       "    </tr>\n",
       "    <tr>\n",
       "      <th>generation_gwh_2017</th>\n",
       "      <td>NaN</td>\n",
       "      <td>NaN</td>\n",
       "      <td>NaN</td>\n",
       "    </tr>\n",
       "    <tr>\n",
       "      <th>generation_gwh_2018</th>\n",
       "      <td>NaN</td>\n",
       "      <td>NaN</td>\n",
       "      <td>NaN</td>\n",
       "    </tr>\n",
       "    <tr>\n",
       "      <th>generation_gwh_2019</th>\n",
       "      <td>NaN</td>\n",
       "      <td>NaN</td>\n",
       "      <td>NaN</td>\n",
       "    </tr>\n",
       "    <tr>\n",
       "      <th>generation_data_source</th>\n",
       "      <td>NaN</td>\n",
       "      <td>NaN</td>\n",
       "      <td>NaN</td>\n",
       "    </tr>\n",
       "    <tr>\n",
       "      <th>estimated_generation_gwh</th>\n",
       "      <td>NaN</td>\n",
       "      <td>NaN</td>\n",
       "      <td>NaN</td>\n",
       "    </tr>\n",
       "  </tbody>\n",
       "</table>\n",
       "</div>"
      ],
      "text/plain": [
       "                                                                          0  \\\n",
       "country                                                                 IND   \n",
       "country_long                                                          India   \n",
       "name                                                       ACME Solar Tower   \n",
       "gppd_idnr                                                        WRI1020239   \n",
       "capacity_mw                                                             2.5   \n",
       "latitude                                                            28.1839   \n",
       "longitude                                                           73.2407   \n",
       "primary_fuel                                                          Solar   \n",
       "other_fuel1                                                             NaN   \n",
       "other_fuel2                                                             NaN   \n",
       "other_fuel3                                                             NaN   \n",
       "commissioning_year                                                   2011.0   \n",
       "owner                                                           Solar Paces   \n",
       "source                                 National Renewable Energy Laboratory   \n",
       "url                       http://www.nrel.gov/csp/solarpaces/project_det...   \n",
       "geolocation_source                     National Renewable Energy Laboratory   \n",
       "wepp_id                                                                 NaN   \n",
       "year_of_capacity_data                                                   NaN   \n",
       "generation_gwh_2013                                                     NaN   \n",
       "generation_gwh_2014                                                     NaN   \n",
       "generation_gwh_2015                                                     NaN   \n",
       "generation_gwh_2016                                                     NaN   \n",
       "generation_gwh_2017                                                     NaN   \n",
       "generation_gwh_2018                                                     NaN   \n",
       "generation_gwh_2019                                                     NaN   \n",
       "generation_data_source                                                  NaN   \n",
       "estimated_generation_gwh                                                NaN   \n",
       "\n",
       "                                                        1  \\\n",
       "country                                               IND   \n",
       "country_long                                        India   \n",
       "name                                  ADITYA CEMENT WORKS   \n",
       "gppd_idnr                                      WRI1019881   \n",
       "capacity_mw                                          98.0   \n",
       "latitude                                          24.7663   \n",
       "longitude                                          74.609   \n",
       "primary_fuel                                         Coal   \n",
       "other_fuel1                                           NaN   \n",
       "other_fuel2                                           NaN   \n",
       "other_fuel3                                           NaN   \n",
       "commissioning_year                                    NaN   \n",
       "owner                                Ultratech Cement ltd   \n",
       "source                               Ultratech Cement ltd   \n",
       "url                       http://www.ultratechcement.com/   \n",
       "geolocation_source                                    WRI   \n",
       "wepp_id                                               NaN   \n",
       "year_of_capacity_data                                 NaN   \n",
       "generation_gwh_2013                                   NaN   \n",
       "generation_gwh_2014                                   NaN   \n",
       "generation_gwh_2015                                   NaN   \n",
       "generation_gwh_2016                                   NaN   \n",
       "generation_gwh_2017                                   NaN   \n",
       "generation_gwh_2018                                   NaN   \n",
       "generation_gwh_2019                                   NaN   \n",
       "generation_data_source                                NaN   \n",
       "estimated_generation_gwh                              NaN   \n",
       "\n",
       "                                                                          2  \n",
       "country                                                                 IND  \n",
       "country_long                                                          India  \n",
       "name                                               AES Saurashtra Windfarms  \n",
       "gppd_idnr                                                        WRI1026669  \n",
       "capacity_mw                                                            39.2  \n",
       "latitude                                                            21.9038  \n",
       "longitude                                                           69.3732  \n",
       "primary_fuel                                                           Wind  \n",
       "other_fuel1                                                             NaN  \n",
       "other_fuel2                                                             NaN  \n",
       "other_fuel3                                                             NaN  \n",
       "commissioning_year                                                      NaN  \n",
       "owner                                                                   AES  \n",
       "source                                                                  CDM  \n",
       "url                       https://cdm.unfccc.int/Projects/DB/DNV-CUK1328...  \n",
       "geolocation_source                                                      WRI  \n",
       "wepp_id                                                                 NaN  \n",
       "year_of_capacity_data                                                   NaN  \n",
       "generation_gwh_2013                                                     NaN  \n",
       "generation_gwh_2014                                                     NaN  \n",
       "generation_gwh_2015                                                     NaN  \n",
       "generation_gwh_2016                                                     NaN  \n",
       "generation_gwh_2017                                                     NaN  \n",
       "generation_gwh_2018                                                     NaN  \n",
       "generation_gwh_2019                                                     NaN  \n",
       "generation_data_source                                                  NaN  \n",
       "estimated_generation_gwh                                                NaN  "
      ]
     },
     "execution_count": 1,
     "metadata": {},
     "output_type": "execute_result"
    }
   ],
   "source": [
    "import pandas as pd\n",
    "df=pd.read_csv('https://raw.githubusercontent.com/wri/global-power-plant-database/master/source_databases_csv/database_IND.csv')\n",
    "df.head(3).T"
   ]
  },
  {
   "cell_type": "code",
   "execution_count": 2,
   "id": "90e4e511",
   "metadata": {},
   "outputs": [
    {
     "data": {
      "text/plain": [
       "(907, 27)"
      ]
     },
     "execution_count": 2,
     "metadata": {},
     "output_type": "execute_result"
    }
   ],
   "source": [
    "df.shape"
   ]
  },
  {
   "cell_type": "code",
   "execution_count": 3,
   "id": "94e71c1f",
   "metadata": {},
   "outputs": [],
   "source": [
    "# drop the columns with more null values\n",
    "dr=['owner','url','country','country_long','generation_gwh_2013','generation_gwh_2014','generation_gwh_2015','generation_gwh_2016','generation_gwh_2017','generation_gwh_2018','generation_gwh_2019','other_fuel1','other_fuel2','other_fuel3','year_of_capacity_data']\n",
    "df.drop(dr,axis=1,inplace=True)"
   ]
  },
  {
   "cell_type": "code",
   "execution_count": 4,
   "id": "093f3b07",
   "metadata": {},
   "outputs": [
    {
     "name": "stdout",
     "output_type": "stream",
     "text": [
      "<class 'pandas.core.frame.DataFrame'>\n",
      "RangeIndex: 907 entries, 0 to 906\n",
      "Data columns (total 12 columns):\n",
      " #   Column                    Non-Null Count  Dtype  \n",
      "---  ------                    --------------  -----  \n",
      " 0   name                      907 non-null    object \n",
      " 1   gppd_idnr                 907 non-null    object \n",
      " 2   capacity_mw               907 non-null    float64\n",
      " 3   latitude                  861 non-null    float64\n",
      " 4   longitude                 861 non-null    float64\n",
      " 5   primary_fuel              907 non-null    object \n",
      " 6   commissioning_year        527 non-null    float64\n",
      " 7   source                    907 non-null    object \n",
      " 8   geolocation_source        888 non-null    object \n",
      " 9   wepp_id                   0 non-null      float64\n",
      " 10  generation_data_source    449 non-null    object \n",
      " 11  estimated_generation_gwh  0 non-null      float64\n",
      "dtypes: float64(6), object(6)\n",
      "memory usage: 85.2+ KB\n"
     ]
    }
   ],
   "source": [
    "df.info()"
   ]
  },
  {
   "cell_type": "code",
   "execution_count": 5,
   "id": "5a68d1b2",
   "metadata": {},
   "outputs": [],
   "source": [
    "df.drop('estimated_generation_gwh',axis=1,inplace=True)"
   ]
  },
  {
   "cell_type": "code",
   "execution_count": 6,
   "id": "eb296a6a",
   "metadata": {},
   "outputs": [
    {
     "data": {
      "text/plain": [
       "name                        0\n",
       "gppd_idnr                   0\n",
       "capacity_mw                 0\n",
       "latitude                   46\n",
       "longitude                  46\n",
       "primary_fuel                0\n",
       "commissioning_year        380\n",
       "source                      0\n",
       "geolocation_source         19\n",
       "wepp_id                   907\n",
       "generation_data_source    458\n",
       "dtype: int64"
      ]
     },
     "execution_count": 6,
     "metadata": {},
     "output_type": "execute_result"
    }
   ],
   "source": [
    "df.isnull().sum()"
   ]
  },
  {
   "cell_type": "code",
   "execution_count": 7,
   "id": "4e646ad1",
   "metadata": {},
   "outputs": [],
   "source": [
    "df.drop('wepp_id',axis=1,inplace=True)"
   ]
  },
  {
   "cell_type": "code",
   "execution_count": 8,
   "id": "369f46bd",
   "metadata": {},
   "outputs": [],
   "source": [
    "df.dropna(inplace=True)"
   ]
  },
  {
   "cell_type": "code",
   "execution_count": 9,
   "id": "e61f687d",
   "metadata": {},
   "outputs": [
    {
     "name": "stdout",
     "output_type": "stream",
     "text": [
      "<class 'pandas.core.frame.DataFrame'>\n",
      "Int64Index: 437 entries, 3 to 902\n",
      "Data columns (total 10 columns):\n",
      " #   Column                  Non-Null Count  Dtype  \n",
      "---  ------                  --------------  -----  \n",
      " 0   name                    437 non-null    object \n",
      " 1   gppd_idnr               437 non-null    object \n",
      " 2   capacity_mw             437 non-null    float64\n",
      " 3   latitude                437 non-null    float64\n",
      " 4   longitude               437 non-null    float64\n",
      " 5   primary_fuel            437 non-null    object \n",
      " 6   commissioning_year      437 non-null    float64\n",
      " 7   source                  437 non-null    object \n",
      " 8   geolocation_source      437 non-null    object \n",
      " 9   generation_data_source  437 non-null    object \n",
      "dtypes: float64(4), object(6)\n",
      "memory usage: 37.6+ KB\n"
     ]
    }
   ],
   "source": [
    "df.info()"
   ]
  },
  {
   "cell_type": "code",
   "execution_count": 10,
   "id": "c1e6a603",
   "metadata": {},
   "outputs": [
    {
     "data": {
      "text/plain": [
       "array(['AGARTALA GT', 'AKALTARA TPP', 'AKRIMOTA LIG', 'ALIYAR',\n",
       "       'ALLAIN DUHANGAN', 'ALMATTI DAM', 'AMAR KANTAK', 'AMARAVATI TPP',\n",
       "       'ANANDPUR SAHIB ST-I&II', 'ANAPARA \"C\"', 'ANPARA', 'ANTA GT',\n",
       "       'ANUPUR TPP', 'AURAIYA GT', 'AVANTHA BHANDAR TPP', 'BADARPUR',\n",
       "       'BAGLIHAR HEP', 'BAIRA SIUL', 'BAKRESWAR', 'BALIMELA',\n",
       "       'BANDAKHAR TPP', 'BANDEL', 'BANSAGAR (I)', 'BANSAGAR (II)',\n",
       "       'BANSAGAR (III)', 'BARADARHA TPP', 'BARAMURA', 'BARAUNI', 'BARGI',\n",
       "       'BARH STPP II', 'BARKHERA TPP', 'BARSINGAR LIGNITE',\n",
       "       'BASIN BRIDGE GT', 'BASPA', 'BASSI', 'BELLARY TPS', 'BHADRA',\n",
       "       'BHAKRA', 'BHANDARDHARA', 'BHAVNAGAR TPP', 'BHAWANI KATTALAI -II',\n",
       "       'BHAWANI KATTALAI -III', 'BHAWANI KATTALAI BARRAGE', 'BHILAI TPP',\n",
       "       'BHIRA', 'BHIRA TAIL RACE', 'BHIVPURI', 'BHUSAWAL', 'BINA TPP',\n",
       "       'BINJKOTE', \"BOKARO A ''EXP''\", 'BOKARO B', 'BONGAIGAON TPP',\n",
       "       'BRAMHAPURAM DG', 'BSES Kerala CCGT', 'BUDGE BUDGE', 'BUDHIL',\n",
       "       'BUTIBORI TPP -II', 'CHAKABURA TPP', 'CHAMERA II', 'CHAMERA-I',\n",
       "       'CHAMERA-III', 'CHANDRAPURA', 'CHANDRAPUR_Coal', 'CHANJU-I',\n",
       "       'CHENANI I to III', 'CHHABRA TPS', 'CHIBRO (YAMUNA)', 'CHILLA',\n",
       "       'CHUTAK', 'CHUZACHEN', 'D.P.L.', 'DADRI (NCTPP)', 'DADRI GT',\n",
       "       'DAE RAJASTHAN', 'DAMODARAM SANJEEVAIAH', 'DEHAR', 'DERANG',\n",
       "       'DGEN MEGA CCCP', 'DHAKRANI', 'DHALIPUR', 'DHANU',\n",
       "       'DHARIWAL INF TPP', 'DHAULI GANGA', 'DHOLPUR', 'DHUVARAN CCPP',\n",
       "       'DIKCHU', 'DOYANG', 'DULHASTI', 'DURGAPUR', 'DURGAPUR STEEL TPS',\n",
       "       'ESSAR GT IMP.', 'FARAKKA STPS', 'F_BAD CCGT', 'G.I.P.C.L. GT',\n",
       "       'GADARWARA', 'GAMA CCPP  Module - 1', 'GANDHAR GT', 'GANDHI NAGAR',\n",
       "       'GANDHI SAGAR', 'GANGUWAL', 'GAUTAMI CCCP', 'GEPL', 'GHAT PRABHA',\n",
       "       'GHATGHAR PSS', 'GHTP (LEH.MOH.)', 'GIRI BATA', 'GMR WARORA TPP',\n",
       "       'GODAVARI GT', 'GOINDWAL SAHIB TPP', 'GREL CCPP (RAJAMUNDRY)',\n",
       "       'HALDIA', 'HAMPI', 'HASDEOBANGO', 'HAZIRA CCCP', 'HAZIRA-GSECL',\n",
       "       'HIRAKUD I&II', 'H_GANJ B', 'I.B.VALLEY', 'I.P.GT', 'IDAMALAYAR',\n",
       "       'IDUKKI', 'IEPL  BELA TPP', 'IND BARATH TPP',\n",
       "       'INDIA POWER TPP(HALDIA  HIRANMAYE )', 'INDIRA SAGAR',\n",
       "       'INDRA GANDHI STPP', 'ITPCL TPP', 'J.SAGAR', 'JALDHAKA I&II',\n",
       "       'JALLIPPA KAPURDI TPP', 'JEGURUPADU GT', 'JOG', 'JOJBERA',\n",
       "       'JORETHANG LOOP', 'JSW RATNAGIRI TPP', 'KADAMPARI', 'KADANA',\n",
       "       'KADRA', 'KAHALGAON', 'KAIGA', 'KAKATIYA TPP', 'KAKKAD',\n",
       "       'KAKRAPARA', 'KALINADI', 'KALINADI SUPA', 'KALISINDH', 'KAMALANGA',\n",
       "       'KARAIKAL', 'KARBI LANGPI', 'KARCHAM WANGTOO', 'KARUPPUR GT',\n",
       "       'KASAIPALLI', 'KATHALGURI GT', 'KAWAI TPP', 'KAWAS GT',\n",
       "       'KAYAM KULAM GT', 'KHAMBERKHERA IPP', 'KHANDONG', 'KHARA',\n",
       "       'KHATIMA', 'KHODRI', 'KHOPOLI', 'KISHENGANGA', 'KODASALI',\n",
       "       'KODAYAR-I&II', 'KODERMA', 'KOJIKODE DG', 'KOLAGHAT', 'KOLDAM',\n",
       "       'KONASEEMA CCCP', 'KONDAPALLI GT', 'KOPILI', 'KORADI',\n",
       "       'KORBA STPS', 'KORBA-EAST', 'KORBA-WEST', 'KOTA', 'KOTESHWAR',\n",
       "       'KOTLA', 'KOVILKALAPPAL', 'KOYNA COMPLEX', 'KUDGI', 'KULHAL',\n",
       "       'KUNDAH I-V', 'KUNDANKULAM', 'KUNDARKI TPP', 'KUTCH LIG.',\n",
       "       'KUTTALAM GT', 'KUTTIADI', 'KUTTIYADI Add ext', 'KYREDEMKULAI',\n",
       "       'K_GUDEM', 'K_GUDEM NEW', 'K_KHEDA II', 'LAKWA GT', 'LALITPUR TPP',\n",
       "       'LARA', 'LARGI', 'LIGANAMAKKI', 'LOKTAK', 'LOWER JHELUM',\n",
       "       'LOWER JURALA', 'LOWER METTUR', 'LOWER PERIYAR', 'LOWER SILERU',\n",
       "       'M.A.P.P.', 'MACHKUND', 'MADHIKHEDA', 'MAHADEV PRASAD STPP',\n",
       "       'MAHAN TPP', 'MAHATMA GANDHI TPP', 'MAHI BAJAJ I&II', 'MAITHON',\n",
       "       'MAITHON RB TPP', 'MALANA', 'MANERI BHALI', 'MANGAON CCPP',\n",
       "       'MARWA TPP', 'MATATILLA', 'MEJA STPP', 'MEJIA', 'MEJIA TPS EXT',\n",
       "       'MELAMARUTHUR (MUTHIARA)', 'METTUR', 'METTUR DAM',\n",
       "       'METTUR TPS EXT', 'MIHAN TPP', 'MONARCHAK CCPP', 'MOUDA STPS',\n",
       "       'MOYAR', 'MUKERIAN I -IV', 'MUNDRA TPP', 'MUNDRA UMPP',\n",
       "       'MUNIRABAD', 'MUZAFFARPUR', 'MYNTDU', 'N.A.P.S', 'NABI NAGAR TPP',\n",
       "       'NAGARJUNA SAGAR', 'NAGARJUNA SAGAR   TPD', 'NAMRUP GT',\n",
       "       'NARIMANGLAM', 'NASIK', 'NASIK TPP  PH 1', 'NATHPA JHAKRI',\n",
       "       'NAWAPARA', 'NEW UMTRU', 'NEYVELI FST EXT', 'NEYVELI ST I',\n",
       "       'NEYVELI ST II', 'NEYVELI TPS EXP -II', 'NEYVELI TPS(Z)', 'NIGRI',\n",
       "       'NIMOO BAZGO', 'NORTH CHENNAI', 'NORTH CHENNAI EXTENSION',\n",
       "       'N_SAGAR LBC', 'N_SAGAR RBC', 'OBRA', 'OBRA-A', 'OMKARESHWAR',\n",
       "       'P.NALLUR CCGT', 'PAGUTHAN', 'PAINAMPURAM', 'PALATANA CCPP',\n",
       "       'PALLIVASAL', 'PAMPORE GT', 'PANCHET', 'PANIPAT', 'PANNIAR',\n",
       "       'PAPANASAM', 'PARAS', 'PARBATI-III', 'PARE', 'PARICHA', 'PARLI',\n",
       "       'PARSEN_S VALLE', 'PATHADI TPS PH -I', 'PEDDAPURAM CCGT(Samalkot)',\n",
       "       'PENCH', 'PERIYAR', 'PIPAVAV CCCP', 'POCHAMPAD', 'PONG',\n",
       "       'PORINGALKUTTU', 'PRAGATI CCCP -III', 'PRAGATI CCGT',\n",
       "       'PRIYADARSHNI JURALA', 'PRYAGRAJ (BARA) TPP', 'PULICHINTALA',\n",
       "       'PURULIA PSS', 'PYKARA', 'PYKARA ALIMATE', 'R.A.P.S.', 'R.P.SAGAR',\n",
       "       'RAGHUNATHPUR TPP PH-I', 'RAICHUR', 'RAIGARH TPP', 'RAIKHEDA',\n",
       "       'RAJGHAT', 'RAJGHAT (MP)', 'RAJIV GANDHI  TPS HISAR',\n",
       "       'RAJPURA TPP', 'RAMGANGA', 'RAMGARH GT', 'RAMMAM', 'RAMPUR',\n",
       "       'RANGANADI', 'RANGIT-III', 'RANJIT SAGAR', 'RATIJA TPP',\n",
       "       'RATNAGIRI GAS', 'RAYAL SEEMA', 'RELIANCE ENERGY', 'RENGALI',\n",
       "       'RIHAND', 'RIHAND_Hydro', 'RITHALA CCCP', 'ROKHIA GT', 'ROPAR',\n",
       "       'ROSA TPP PH - 1', 'R_GUNDEM - B', 'R_GUNDEM STPS',\n",
       "       'S.SAROVAR CHPH', 'S.SAROVAR RBPH', 'SABARIGIRI', 'SAGARDIGHI TPP',\n",
       "       'SALAL I & II', 'SALAYA TPP', 'SALORA', 'SAMALPATTI DG',\n",
       "       'SAMAYANALLUR DG', 'SANJAY BHABA', 'SANJAY GANDHI', 'SANTALDIH',\n",
       "       'SARKARPATHY', 'SASAN UMPP', 'SATPURA', 'SEIONI TPP',\n",
       "       'SEMBCORP GAYATRI', 'SENGULAM', 'SEWA-II', 'SHANAN', 'SHARAVATHY',\n",
       "       'SHARAVATHY TAIL RACE (Gerusupa)', 'SHOLAYAR', 'SHOLAYAR I&II',\n",
       "       'SIKKA REP.', 'SIMHADRI', 'SIMHAPURI TPP', 'SINGARENI TPP',\n",
       "       'SINGRAULI STPS', 'SIPAT STPS', 'SITAPURAM POWER LIMITED',\n",
       "       'SIVASAMUNDRUM', 'SOLAPUR STPP', 'SOUTHERN REPL.', 'SRINAGAR',\n",
       "       'SRISAILAM', 'SRISAILAM LBPH', 'STERLITE TPP', 'SUBERNREKHA I&II',\n",
       "       'SUGEN CCCP', 'SURAT LIG.', 'SURATGARH', 'SURULIYAR', 'SVPL',\n",
       "       'SWASTIK KORBA', 'Shri Singaji MALWA TPP', 'T.B. DAM', 'TALCHER',\n",
       "       'TALCHER STPS', 'TALWANDI SABO', 'TAMNAR TPP', 'TANAKPUR', 'TANDA',\n",
       "       'TANIR BAVI', 'TARAPUR', 'TASHIDING', 'TEESTA  I-III', 'TEESTA -V',\n",
       "       'TEESTA LOW DAM -IV', 'TEESTA LOW DAM-III', 'TEESTA-III',\n",
       "       'TEHRI ST -1', 'TENUGHAT', 'THAMMINAPATNAM TPP', 'TILLARI',\n",
       "       'TIRORA TPP', 'TITAGARH', 'TORANGALLU EXT', 'TORANGALLU IMP',\n",
       "       'TORR POWER SAB.', 'TROMBAY', 'TROMBAY GT', 'TROMBAY_Coal',\n",
       "       'TROMBAY_Oil', 'TUIRIAL', 'TUTICORIN', 'TUTICORIN JV',\n",
       "       'TUTICORIN- IND BARATH', 'U.B.D.C. ST.-I& II', 'UCHPINDA TPP',\n",
       "       'UDUPI TPP', 'UKAI_Coal', 'UKAI_Hydro', 'UMIAM I II &IV',\n",
       "       'UNCHAHAR', 'UNO SUGEN', 'UPPAR INDRAVATI', 'UPPER KOLAB',\n",
       "       'UPPER SILERU I&II', 'UPPER SINDH I& II', 'URAN GT', 'URI',\n",
       "       'URI -II', 'UTRAN CCCP EXT', 'UTRAULA TPP', 'VAITARNA',\n",
       "       'VALANTHARVI GT', 'VALLUR ntpc/ntecl', 'VALUTHUR GT', 'VARAHI',\n",
       "       'VEMAGIRI CCCP', 'VIJAYWADA', 'VIJAYWADA TPP-IV', 'VIJESWARAM GT',\n",
       "       'VINDH_CHAL STPS', 'VISHNU PRAYAG', 'VIZAG TPP', 'WANAKBORI',\n",
       "       'WARDHA WARORA(Sai Wardha Power)', 'WY.CANAL A -D',\n",
       "       'YAMUNANAGAR TPP', 'YELHANKA (DG)', 'YERMARUS TPP'], dtype=object)"
      ]
     },
     "execution_count": 10,
     "metadata": {},
     "output_type": "execute_result"
    }
   ],
   "source": [
    "df['name'].unique()"
   ]
  },
  {
   "cell_type": "code",
   "execution_count": 11,
   "id": "2cd520c2",
   "metadata": {},
   "outputs": [
    {
     "data": {
      "text/plain": [
       "array(['IND0000001', 'IND0000002', 'IND0000003', 'IND0000004',\n",
       "       'IND0000005', 'IND0000006', 'IND0000007', 'IND0000008',\n",
       "       'IND0000009', 'IND0000010', 'IND0000013', 'IND0000014',\n",
       "       'IND0000015', 'IND0000016', 'IND0000017', 'IND0000019',\n",
       "       'IND0000020', 'IND0000022', 'IND0000023', 'IND0000024',\n",
       "       'IND0000026', 'IND0000027', 'IND0000029', 'IND0000030',\n",
       "       'IND0000031', 'IND0000033', 'IND0000034', 'IND0000035',\n",
       "       'IND0000036', 'IND0000037', 'IND0000038', 'IND0000039',\n",
       "       'IND0000040', 'IND0000041', 'IND0000042', 'IND0000045',\n",
       "       'IND0000046', 'IND0000047', 'IND0000048', 'IND0000514',\n",
       "       'IND0000052', 'IND0000053', 'IND0000051', 'IND0000054',\n",
       "       'IND0000055', 'IND0000056', 'IND0000057', 'IND0000058',\n",
       "       'IND0000059', 'IND0000527', 'IND0000063', 'IND0000064',\n",
       "       'IND0000066', 'IND0000067', 'IND0000068', 'IND0000069',\n",
       "       'IND0000070', 'IND0000071', 'IND0000072', 'IND0000073',\n",
       "       'IND0000074', 'IND0000075', 'IND0000078', 'IND0000076',\n",
       "       'IND0000515', 'IND0000080', 'IND0000081', 'IND0000082',\n",
       "       'IND0000083', 'IND0000084', 'IND0000085', 'IND0000087',\n",
       "       'IND0000088', 'IND0000089', 'IND0000086', 'IND0000090',\n",
       "       'IND0000091', 'IND0000092', 'IND0000093', 'IND0000094',\n",
       "       'IND0000095', 'IND0000096', 'IND0000097', 'IND0000098',\n",
       "       'IND0000099', 'IND0000101', 'IND0000528', 'IND0000105',\n",
       "       'IND0000107', 'IND0000108', 'IND0000109', 'IND0000114',\n",
       "       'IND0000117', 'IND0000115', 'IND0000118', 'IND0000539',\n",
       "       'IND0000516', 'IND0000120', 'IND0000122', 'IND0000123',\n",
       "       'IND0000124', 'IND0000125', 'IND0000126', 'IND0000128',\n",
       "       'IND0000129', 'IND0000130', 'IND0000132', 'IND0000112',\n",
       "       'IND0000134', 'IND0000136', 'IND0000137', 'IND0000139',\n",
       "       'IND0000140', 'IND0000141', 'IND0000142', 'IND0000143',\n",
       "       'IND0000144', 'IND0000138', 'IND0000145', 'IND0000146',\n",
       "       'IND0000148', 'IND0000149', 'IND0000150', 'IND0000153',\n",
       "       'IND0000529', 'IND0000151', 'IND0000154', 'IND0000152',\n",
       "       'IND0000155', 'IND0000156', 'IND0000157', 'IND0000158',\n",
       "       'IND0000159', 'IND0000160', 'IND0000161', 'IND0000162',\n",
       "       'IND0000166', 'IND0000167', 'IND0000168', 'IND0000169',\n",
       "       'IND0000170', 'IND0000171', 'IND0000172', 'IND0000173',\n",
       "       'IND0000174', 'IND0000175', 'IND0000176', 'IND0000178',\n",
       "       'IND0000180', 'IND0000181', 'IND0000182', 'IND0000184',\n",
       "       'IND0000185', 'IND0000188', 'IND0000189', 'IND0000190',\n",
       "       'IND0000191', 'IND0000193', 'IND0000194', 'IND0000195',\n",
       "       'IND0000196', 'IND0000197', 'IND0000198', 'IND0000530',\n",
       "       'IND0000199', 'IND0000200', 'IND0000201', 'IND0000202',\n",
       "       'IND0000203', 'IND0000204', 'IND0000205', 'IND0000206',\n",
       "       'IND0000207', 'IND0000208', 'IND0000209', 'IND0000210',\n",
       "       'IND0000211', 'IND0000213', 'IND0000214', 'IND0000215',\n",
       "       'IND0000216', 'IND0000217', 'IND0000519', 'IND0000218',\n",
       "       'IND0000219', 'IND0000220', 'IND0000221', 'IND0000222',\n",
       "       'IND0000224', 'IND0000225', 'IND0000226', 'IND0000227',\n",
       "       'IND0000163', 'IND0000164', 'IND0000165', 'IND0000228',\n",
       "       'IND0000230', 'IND0000531', 'IND0000229', 'IND0000232',\n",
       "       'IND0000234', 'IND0000235', 'IND0000236', 'IND0000238',\n",
       "       'IND0000239', 'IND0000240', 'IND0000242', 'IND0000243',\n",
       "       'IND0000245', 'IND0000246', 'IND0000247', 'IND0000248',\n",
       "       'IND0000249', 'IND0000250', 'IND0000252', 'IND0000253',\n",
       "       'IND0000255', 'IND0000520', 'IND0000260', 'IND0000261',\n",
       "       'IND0000532', 'IND0000262', 'IND0000263', 'IND0000264',\n",
       "       'IND0000265', 'IND0000266', 'IND0000267', 'IND0000268',\n",
       "       'IND0000272', 'IND0000273', 'IND0000275', 'IND0000276',\n",
       "       'IND0000278', 'IND0000279', 'IND0000280', 'IND0000281',\n",
       "       'IND0000282', 'IND0000283', 'IND0000287', 'IND0000286',\n",
       "       'IND0000521', 'IND0000288', 'IND0000291', 'IND0000292',\n",
       "       'IND0000293', 'IND0000294', 'IND0000522', 'IND0000533',\n",
       "       'IND0000297', 'IND0000298', 'IND0000299', 'IND0000300',\n",
       "       'IND0000301', 'IND0000302', 'IND0000303', 'IND0000307',\n",
       "       'IND0000308', 'IND0000284', 'IND0000285', 'IND0000310',\n",
       "       'IND0000311', 'IND0000312', 'IND0000313', 'IND0000314',\n",
       "       'IND0000315', 'IND0000317', 'IND0000318', 'IND0000319',\n",
       "       'IND0000320', 'IND0000321', 'IND0000323', 'IND0000324',\n",
       "       'IND0000325', 'IND0000326', 'IND0000540', 'IND0000327',\n",
       "       'IND0000328', 'IND0000329', 'IND0000330', 'IND0000334',\n",
       "       'IND0000335', 'IND0000337', 'IND0000338', 'IND0000339',\n",
       "       'IND0000340', 'IND0000341', 'IND0000343', 'IND0000344',\n",
       "       'IND0000345', 'IND0000346', 'IND0000523', 'IND0000347',\n",
       "       'IND0000348', 'IND0000349', 'IND0000350', 'IND0000351',\n",
       "       'IND0000355', 'IND0000356', 'IND0000357', 'IND0000358',\n",
       "       'IND0000359', 'IND0000360', 'IND0000361', 'IND0000362',\n",
       "       'IND0000363', 'IND0000364', 'IND0000365', 'IND0000366',\n",
       "       'IND0000367', 'IND0000368', 'IND0000369', 'IND0000370',\n",
       "       'IND0000371', 'IND0000372', 'IND0000373', 'IND0000374',\n",
       "       'IND0000375', 'IND0000376', 'IND0000377', 'IND0000379',\n",
       "       'IND0000380', 'IND0000381', 'IND0000352', 'IND0000353',\n",
       "       'IND0000382', 'IND0000383', 'IND0000384', 'IND0000385',\n",
       "       'IND0000386', 'IND0000387', 'IND0000388', 'IND0000389',\n",
       "       'IND0000390', 'IND0000391', 'IND0000392', 'IND0000393',\n",
       "       'IND0000394', 'IND0000395', 'IND0000396', 'IND0000397',\n",
       "       'IND0000524', 'IND0000398', 'IND0000400', 'IND0000403',\n",
       "       'IND0000404', 'IND0000405', 'IND0000408', 'IND0000409',\n",
       "       'IND0000411', 'IND0000412', 'IND0000413', 'IND0000414',\n",
       "       'IND0000415', 'IND0000417', 'IND0000525', 'IND0000418',\n",
       "       'IND0000536', 'IND0000421', 'IND0000422', 'IND0000423',\n",
       "       'IND0000424', 'IND0000426', 'IND0000427', 'IND0000428',\n",
       "       'IND0000430', 'IND0000431', 'IND0000432', 'IND0000434',\n",
       "       'IND0000435', 'IND0000410', 'IND0000436', 'IND0000438',\n",
       "       'IND0000439', 'IND0000440', 'IND0000441', 'IND0000442',\n",
       "       'IND0000443', 'IND0000444', 'IND0000445', 'IND0000537',\n",
       "       'IND0000447', 'IND0000450', 'IND0000449', 'IND0000448',\n",
       "       'IND0000526', 'IND0000451', 'IND0000452', 'IND0000453',\n",
       "       'IND0000455', 'IND0000457', 'IND0000458', 'IND0000459',\n",
       "       'IND0000460', 'IND0000461', 'IND0000462', 'IND0000463',\n",
       "       'IND0000464', 'IND0000465', 'IND0000538', 'IND0000466',\n",
       "       'IND0000468', 'IND0000467', 'IND0000469', 'IND0000471',\n",
       "       'IND0000472', 'IND0000475', 'IND0000476', 'IND0000477',\n",
       "       'IND0000479', 'IND0000480', 'IND0000481', 'IND0000482',\n",
       "       'IND0000483', 'IND0000484', 'IND0000485', 'IND0000486',\n",
       "       'IND0000487', 'IND0000489', 'IND0000491', 'IND0000493',\n",
       "       'IND0000494', 'IND0000495', 'IND0000496', 'IND0000497',\n",
       "       'IND0000499', 'IND0000500', 'IND0000501', 'IND0000502',\n",
       "       'IND0000503', 'IND0000505', 'IND0000506', 'IND0000507',\n",
       "       'IND0000508', 'IND0000510', 'IND0000511', 'IND0000512',\n",
       "       'IND0000513'], dtype=object)"
      ]
     },
     "execution_count": 11,
     "metadata": {},
     "output_type": "execute_result"
    }
   ],
   "source": [
    "df['gppd_idnr'].unique()"
   ]
  },
  {
   "cell_type": "code",
   "execution_count": 12,
   "id": "a59fe677",
   "metadata": {},
   "outputs": [],
   "source": [
    "df.drop('gppd_idnr',axis=1,inplace=True)"
   ]
  },
  {
   "cell_type": "code",
   "execution_count": 13,
   "id": "2be851b7",
   "metadata": {},
   "outputs": [
    {
     "data": {
      "text/plain": [
       "array(['Gas', 'Coal', 'Hydro', 'Oil', 'Nuclear'], dtype=object)"
      ]
     },
     "execution_count": 13,
     "metadata": {},
     "output_type": "execute_result"
    }
   ],
   "source": [
    "df['primary_fuel'].unique()"
   ]
  },
  {
   "cell_type": "code",
   "execution_count": 14,
   "id": "2ea24de8",
   "metadata": {},
   "outputs": [
    {
     "data": {
      "text/plain": [
       "array(['Central Electricity Authority'], dtype=object)"
      ]
     },
     "execution_count": 14,
     "metadata": {},
     "output_type": "execute_result"
    }
   ],
   "source": [
    "df['source'].unique()"
   ]
  },
  {
   "cell_type": "code",
   "execution_count": 15,
   "id": "21e6fdee",
   "metadata": {},
   "outputs": [],
   "source": [
    "df.drop('source',axis=1,inplace=True)"
   ]
  },
  {
   "cell_type": "code",
   "execution_count": 16,
   "id": "76bfc002",
   "metadata": {},
   "outputs": [
    {
     "data": {
      "text/plain": [
       "array(['WRI'], dtype=object)"
      ]
     },
     "execution_count": 16,
     "metadata": {},
     "output_type": "execute_result"
    }
   ],
   "source": [
    "df['geolocation_source'].unique()"
   ]
  },
  {
   "cell_type": "code",
   "execution_count": 17,
   "id": "62678056",
   "metadata": {},
   "outputs": [],
   "source": [
    "df.drop('geolocation_source',axis=1,inplace=True)"
   ]
  },
  {
   "cell_type": "code",
   "execution_count": 18,
   "id": "1769fc9e",
   "metadata": {},
   "outputs": [
    {
     "data": {
      "text/plain": [
       "array(['Central Electricity Authority'], dtype=object)"
      ]
     },
     "execution_count": 18,
     "metadata": {},
     "output_type": "execute_result"
    }
   ],
   "source": [
    "df['generation_data_source'].unique()"
   ]
  },
  {
   "cell_type": "code",
   "execution_count": 19,
   "id": "b0fbdae2",
   "metadata": {},
   "outputs": [],
   "source": [
    "df.drop('generation_data_source',axis=1,inplace=True)"
   ]
  },
  {
   "cell_type": "code",
   "execution_count": 20,
   "id": "0a632d25",
   "metadata": {},
   "outputs": [
    {
     "data": {
      "text/plain": [
       "(437, 6)"
      ]
     },
     "execution_count": 20,
     "metadata": {},
     "output_type": "execute_result"
    }
   ],
   "source": [
    "df.shape"
   ]
  },
  {
   "cell_type": "code",
   "execution_count": 21,
   "id": "e12ae999",
   "metadata": {},
   "outputs": [
    {
     "name": "stdout",
     "output_type": "stream",
     "text": [
      "<class 'pandas.core.frame.DataFrame'>\n",
      "Int64Index: 437 entries, 3 to 902\n",
      "Data columns (total 6 columns):\n",
      " #   Column              Non-Null Count  Dtype  \n",
      "---  ------              --------------  -----  \n",
      " 0   name                437 non-null    object \n",
      " 1   capacity_mw         437 non-null    float64\n",
      " 2   latitude            437 non-null    float64\n",
      " 3   longitude           437 non-null    float64\n",
      " 4   primary_fuel        437 non-null    object \n",
      " 5   commissioning_year  437 non-null    float64\n",
      "dtypes: float64(4), object(2)\n",
      "memory usage: 23.9+ KB\n"
     ]
    }
   ],
   "source": [
    "df.info()"
   ]
  },
  {
   "cell_type": "code",
   "execution_count": 22,
   "id": "77e58afb",
   "metadata": {},
   "outputs": [
    {
     "data": {
      "text/plain": [
       "name                    int32\n",
       "capacity_mw           float64\n",
       "latitude              float64\n",
       "longitude             float64\n",
       "primary_fuel            int32\n",
       "commissioning_year    float64\n",
       "dtype: object"
      ]
     },
     "execution_count": 22,
     "metadata": {},
     "output_type": "execute_result"
    }
   ],
   "source": [
    "from sklearn.preprocessing import LabelEncoder\n",
    "le = LabelEncoder()\n",
    "for col in df.columns:\n",
    "    if df[col].dtypes == 'object':\n",
    "        df[col] = le.fit_transform(df[col])\n",
    "df.dtypes"
   ]
  },
  {
   "cell_type": "code",
   "execution_count": 23,
   "id": "f28b0af5",
   "metadata": {},
   "outputs": [],
   "source": [
    "import seaborn as sns\n",
    "import matplotlib.pyplot as plt\n",
    "import warnings\n",
    "warnings.filterwarnings('ignore')"
   ]
  },
  {
   "cell_type": "code",
   "execution_count": 24,
   "id": "73569283",
   "metadata": {},
   "outputs": [
    {
     "data": {
      "image/png": "[encoded data removed]",
      "text/plain": [
       "<Figure size 1296x1440 with 6 Axes>"
      ]
     },
     "metadata": {
      "needs_background": "light"
     },
     "output_type": "display_data"
    }
   ],
   "source": [
    "plt.figure(figsize = (18,20))\n",
    "plotnumber = 1\n",
    "for column in df:\n",
    "    if plotnumber<=6:\n",
    "        ax = plt.subplot(2,3,plotnumber)\n",
    "        sns.distplot(df[column])\n",
    "        plt.xlabel(column,fontsize = 20)\n",
    "    plotnumber += 1\n",
    "plt.tight_layout()"
   ]
  },
  {
   "cell_type": "code",
   "execution_count": 25,
   "id": "17d61ee1",
   "metadata": {},
   "outputs": [
    {
     "data": {
      "image/png": "[encoded data removed]",
      "text/plain": [
       "<Figure size 1152x1008 with 2 Axes>"
      ]
     },
     "metadata": {
      "needs_background": "light"
     },
     "output_type": "display_data"
    }
   ],
   "source": [
    "df_cor=df.corr().abs()  \n",
    "plt.figure(figsize=(16,14))\n",
    "sns.heatmap(df_cor,annot=True,cmap=\"Blues\")\n",
    "plt.show()"
   ]
  },
  {
   "cell_type": "markdown",
   "id": "6f89578c",
   "metadata": {},
   "source": [
    " 1) Primary Fuel          ---------------------       2) capacity_mw"
   ]
  },
  {
   "cell_type": "code",
   "execution_count": 26,
   "id": "b86db244",
   "metadata": {},
   "outputs": [
    {
     "data": {
      "text/plain": [
       "0    184\n",
       "2    180\n",
       "1     57\n",
       "4      8\n",
       "3      8\n",
       "Name: primary_fuel, dtype: int64"
      ]
     },
     "execution_count": 26,
     "metadata": {},
     "output_type": "execute_result"
    }
   ],
   "source": [
    "df['primary_fuel'].value_counts()"
   ]
  },
  {
   "cell_type": "code",
   "execution_count": 28,
   "id": "6e5b5644",
   "metadata": {},
   "outputs": [],
   "source": [
    "y=df.primary_fuel\n",
    "x=df.drop(columns='primary_fuel',axis=1)"
   ]
  },
  {
   "cell_type": "code",
   "execution_count": 29,
   "id": "ed46aefc",
   "metadata": {},
   "outputs": [],
   "source": [
    "from sklearn.model_selection import train_test_split\n",
    "x_train,x_test,y_train,y_test = train_test_split(x,y,test_size=0.2,stratify =y,random_state =42)"
   ]
  },
  {
   "cell_type": "code",
   "execution_count": 30,
   "id": "b9673b98",
   "metadata": {},
   "outputs": [],
   "source": [
    "from sklearn.linear_model import LogisticRegression\n",
    "from sklearn.metrics import accuracy_score"
   ]
  },
  {
   "cell_type": "code",
   "execution_count": 31,
   "id": "556d510c",
   "metadata": {},
   "outputs": [
    {
     "name": "stdout",
     "output_type": "stream",
     "text": [
      "accuracy= 69.31818181818183\n"
     ]
    }
   ],
   "source": [
    "clf1 = LogisticRegression(solver='liblinear')\n",
    "clf1.fit(x_train, y_train)\n",
    "lr_y_pred = clf1.predict(x_test)\n",
    "lr_accuracy = accuracy_score(y_test,lr_y_pred)*100\n",
    "\n",
    "print(\"accuracy=\",lr_accuracy)"
   ]
  },
  {
   "cell_type": "code",
   "execution_count": 32,
   "id": "72887e68",
   "metadata": {},
   "outputs": [
    {
     "name": "stdout",
     "output_type": "stream",
     "text": [
      "accuracy= 79.54545454545455\n"
     ]
    }
   ],
   "source": [
    "from sklearn.tree import DecisionTreeClassifier\n",
    "from sklearn import tree\n",
    "\n",
    "clf2 = tree.DecisionTreeClassifier()\n",
    "clf2 = clf2.fit(x_train, y_train)\n",
    "dtc_y_pred = clf2.predict(x_test)\n",
    "dtc_accuracy = accuracy_score(y_test,dtc_y_pred)*100\n",
    "\n",
    "print(\"accuracy=\",dtc_accuracy)"
   ]
  },
  {
   "cell_type": "code",
   "execution_count": 33,
   "id": "5736021a",
   "metadata": {},
   "outputs": [
    {
     "name": "stdout",
     "output_type": "stream",
     "text": [
      "accuracy= 69.31818181818183\n"
     ]
    }
   ],
   "source": [
    "from sklearn.ensemble import RandomForestClassifier\n",
    "\n",
    "clf3 = RandomForestClassifier()\n",
    "clf3.fit(x_train, y_train)\n",
    "rfc_y_pred = clf1.predict(x_test)\n",
    "rfc_accuracy = accuracy_score(y_test,rfc_y_pred) * 100\n",
    "print(\"accuracy=\",rfc_accuracy)"
   ]
  },
  {
   "cell_type": "code",
   "execution_count": 34,
   "id": "af36e7af",
   "metadata": {},
   "outputs": [
    {
     "data": {
      "text/plain": [
       "<AxesSubplot:>"
      ]
     },
     "execution_count": 34,
     "metadata": {},
     "output_type": "execute_result"
    },
    {
     "data": {
      "image/png": "[encoded data removed]",
      "text/plain": [
       "<Figure size 864x576 with 1 Axes>"
      ]
     },
     "metadata": {
      "needs_background": "light"
     },
     "output_type": "display_data"
    }
   ],
   "source": [
    "importances = pd.Series(clf3.feature_importances_,index=x.columns)\n",
    "importances.plot(kind='barh', figsize=(12,8))"
   ]
  },
  {
   "cell_type": "code",
   "execution_count": 35,
   "id": "36920b33",
   "metadata": {},
   "outputs": [
    {
     "data": {
      "text/html": [
       "<style>#sk-container-id-1 {color: black;background-color: white;}#sk-container-id-1 pre{padding: 0;}#sk-container-id-1 div.sk-toggleable {background-color: white;}#sk-container-id-1 label.sk-toggleable__label {cursor: pointer;display: block;width: 100%;margin-bottom: 0;padding: 0.3em;box-sizing: border-box;text-align: center;}#sk-container-id-1 label.sk-toggleable__label-arrow:before {content: \"▸\";float: left;margin-right: 0.25em;color: #696969;}#sk-container-id-1 label.sk-toggleable__label-arrow:hover:before {color: black;}#sk-container-id-1 div.sk-estimator:hover label.sk-toggleable__label-arrow:before {color: black;}#sk-container-id-1 div.sk-toggleable__content {max-height: 0;max-width: 0;overflow: hidden;text-align: left;background-color: #f0f8ff;}#sk-container-id-1 div.sk-toggleable__content pre {margin: 0.2em;color: black;border-radius: 0.25em;background-color: #f0f8ff;}#sk-container-id-1 input.sk-toggleable__control:checked~div.sk-toggleable__content {max-height: 200px;max-width: 100%;overflow: auto;}#sk-container-id-1 input.sk-toggleable__control:checked~label.sk-toggleable__label-arrow:before {content: \"▾\";}#sk-container-id-1 div.sk-estimator input.sk-toggleable__control:checked~label.sk-toggleable__label {background-color: #d4ebff;}#sk-container-id-1 div.sk-label input.sk-toggleable__control:checked~label.sk-toggleable__label {background-color: #d4ebff;}#sk-container-id-1 input.sk-hidden--visually {border: 0;clip: rect(1px 1px 1px 1px);clip: rect(1px, 1px, 1px, 1px);height: 1px;margin: -1px;overflow: hidden;padding: 0;position: absolute;width: 1px;}#sk-container-id-1 div.sk-estimator {font-family: monospace;background-color: #f0f8ff;border: 1px dotted black;border-radius: 0.25em;box-sizing: border-box;margin-bottom: 0.5em;}#sk-container-id-1 div.sk-estimator:hover {background-color: #d4ebff;}#sk-container-id-1 div.sk-parallel-item::after {content: \"\";width: 100%;border-bottom: 1px solid gray;flex-grow: 1;}#sk-container-id-1 div.sk-label:hover label.sk-toggleable__label {background-color: #d4ebff;}#sk-container-id-1 div.sk-serial::before {content: \"\";position: absolute;border-left: 1px solid gray;box-sizing: border-box;top: 0;bottom: 0;left: 50%;z-index: 0;}#sk-container-id-1 div.sk-serial {display: flex;flex-direction: column;align-items: center;background-color: white;padding-right: 0.2em;padding-left: 0.2em;position: relative;}#sk-container-id-1 div.sk-item {position: relative;z-index: 1;}#sk-container-id-1 div.sk-parallel {display: flex;align-items: stretch;justify-content: center;background-color: white;position: relative;}#sk-container-id-1 div.sk-item::before, #sk-container-id-1 div.sk-parallel-item::before {content: \"\";position: absolute;border-left: 1px solid gray;box-sizing: border-box;top: 0;bottom: 0;left: 50%;z-index: -1;}#sk-container-id-1 div.sk-parallel-item {display: flex;flex-direction: column;z-index: 1;position: relative;background-color: white;}#sk-container-id-1 div.sk-parallel-item:first-child::after {align-self: flex-end;width: 50%;}#sk-container-id-1 div.sk-parallel-item:last-child::after {align-self: flex-start;width: 50%;}#sk-container-id-1 div.sk-parallel-item:only-child::after {width: 0;}#sk-container-id-1 div.sk-dashed-wrapped {border: 1px dashed gray;margin: 0 0.4em 0.5em 0.4em;box-sizing: border-box;padding-bottom: 0.4em;background-color: white;}#sk-container-id-1 div.sk-label label {font-family: monospace;font-weight: bold;display: inline-block;line-height: 1.2em;}#sk-container-id-1 div.sk-label-container {text-align: center;}#sk-container-id-1 div.sk-container {/* jupyter's `normalize.less` sets `[hidden] { display: none; }` but bootstrap.min.css set `[hidden] { display: none !important; }` so we also need the `!important` here to be able to override the default hidden behavior on the sphinx rendered scikit-learn.org. See: https://github.com/scikit-learn/scikit-learn/issues/21755 */display: inline-block !important;position: relative;}#sk-container-id-1 div.sk-text-repr-fallback {display: none;}</style><div id=\"sk-container-id-1\" class=\"sk-top-container\"><div class=\"sk-text-repr-fallback\"><pre>RandomForestClassifier(max_depth=11, n_estimators=41, random_state=1)</pre><b>In a Jupyter environment, please rerun this cell to show the HTML representation or trust the notebook. <br />On GitHub, the HTML representation is unable to render, please try loading this page with nbviewer.org.</b></div><div class=\"sk-container\" hidden><div class=\"sk-item\"><div class=\"sk-estimator sk-toggleable\"><input class=\"sk-toggleable__control sk-hidden--visually\" id=\"sk-estimator-id-1\" type=\"checkbox\" checked><label for=\"sk-estimator-id-1\" class=\"sk-toggleable__label sk-toggleable__label-arrow\">RandomForestClassifier</label><div class=\"sk-toggleable__content\"><pre>RandomForestClassifier(max_depth=11, n_estimators=41, random_state=1)</pre></div></div></div></div></div>"
      ],
      "text/plain": [
       "RandomForestClassifier(max_depth=11, n_estimators=41, random_state=1)"
      ]
     },
     "execution_count": 35,
     "metadata": {},
     "output_type": "execute_result"
    }
   ],
   "source": [
    "from sklearn.model_selection import GridSearchCV\n",
    "\n",
    "paramgrid = {'max_depth': list(range(1,20,2)),'n_estimators':list(range(1,200,20))}\n",
    "grid_search = GridSearchCV(RandomForestClassifier(random_state=1),paramgrid)\n",
    "grid_search.fit(x_train,y_train)\n",
    "grid_search.best_estimator_"
   ]
  },
  {
   "cell_type": "code",
   "execution_count": 36,
   "id": "1715552a",
   "metadata": {},
   "outputs": [
    {
     "data": {
      "text/html": [
       "<style>#sk-container-id-2 {color: black;background-color: white;}#sk-container-id-2 pre{padding: 0;}#sk-container-id-2 div.sk-toggleable {background-color: white;}#sk-container-id-2 label.sk-toggleable__label {cursor: pointer;display: block;width: 100%;margin-bottom: 0;padding: 0.3em;box-sizing: border-box;text-align: center;}#sk-container-id-2 label.sk-toggleable__label-arrow:before {content: \"▸\";float: left;margin-right: 0.25em;color: #696969;}#sk-container-id-2 label.sk-toggleable__label-arrow:hover:before {color: black;}#sk-container-id-2 div.sk-estimator:hover label.sk-toggleable__label-arrow:before {color: black;}#sk-container-id-2 div.sk-toggleable__content {max-height: 0;max-width: 0;overflow: hidden;text-align: left;background-color: #f0f8ff;}#sk-container-id-2 div.sk-toggleable__content pre {margin: 0.2em;color: black;border-radius: 0.25em;background-color: #f0f8ff;}#sk-container-id-2 input.sk-toggleable__control:checked~div.sk-toggleable__content {max-height: 200px;max-width: 100%;overflow: auto;}#sk-container-id-2 input.sk-toggleable__control:checked~label.sk-toggleable__label-arrow:before {content: \"▾\";}#sk-container-id-2 div.sk-estimator input.sk-toggleable__control:checked~label.sk-toggleable__label {background-color: #d4ebff;}#sk-container-id-2 div.sk-label input.sk-toggleable__control:checked~label.sk-toggleable__label {background-color: #d4ebff;}#sk-container-id-2 input.sk-hidden--visually {border: 0;clip: rect(1px 1px 1px 1px);clip: rect(1px, 1px, 1px, 1px);height: 1px;margin: -1px;overflow: hidden;padding: 0;position: absolute;width: 1px;}#sk-container-id-2 div.sk-estimator {font-family: monospace;background-color: #f0f8ff;border: 1px dotted black;border-radius: 0.25em;box-sizing: border-box;margin-bottom: 0.5em;}#sk-container-id-2 div.sk-estimator:hover {background-color: #d4ebff;}#sk-container-id-2 div.sk-parallel-item::after {content: \"\";width: 100%;border-bottom: 1px solid gray;flex-grow: 1;}#sk-container-id-2 div.sk-label:hover label.sk-toggleable__label {background-color: #d4ebff;}#sk-container-id-2 div.sk-serial::before {content: \"\";position: absolute;border-left: 1px solid gray;box-sizing: border-box;top: 0;bottom: 0;left: 50%;z-index: 0;}#sk-container-id-2 div.sk-serial {display: flex;flex-direction: column;align-items: center;background-color: white;padding-right: 0.2em;padding-left: 0.2em;position: relative;}#sk-container-id-2 div.sk-item {position: relative;z-index: 1;}#sk-container-id-2 div.sk-parallel {display: flex;align-items: stretch;justify-content: center;background-color: white;position: relative;}#sk-container-id-2 div.sk-item::before, #sk-container-id-2 div.sk-parallel-item::before {content: \"\";position: absolute;border-left: 1px solid gray;box-sizing: border-box;top: 0;bottom: 0;left: 50%;z-index: -1;}#sk-container-id-2 div.sk-parallel-item {display: flex;flex-direction: column;z-index: 1;position: relative;background-color: white;}#sk-container-id-2 div.sk-parallel-item:first-child::after {align-self: flex-end;width: 50%;}#sk-container-id-2 div.sk-parallel-item:last-child::after {align-self: flex-start;width: 50%;}#sk-container-id-2 div.sk-parallel-item:only-child::after {width: 0;}#sk-container-id-2 div.sk-dashed-wrapped {border: 1px dashed gray;margin: 0 0.4em 0.5em 0.4em;box-sizing: border-box;padding-bottom: 0.4em;background-color: white;}#sk-container-id-2 div.sk-label label {font-family: monospace;font-weight: bold;display: inline-block;line-height: 1.2em;}#sk-container-id-2 div.sk-label-container {text-align: center;}#sk-container-id-2 div.sk-container {/* jupyter's `normalize.less` sets `[hidden] { display: none; }` but bootstrap.min.css set `[hidden] { display: none !important; }` so we also need the `!important` here to be able to override the default hidden behavior on the sphinx rendered scikit-learn.org. See: https://github.com/scikit-learn/scikit-learn/issues/21755 */display: inline-block !important;position: relative;}#sk-container-id-2 div.sk-text-repr-fallback {display: none;}</style><div id=\"sk-container-id-2\" class=\"sk-top-container\"><div class=\"sk-text-repr-fallback\"><pre>RandomForestClassifier(max_depth=15, n_estimators=61, random_state=1)</pre><b>In a Jupyter environment, please rerun this cell to show the HTML representation or trust the notebook. <br />On GitHub, the HTML representation is unable to render, please try loading this page with nbviewer.org.</b></div><div class=\"sk-container\" hidden><div class=\"sk-item\"><div class=\"sk-estimator sk-toggleable\"><input class=\"sk-toggleable__control sk-hidden--visually\" id=\"sk-estimator-id-2\" type=\"checkbox\" checked><label for=\"sk-estimator-id-2\" class=\"sk-toggleable__label sk-toggleable__label-arrow\">RandomForestClassifier</label><div class=\"sk-toggleable__content\"><pre>RandomForestClassifier(max_depth=15, n_estimators=61, random_state=1)</pre></div></div></div></div></div>"
      ],
      "text/plain": [
       "RandomForestClassifier(max_depth=15, n_estimators=61, random_state=1)"
      ]
     },
     "execution_count": 36,
     "metadata": {},
     "output_type": "execute_result"
    }
   ],
   "source": [
    "grid_forest_model = RandomForestClassifier(random_state=1,max_depth=15,n_estimators=61)\n",
    "grid_forest_model.fit(x_train,y_train)"
   ]
  },
  {
   "cell_type": "code",
   "execution_count": 37,
   "id": "c38c9e6c",
   "metadata": {},
   "outputs": [
    {
     "data": {
      "text/plain": [
       "87.5"
      ]
     },
     "execution_count": 37,
     "metadata": {},
     "output_type": "execute_result"
    }
   ],
   "source": [
    "pred_grid_forest = grid_forest_model.predict(x_test)\n",
    "score_grid_forest = accuracy_score(pred_grid_forest,y_test)*100\n",
    "score_grid_forest"
   ]
  },
  {
   "cell_type": "code",
   "execution_count": 38,
   "id": "c63f05d8",
   "metadata": {},
   "outputs": [
    {
     "name": "stdout",
     "output_type": "stream",
     "text": [
      "Accuracy of Random Forest Classifier = 69.31818181818183\n",
      "Accuracy of Logistic Regressor = 69.31818181818183\n",
      "Accuracy of Decision Tree Classifier =  79.54545454545455\n",
      "Accuracy of Grid search with Random Forest =  87.5\n"
     ]
    }
   ],
   "source": [
    "#Accuracies of all Classifiers\n",
    "print(\"Accuracy of Random Forest Classifier =\",rfc_accuracy)\n",
    "print(\"Accuracy of Logistic Regressor =\",lr_accuracy)\n",
    "print(\"Accuracy of Decision Tree Classifier = \",dtc_accuracy)\n",
    "print(\"Accuracy of Grid search with Random Forest = \",score_grid_forest)"
   ]
  },
  {
   "cell_type": "markdown",
   "id": "c0582235",
   "metadata": {},
   "source": []
  },
  {
   "cell_type": "code",
   "execution_count": 39,
   "id": "925dfe4c",
   "metadata": {},
   "outputs": [],
   "source": [
    "y1=df.capacity_mw\n",
    "x1=df.drop(columns='capacity_mw',axis=1)"
   ]
  },
  {
   "cell_type": "code",
   "execution_count": 40,
   "id": "9237fbde",
   "metadata": {},
   "outputs": [],
   "source": [
    "from sklearn.model_selection import train_test_split\n",
    "x_train, x_test, y_train, y_test = train_test_split(x1, y1, test_size = 0.30, random_state = 42)"
   ]
  },
  {
   "cell_type": "code",
   "execution_count": 42,
   "id": "93df4401",
   "metadata": {},
   "outputs": [
    {
     "name": "stdout",
     "output_type": "stream",
     "text": [
      "Logistic Regression: 70.45454545454545\n"
     ]
    }
   ],
   "source": [
    "from sklearn.linear_model import LogisticRegression\n",
    "from sklearn.metrics import accuracy_score\n",
    "lr = LogisticRegression()\n",
    "lr.fit(x_train, y_train)\n",
    "\n",
    "y_pred = lr.predict(x_test)\n",
    "lr_ac = accuracy_score(y_test, y_pred)\n",
    "print('Logistic Regression:', lr_ac * 100)"
   ]
  },
  {
   "cell_type": "code",
   "execution_count": 43,
   "id": "92b1d111",
   "metadata": {},
   "outputs": [
    {
     "name": "stdout",
     "output_type": "stream",
     "text": [
      "SVM: 68.18181818181817\n"
     ]
    }
   ],
   "source": [
    "from sklearn.svm import SVC\n",
    "from sklearn.metrics import accuracy_score\n",
    "svc = SVC(kernel = 'rbf', random_state = 42)\n",
    "svc.fit(x_train, y_train)\n",
    "\n",
    "y_pred = svc.predict(x_test)\n",
    "svc_ac = accuracy_score(y_test, y_pred)\n",
    "print('SVM:', svc_ac * 100)"
   ]
  },
  {
   "cell_type": "code",
   "execution_count": 44,
   "id": "43cd0d98",
   "metadata": {},
   "outputs": [
    {
     "name": "stdout",
     "output_type": "stream",
     "text": [
      "Knn: 67.04545454545455\n"
     ]
    }
   ],
   "source": [
    "from sklearn.neighbors import KNeighborsClassifier\n",
    "knn = KNeighborsClassifier(n_neighbors = 5, metric = 'minkowski', p = 2)\n",
    "knn.fit(x_train, y_train)\n",
    "\n",
    "y_pred = knn.predict(x_test)\n",
    "knn_acc = accuracy_score(y_test, y_pred)\n",
    "print('Knn:',knn_acc * 100)"
   ]
  },
  {
   "cell_type": "code",
   "execution_count": 45,
   "id": "e57e0a31",
   "metadata": {},
   "outputs": [
    {
     "name": "stdout",
     "output_type": "stream",
     "text": [
      "Decision Tree: 77.27272727272727\n"
     ]
    }
   ],
   "source": [
    "from sklearn.tree import DecisionTreeClassifier\n",
    "dtc = DecisionTreeClassifier(criterion = 'entropy', random_state = 0)\n",
    "dtc.fit(x_train, y_train)\n",
    "\n",
    "y_pred =dtc.predict(x_test)\n",
    "dtc_acc = accuracy_score(y_test, y_pred)\n",
    "print('Decision Tree:',dtc_acc * 100)"
   ]
  },
  {
   "cell_type": "code",
   "execution_count": 46,
   "id": "5f12eb7d",
   "metadata": {},
   "outputs": [
    {
     "name": "stdout",
     "output_type": "stream",
     "text": [
      "Random Forest: 84.0909090909091\n"
     ]
    }
   ],
   "source": [
    "from sklearn.ensemble import RandomForestClassifier\n",
    "from sklearn.metrics import confusion_matrix as cm\n",
    "from sklearn.metrics import classification_report as cr\n",
    "rfc= RandomForestClassifier(n_estimators = 300, criterion = 'entropy', random_state = 0)\n",
    "rfc.fit(x_train, y_train)\n",
    "\n",
    "y_pred = rfc.predict(x_test)\n",
    "rfc_acc = accuracy_score(y_test, y_pred)\n",
    "print('Random Forest:',rfc_acc * 100)"
   ]
  },
  {
   "cell_type": "code",
   "execution_count": 47,
   "id": "3f67d168",
   "metadata": {},
   "outputs": [
    {
     "name": "stdout",
     "output_type": "stream",
     "text": [
      "[[33  4  0  0  0]\n",
      " [ 3  7  1  0  0]\n",
      " [ 3  0 33  0  0]\n",
      " [ 1  0  1  0  0]\n",
      " [ 0  0  1  0  1]]\n",
      "              precision    recall  f1-score   support\n",
      "\n",
      "           0       0.82      0.89      0.86        37\n",
      "           1       0.64      0.64      0.64        11\n",
      "           2       0.92      0.92      0.92        36\n",
      "           3       0.00      0.00      0.00         2\n",
      "           4       1.00      0.50      0.67         2\n",
      "\n",
      "    accuracy                           0.84        88\n",
      "   macro avg       0.68      0.59      0.62        88\n",
      "weighted avg       0.82      0.84      0.83        88\n",
      "\n"
     ]
    }
   ],
   "source": [
    "l=[]\n",
    "l.extend([lr_ac,svc_ac,knn_acc,dtc_acc,rfc_acc])\n",
    "print(cm(y_test, y_pred))\n",
    "print(cr(y_test, y_pred))"
   ]
  },
  {
   "cell_type": "code",
   "execution_count": 48,
   "id": "0ea1787a",
   "metadata": {},
   "outputs": [
    {
     "data": {
      "text/plain": [
       "Text(0.5, 0, 'Accuracy')"
      ]
     },
     "execution_count": 48,
     "metadata": {},
     "output_type": "execute_result"
    },
    {
     "data": {
      "image/png": "[encoded data removed]",
      "text/plain": [
       "<Figure size 432x288 with 1 Axes>"
      ]
     },
     "metadata": {
      "needs_background": "light"
     },
     "output_type": "display_data"
    }
   ],
   "source": [
    "y_axis=['Logistic Regression',\n",
    "     'Support Vector Classifier',\n",
    "        'K-Neighbors Classifier',\n",
    "      'Decision Tree Classifier',\n",
    "      'Random Forest Classifier']\n",
    "x_axis=l\n",
    "sns.barplot(x=x_axis,y=y_axis)\n",
    "plt.xlabel('Accuracy')"
   ]
  },
  {
   "cell_type": "code",
   "execution_count": null,
   "id": "29157abb",
   "metadata": {},
   "outputs": [],
   "source": []
  },
  {
   "cell_type": "code",
   "execution_count": null,
   "id": "505fcf00",
   "metadata": {},
   "outputs": [],
   "source": []
  },
  {
   "cell_type": "code",
   "execution_count": null,
   "id": "652ef300",
   "metadata": {},
   "outputs": [],
   "source": []
  }
 ],
 "metadata": {
  "kernelspec": {
   "display_name": "Python 3 (ipykernel)",
   "language": "python",
   "name": "python3"
  },
  "language_info": {
   "codemirror_mode": {
    "name": "ipython",
    "version": 3
   },
   "file_extension": ".py",
   "mimetype": "text/x-python",
   "name": "python",
   "nbconvert_exporter": "python",
   "pygments_lexer": "ipython3",
   "version": "3.9.7"
  }
 },
 "nbformat": 4,
 "nbformat_minor": 5
}
