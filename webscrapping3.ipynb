{
 "cells": [
  {
   "cell_type": "markdown",
   "id": "aed9e4da",
   "metadata": {},
   "source": [
    "4)Write a python program to search for a smartphone(e.g.: Oneplus Nord, pixel 4A, etc.) on www.flipkart.com and scrape following details for all the search results displayed on 1st page.\n",
    "Details to be scraped: “Brand Name”, “Smartphone name”, “Colour”, “RAM”, “Storage(ROM)”, “Primary Camera”, “Secondary Camera”, “Display Size”, “Battery Capacity”, “Price”, “Product URL”.\n",
    "Incase if any of the details is missing then replace it by “- “. Save your results in a dataframe and CSV."
   ]
  },
  {
   "cell_type": "code",
   "execution_count": null,
   "id": "472cbe72",
   "metadata": {},
   "outputs": [],
   "source": [
    "import selenium\n",
    "import pandas as pd\n",
    "from bs4 import BeautifulSoup\n",
    "from selenium import webdriver\n",
    "import warnings\n",
    "from selenium import webdriver\n",
    "warnings.filterwarnings(\"ignore\")\n",
    "import time\n",
    "import csv"
   ]
  },
  {
   "cell_type": "code",
   "execution_count": 50,
   "id": "9c2a2c83",
   "metadata": {},
   "outputs": [],
   "source": [
    "driver = webdriver.Chrome(r\"C:\\Users\\SSIM STUDENT\\Desktop\\job\\DA\\chromedriver.exe\")\n",
    "time.sleep(0)"
   ]
  },
  {
   "cell_type": "code",
   "execution_count": 51,
   "id": "498db2ed",
   "metadata": {},
   "outputs": [],
   "source": [
    "driver.get('https://www.flipkart.com/')"
   ]
  },
  {
   "cell_type": "code",
   "execution_count": 52,
   "id": "6c49624c",
   "metadata": {},
   "outputs": [],
   "source": [
    "button = driver.find_element_by_xpath('//button[@class=\"_2KpZ6l _2doB4z\"]')\n",
    "button.click()"
   ]
  },
  {
   "cell_type": "code",
   "execution_count": 53,
   "id": "e3a1769d",
   "metadata": {},
   "outputs": [],
   "source": [
    "field_desi = driver.find_element_by_class_name(\"_3704LK\")\n",
    "field_desi.send_keys('Oneplus Nord')"
   ]
  },
  {
   "cell_type": "code",
   "execution_count": 54,
   "id": "ebb7924b",
   "metadata": {},
   "outputs": [],
   "source": [
    "button = driver.find_element_by_class_name(\"L0Z3Pu\")\n",
    "button.click()"
   ]
  },
  {
   "cell_type": "code",
   "execution_count": 55,
   "id": "4850621b",
   "metadata": {},
   "outputs": [],
   "source": [
    "def get_url(search_item):\n",
    "    '''\n",
    "    This function fetches the URL of the item that you want to search\n",
    "    '''\n",
    "    template = 'https://www.flipkart.com/search?q=Oneplus%20Nord&otracker=search&otracker1=search&marketplace=FLIPKART&as-show=on&as=off'\n",
    "    # We'are replacing every space with '+' to adhere with the pattern \n",
    "    search_item = search_item.replace(\" \",\"+\")\n",
    "    return template.format(search_item)"
   ]
  },
  {
   "cell_type": "code",
   "execution_count": 56,
   "id": "0380839b",
   "metadata": {},
   "outputs": [
    {
     "name": "stdout",
     "output_type": "stream",
     "text": [
      "https://www.flipkart.com/search?q=Oneplus%20Nord&otracker=search&otracker1=search&marketplace=FLIPKART&as-show=on&as=off\n"
     ]
    }
   ],
   "source": [
    "# Checking whether the function is working properly or not\n",
    "url = get_url('mobile phones')\n",
    "print(url)"
   ]
  },
  {
   "cell_type": "code",
   "execution_count": 57,
   "id": "d31daff0",
   "metadata": {},
   "outputs": [],
   "source": [
    "# Creating a soup object using driver.page_source to retreive the HTML text and then we'll use the default html parser to parse\n",
    "# the HTML.\n",
    "soup = BeautifulSoup(driver.page_source, 'html.parser')"
   ]
  },
  {
   "cell_type": "code",
   "execution_count": 58,
   "id": "ec9c3e3c",
   "metadata": {},
   "outputs": [
    {
     "data": {
      "text/plain": [
       "24"
      ]
     },
     "execution_count": 58,
     "metadata": {},
     "output_type": "execute_result"
    }
   ],
   "source": [
    "results = soup.find_all('a',{'class':\"_1fQZEK\"})\n",
    "len(results)"
   ]
  },
  {
   "cell_type": "code",
   "execution_count": 59,
   "id": "f5553124",
   "metadata": {},
   "outputs": [],
   "source": [
    "item = results[0]"
   ]
  },
  {
   "cell_type": "code",
   "execution_count": 60,
   "id": "73748f30",
   "metadata": {},
   "outputs": [
    {
     "data": {
      "text/plain": [
       "'OnePlus Nord CE 2 Lite 5G (Black Dusk, 128 GB)'"
      ]
     },
     "execution_count": 60,
     "metadata": {},
     "output_type": "execute_result"
    }
   ],
   "source": [
    "# Extracting the model of the phone from the 1st card\n",
    "model = item.find('div',{'class':\"_4rR01T\"}).text\n",
    "model"
   ]
  },
  {
   "cell_type": "code",
   "execution_count": 61,
   "id": "9d78005d",
   "metadata": {},
   "outputs": [
    {
     "data": {
      "text/plain": [
       "'4.4'"
      ]
     },
     "execution_count": 61,
     "metadata": {},
     "output_type": "execute_result"
    }
   ],
   "source": [
    "star = item.find('div',{'class':\"_3LWZlK\"}).text\n",
    "star"
   ]
  },
  {
   "cell_type": "code",
   "execution_count": 62,
   "id": "a49ebf90",
   "metadata": {},
   "outputs": [],
   "source": [
    "# Extracting price of the model from the 1st card\n",
    "price = item.find('div',{'class':'_30jeq3 _1_WHN1'}).text"
   ]
  },
  {
   "cell_type": "code",
   "execution_count": 63,
   "id": "1f08e95d",
   "metadata": {},
   "outputs": [
    {
     "data": {
      "text/plain": [
       "'12 months'"
      ]
     },
     "execution_count": 63,
     "metadata": {},
     "output_type": "execute_result"
    }
   ],
   "source": [
    "# Extracting Warranty from the 1st card\n",
    "warranty = item.find_all('li')[-1].text.strip()\n",
    "warranty"
   ]
  },
  {
   "cell_type": "code",
   "execution_count": 64,
   "id": "209f2abb",
   "metadata": {},
   "outputs": [
    {
     "data": {
      "text/plain": [
       "'12 months'"
      ]
     },
     "execution_count": 64,
     "metadata": {},
     "output_type": "execute_result"
    }
   ],
   "source": [
    "# Extracting the processir option from the 1st card\n",
    "processor = item.find_all('li')[4].text.strip()\n",
    "processor"
   ]
  },
  {
   "cell_type": "code",
   "execution_count": 65,
   "id": "822a7d47",
   "metadata": {},
   "outputs": [
    {
     "data": {
      "text/plain": [
       "'5000 mAh Battery'"
      ]
     },
     "execution_count": 65,
     "metadata": {},
     "output_type": "execute_result"
    }
   ],
   "source": [
    "# Extracting the battery option from the 1st card\n",
    "battery = item.find_all('li')[3].text\n",
    "battery"
   ]
  },
  {
   "cell_type": "code",
   "execution_count": 66,
   "id": "0c3c0de6",
   "metadata": {},
   "outputs": [
    {
     "data": {
      "text/plain": [
       "'64MP Rear Camera'"
      ]
     },
     "execution_count": 66,
     "metadata": {},
     "output_type": "execute_result"
    }
   ],
   "source": [
    "# Extracting camera options from the 1st card\n",
    "camera = item.find_all('li')[2].text.strip()\n",
    "camera"
   ]
  },
  {
   "cell_type": "code",
   "execution_count": 67,
   "id": "084fb40f",
   "metadata": {},
   "outputs": [
    {
     "data": {
      "text/plain": [
       "'16.74 cm (6.59 inch) Display'"
      ]
     },
     "execution_count": 67,
     "metadata": {},
     "output_type": "execute_result"
    }
   ],
   "source": [
    "# Extracting the display option from the 1st card\n",
    "display = item.find_all('li')[1].text.strip()\n",
    "display"
   ]
  },
  {
   "cell_type": "code",
   "execution_count": 68,
   "id": "1adc712e",
   "metadata": {},
   "outputs": [
    {
     "data": {
      "text/plain": [
       "''"
      ]
     },
     "execution_count": 68,
     "metadata": {},
     "output_type": "execute_result"
    }
   ],
   "source": [
    "# Extracting whether there is an option of expanding the storage or not\n",
    "expandable = item.find('li',{'class':\"rgWa7D\"}).text[item.find('li',{'class':\"rgWa7D\"}).text.find('|')+1:][13:]\n",
    "expandable"
   ]
  },
  {
   "cell_type": "code",
   "execution_count": 69,
   "id": "b0a5139b",
   "metadata": {},
   "outputs": [
    {
     "data": {
      "text/plain": [
       "'128 GB RO'"
      ]
     },
     "execution_count": 69,
     "metadata": {},
     "output_type": "execute_result"
    }
   ],
   "source": [
    "# Extracting Storage/ROM from 1st card\n",
    "storage = item.find('li',{'class':\"rgWa7D\"}).text[item.find('li',{'class':\"rgWa7D\"}).text.find('|')+1:][0:10].strip()\n",
    "storage"
   ]
  },
  {
   "cell_type": "code",
   "execution_count": 70,
   "id": "22109eb9",
   "metadata": {},
   "outputs": [
    {
     "data": {
      "text/plain": [
       "'6 GB RAM '"
      ]
     },
     "execution_count": 70,
     "metadata": {},
     "output_type": "execute_result"
    }
   ],
   "source": [
    "# Extracting RAM from the 1st card\n",
    "ram = item.find('li',{'class':\"rgWa7D\"}).text[0:item.find('li',{'class':\"rgWa7D\"}).text.find('|')]\n",
    "ram"
   ]
  },
  {
   "cell_type": "code",
   "execution_count": 71,
   "id": "d824d4ca",
   "metadata": {},
   "outputs": [],
   "source": [
    "def extract_phone_model_info(item):\n",
    "    #Extracting the model of the phone from the 1st card\n",
    "    model = item.find('div',{'class':\"_4rR01T\"}).text\n",
    "    # Extracting RAM from the 1st card\n",
    "    ram = item.find('li',{'class':\"rgWa7D\"}).text[0:item.find('li',{'class':\"rgWa7D\"}).text.find('|')]\n",
    "    # Extracting Storage/ROM from 1st card\n",
    "    storage = item.find('li',{'class':\"rgWa7D\"}).text[item.find('li',{'class':\"rgWa7D\"}).text.find('|')+1:][0:10].strip()\n",
    "    # Extracting whether there is an option of expanding the storage or not\n",
    "    expandable = item.find('li',{'class':\"rgWa7D\"}).text[item.find('li',{'class':\"rgWa7D\"}).text.find('|')+1:][13:]\n",
    "    # Extracting the display option from the 1st card\n",
    "    display = item.find_all('li')[1].text.strip()\n",
    "    # Extracting camera options from the 1st card\n",
    "    camera = item.find_all('li')[2].text.strip()\n",
    "    # Extracting the battery option from the 1st card\n",
    "    battery = item.find_all('li')[3].text\n",
    "    # Extracting the processir option from the 1st card\n",
    "    processor = item.find_all('li')[4].text.strip()\n",
    "    # Extracting Warranty from the 1st card\n",
    "    warranty = item.find_all('li')[-1].text.strip()\n",
    "    result = (model,ram,storage,expandable,display,camera,battery,processor,warranty)\n",
    "    return result"
   ]
  },
  {
   "cell_type": "code",
   "execution_count": 72,
   "id": "f129e98e",
   "metadata": {},
   "outputs": [],
   "source": [
    "# Now putting all the information from all the cards/phone models and putting them into a list\n",
    "records_list = []\n",
    "results = soup.find_all('a',{'class':\"_1fQZEK\"})\n",
    "for item in results:\n",
    "    records_list.append(extract_phone_model_info(item))"
   ]
  },
  {
   "cell_type": "code",
   "execution_count": 73,
   "id": "8cfab045",
   "metadata": {},
   "outputs": [
    {
     "data": {
      "text/html": [
       "<div>\n",
       "<style scoped>\n",
       "    .dataframe tbody tr th:only-of-type {\n",
       "        vertical-align: middle;\n",
       "    }\n",
       "\n",
       "    .dataframe tbody tr th {\n",
       "        vertical-align: top;\n",
       "    }\n",
       "\n",
       "    .dataframe thead th {\n",
       "        text-align: right;\n",
       "    }\n",
       "</style>\n",
       "<table border=\"1\" class=\"dataframe\">\n",
       "  <thead>\n",
       "    <tr style=\"text-align: right;\">\n",
       "      <th></th>\n",
       "      <th>model</th>\n",
       "      <th>ram</th>\n",
       "      <th>storage</th>\n",
       "      <th>expandable</th>\n",
       "      <th>display</th>\n",
       "      <th>camera</th>\n",
       "      <th>battery</th>\n",
       "      <th>processor</th>\n",
       "      <th>warranty</th>\n",
       "    </tr>\n",
       "  </thead>\n",
       "  <tbody>\n",
       "    <tr>\n",
       "      <th>0</th>\n",
       "      <td>OnePlus Nord CE 2 Lite 5G (Black Dusk, 128 GB)</td>\n",
       "      <td>6 GB RAM</td>\n",
       "      <td>128 GB RO</td>\n",
       "      <td></td>\n",
       "      <td>16.74 cm (6.59 inch) Display</td>\n",
       "      <td>64MP Rear Camera</td>\n",
       "      <td>5000 mAh Battery</td>\n",
       "      <td>12 months</td>\n",
       "      <td>12 months</td>\n",
       "    </tr>\n",
       "    <tr>\n",
       "      <th>1</th>\n",
       "      <td>OnePlus Nord CE 2 Lite 5G (Blue Tide, 128 GB)</td>\n",
       "      <td>6 GB RAM</td>\n",
       "      <td>128 GB RO</td>\n",
       "      <td></td>\n",
       "      <td>16.74 cm (6.59 inch) Display</td>\n",
       "      <td>64MP Rear Camera</td>\n",
       "      <td>5000 mAh Battery</td>\n",
       "      <td>12 months</td>\n",
       "      <td>12 months</td>\n",
       "    </tr>\n",
       "    <tr>\n",
       "      <th>2</th>\n",
       "      <td>OnePlus Nord 2 5G (Green Wood, 256 GB)</td>\n",
       "      <td>12 GB RAM</td>\n",
       "      <td>256 GB RO</td>\n",
       "      <td></td>\n",
       "      <td>16.33 cm (6.43 inch) Display</td>\n",
       "      <td>50MP Rear Camera</td>\n",
       "      <td>4500 mAh Battery</td>\n",
       "      <td>12 Months</td>\n",
       "      <td>12 Months</td>\n",
       "    </tr>\n",
       "    <tr>\n",
       "      <th>3</th>\n",
       "      <td>OnePlus Nord CE 2 Lite 5G (Blue Tide, 128 GB)</td>\n",
       "      <td>8 GB RAM</td>\n",
       "      <td>128 GB RO</td>\n",
       "      <td></td>\n",
       "      <td>16.74 cm (6.59 inch) Display</td>\n",
       "      <td>64MP Rear Camera</td>\n",
       "      <td>5000 mAh Battery</td>\n",
       "      <td>12 months</td>\n",
       "      <td>12 months</td>\n",
       "    </tr>\n",
       "    <tr>\n",
       "      <th>4</th>\n",
       "      <td>OnePlus Nord CE 2 Lite 5G (Black Dusk, 128 GB)</td>\n",
       "      <td>8 GB RAM</td>\n",
       "      <td>128 GB RO</td>\n",
       "      <td></td>\n",
       "      <td>16.74 cm (6.59 inch) Display</td>\n",
       "      <td>64MP Rear Camera</td>\n",
       "      <td>5000 mAh Battery</td>\n",
       "      <td>12 months</td>\n",
       "      <td>12 months</td>\n",
       "    </tr>\n",
       "    <tr>\n",
       "      <th>5</th>\n",
       "      <td>OnePlus Nord 2 5G (Blue Haze, 128 GB)</td>\n",
       "      <td>8 GB RAM</td>\n",
       "      <td>128 GB RO</td>\n",
       "      <td></td>\n",
       "      <td>16.33 cm (6.43 inch) Display</td>\n",
       "      <td>50MP Rear Camera</td>\n",
       "      <td>4500 mAh Battery</td>\n",
       "      <td>1 year Warranty</td>\n",
       "      <td>1 year Warranty</td>\n",
       "    </tr>\n",
       "    <tr>\n",
       "      <th>6</th>\n",
       "      <td>OnePlus Nord 2 5G (PAC-MAN, 256 GB)</td>\n",
       "      <td>12 GB RAM</td>\n",
       "      <td>256 GB RO</td>\n",
       "      <td></td>\n",
       "      <td>16.33 cm (6.43 inch) Display</td>\n",
       "      <td>50MP Rear Camera</td>\n",
       "      <td>4500 mAh Battery</td>\n",
       "      <td>12 months</td>\n",
       "      <td>12 months</td>\n",
       "    </tr>\n",
       "    <tr>\n",
       "      <th>7</th>\n",
       "      <td>OnePlus Nord (Gray Onyx, 128 GB)</td>\n",
       "      <td>8 GB RAM</td>\n",
       "      <td>128 GB RO</td>\n",
       "      <td></td>\n",
       "      <td>16.36 cm (6.44 inch) Full HD+ Display</td>\n",
       "      <td>48MP + 8MP | 32MP + 8MP Dual Front Camera</td>\n",
       "      <td>4115 mAh Battery</td>\n",
       "      <td>Qualcomm® Snapdragon™ 765G Processor</td>\n",
       "      <td>1 Year</td>\n",
       "    </tr>\n",
       "    <tr>\n",
       "      <th>8</th>\n",
       "      <td>OnePlus Nord (Gray Onyx, 256 GB)</td>\n",
       "      <td>12 GB RAM</td>\n",
       "      <td>256 GB RO</td>\n",
       "      <td></td>\n",
       "      <td>16.36 cm (6.44 inch) Full HD+ Display</td>\n",
       "      <td>48MP + 8MP | 32MP + 8MP Dual Front Camera</td>\n",
       "      <td>4115 mAh Battery</td>\n",
       "      <td>Qualcomm® Snapdragon™ 765G Processor</td>\n",
       "      <td>1 Year</td>\n",
       "    </tr>\n",
       "    <tr>\n",
       "      <th>9</th>\n",
       "      <td>OnePlus Nord (Gray Onyx, 64 GB)</td>\n",
       "      <td>6 GB RAM</td>\n",
       "      <td>64 GB ROM</td>\n",
       "      <td></td>\n",
       "      <td>16.36 cm (6.44 inch) Full HD+ Display</td>\n",
       "      <td>48MP + 8MP | 32MP + 8MP Dual Front Camera</td>\n",
       "      <td>4115 mAh Battery</td>\n",
       "      <td>Qualcomm® Snapdragon™ 765G Processor</td>\n",
       "      <td>1 Year</td>\n",
       "    </tr>\n",
       "    <tr>\n",
       "      <th>10</th>\n",
       "      <td>OnePlus Nord (Blue Marble, 256 GB)</td>\n",
       "      <td>12 GB RAM</td>\n",
       "      <td>256 GB RO</td>\n",
       "      <td></td>\n",
       "      <td>16.36 cm (6.44 inch) Full HD+ Display</td>\n",
       "      <td>48MP + 8MP | 32MP + 8MP Dual Front Camera</td>\n",
       "      <td>4115 mAh Battery</td>\n",
       "      <td>Qualcomm® Snapdragon™ 765G Processor</td>\n",
       "      <td>1 Year</td>\n",
       "    </tr>\n",
       "    <tr>\n",
       "      <th>11</th>\n",
       "      <td>OnePlus Nord (Blue Marble, 128 GB)</td>\n",
       "      <td>8 GB RAM</td>\n",
       "      <td>128 GB RO</td>\n",
       "      <td></td>\n",
       "      <td>16.36 cm (6.44 inch) Full HD+ Display</td>\n",
       "      <td>48MP + 8MP | 32MP + 8MP Dual Front Camera</td>\n",
       "      <td>4115 mAh Battery</td>\n",
       "      <td>Qualcomm® Snapdragon™ 765G Processor</td>\n",
       "      <td>1 Year</td>\n",
       "    </tr>\n",
       "    <tr>\n",
       "      <th>12</th>\n",
       "      <td>OnePlus Nord (Blue Marble, 64 GB)</td>\n",
       "      <td>6 GB RAM</td>\n",
       "      <td>64 GB ROM</td>\n",
       "      <td></td>\n",
       "      <td>16.36 cm (6.44 inch) Full HD+ Display</td>\n",
       "      <td>48MP + 8MP | 32MP + 8MP Dual Front Camera</td>\n",
       "      <td>4115 mAh Battery</td>\n",
       "      <td>Qualcomm® Snapdragon™ 765G Processor</td>\n",
       "      <td>1 Year</td>\n",
       "    </tr>\n",
       "    <tr>\n",
       "      <th>13</th>\n",
       "      <td>OnePlus Nord CE 2 5G (Gray Mirror, 128 GB)</td>\n",
       "      <td>6 GB RAM</td>\n",
       "      <td>128 GB RO</td>\n",
       "      <td></td>\n",
       "      <td>16.33 cm (6.43 inch) Display</td>\n",
       "      <td>64MP Rear Camera</td>\n",
       "      <td>4500 mAh Battery</td>\n",
       "      <td>1 Year Warranty</td>\n",
       "      <td>1 Year Warranty</td>\n",
       "    </tr>\n",
       "    <tr>\n",
       "      <th>14</th>\n",
       "      <td>OnePlus Nord CE 2 5G (Bahama Blue, 128 GB)</td>\n",
       "      <td>8 GB RAM</td>\n",
       "      <td>128 GB RO</td>\n",
       "      <td></td>\n",
       "      <td>16.33 cm (6.43 inch) Display</td>\n",
       "      <td>64MP Rear Camera</td>\n",
       "      <td>4500 mAh Battery</td>\n",
       "      <td>1 Year Warranty</td>\n",
       "      <td>1 Year Warranty</td>\n",
       "    </tr>\n",
       "    <tr>\n",
       "      <th>15</th>\n",
       "      <td>OnePlus Nord CE 2 5G (Gray Mirror, 128 GB)</td>\n",
       "      <td>8 GB RAM</td>\n",
       "      <td>128 GB RO</td>\n",
       "      <td></td>\n",
       "      <td>16.33 cm (6.43 inch) Display</td>\n",
       "      <td>64MP Rear Camera</td>\n",
       "      <td>4500 mAh Battery</td>\n",
       "      <td>1 Year</td>\n",
       "      <td>1 Year</td>\n",
       "    </tr>\n",
       "    <tr>\n",
       "      <th>16</th>\n",
       "      <td>OnePlus Nord 2 5G (Gray Sierra, 256 GB)</td>\n",
       "      <td>12 GB RAM</td>\n",
       "      <td>256 GB RO</td>\n",
       "      <td></td>\n",
       "      <td>16.33 cm (6.43 inch) Display</td>\n",
       "      <td>50MP Rear Camera</td>\n",
       "      <td>4500 mAh Battery</td>\n",
       "      <td>1 year Warranty</td>\n",
       "      <td>1 year Warranty</td>\n",
       "    </tr>\n",
       "    <tr>\n",
       "      <th>17</th>\n",
       "      <td>OnePlus Nord CE 2 5G (Bahama Blue, 128 GB)</td>\n",
       "      <td>6 GB RAM</td>\n",
       "      <td>128 GB RO</td>\n",
       "      <td></td>\n",
       "      <td>16.33 cm (6.43 inch) Display</td>\n",
       "      <td>64MP Rear Camera</td>\n",
       "      <td>4500 mAh Battery</td>\n",
       "      <td>1 Year Warranty</td>\n",
       "      <td>1 Year Warranty</td>\n",
       "    </tr>\n",
       "    <tr>\n",
       "      <th>18</th>\n",
       "      <td>OnePlus Nord 2 5G (Blue Haze, 256 GB)</td>\n",
       "      <td>12 GB RAM</td>\n",
       "      <td>256 GB RO</td>\n",
       "      <td></td>\n",
       "      <td>16.33 cm (6.43 inch) Display</td>\n",
       "      <td>50MP Rear Camera</td>\n",
       "      <td>4500 mAh Battery</td>\n",
       "      <td>1 year Warranty</td>\n",
       "      <td>1 year Warranty</td>\n",
       "    </tr>\n",
       "    <tr>\n",
       "      <th>19</th>\n",
       "      <td>OnePlus Nord CE 5G (Charcoal Ink, 256 GB)</td>\n",
       "      <td>12 GB RAM</td>\n",
       "      <td>256 GB RO</td>\n",
       "      <td></td>\n",
       "      <td>16.33 cm (6.43 inch) Display</td>\n",
       "      <td>64MP Rear Camera</td>\n",
       "      <td>4500 mAh Battery</td>\n",
       "      <td>1 Year</td>\n",
       "      <td>1 Year</td>\n",
       "    </tr>\n",
       "    <tr>\n",
       "      <th>20</th>\n",
       "      <td>OnePlus Nord CE 5G (Blue Void, 256 GB)</td>\n",
       "      <td>12 GB RAM</td>\n",
       "      <td>256 GB RO</td>\n",
       "      <td></td>\n",
       "      <td>16.33 cm (6.43 inch) Display</td>\n",
       "      <td>64MP Rear Camera</td>\n",
       "      <td>4500 mAh Battery</td>\n",
       "      <td>Qualcomm Snapdragon Octa Core 750G 5G Processo...</td>\n",
       "      <td>1 Year</td>\n",
       "    </tr>\n",
       "    <tr>\n",
       "      <th>21</th>\n",
       "      <td>OnePlus Nord CE 5G (Silver Ray, 128 GB)</td>\n",
       "      <td>6 GB RAM</td>\n",
       "      <td>128 GB RO</td>\n",
       "      <td></td>\n",
       "      <td>16.33 cm (6.43 inch) Display</td>\n",
       "      <td>64MP Rear Camera</td>\n",
       "      <td>4500 mAh Battery</td>\n",
       "      <td>1 Year</td>\n",
       "      <td>1 Year</td>\n",
       "    </tr>\n",
       "    <tr>\n",
       "      <th>22</th>\n",
       "      <td>OnePlus Nord 2T 5G (Gray Shadow, 128 GB)</td>\n",
       "      <td>8 GB RAM</td>\n",
       "      <td>128 GB RO</td>\n",
       "      <td></td>\n",
       "      <td>17.02 cm (6.7 inch) Display</td>\n",
       "      <td>50MP Rear Camera</td>\n",
       "      <td>4500 mAh Battery</td>\n",
       "      <td>12 months Warranty</td>\n",
       "      <td>12 months Warranty</td>\n",
       "    </tr>\n",
       "    <tr>\n",
       "      <th>23</th>\n",
       "      <td>OnePlus Nord 2T 5G (Jade Fog, 128 GB)</td>\n",
       "      <td>8 GB RAM</td>\n",
       "      <td>128 GB RO</td>\n",
       "      <td></td>\n",
       "      <td>17.02 cm (6.7 inch) Display</td>\n",
       "      <td>50MP Rear Camera</td>\n",
       "      <td>4500 mAh Battery</td>\n",
       "      <td>12 months Warranty</td>\n",
       "      <td>12 months Warranty</td>\n",
       "    </tr>\n",
       "  </tbody>\n",
       "</table>\n",
       "</div>"
      ],
      "text/plain": [
       "                                             model         ram    storage  \\\n",
       "0   OnePlus Nord CE 2 Lite 5G (Black Dusk, 128 GB)   6 GB RAM   128 GB RO   \n",
       "1    OnePlus Nord CE 2 Lite 5G (Blue Tide, 128 GB)   6 GB RAM   128 GB RO   \n",
       "2           OnePlus Nord 2 5G (Green Wood, 256 GB)  12 GB RAM   256 GB RO   \n",
       "3    OnePlus Nord CE 2 Lite 5G (Blue Tide, 128 GB)   8 GB RAM   128 GB RO   \n",
       "4   OnePlus Nord CE 2 Lite 5G (Black Dusk, 128 GB)   8 GB RAM   128 GB RO   \n",
       "5            OnePlus Nord 2 5G (Blue Haze, 128 GB)   8 GB RAM   128 GB RO   \n",
       "6              OnePlus Nord 2 5G (PAC-MAN, 256 GB)  12 GB RAM   256 GB RO   \n",
       "7                 OnePlus Nord (Gray Onyx, 128 GB)   8 GB RAM   128 GB RO   \n",
       "8                 OnePlus Nord (Gray Onyx, 256 GB)  12 GB RAM   256 GB RO   \n",
       "9                  OnePlus Nord (Gray Onyx, 64 GB)   6 GB RAM   64 GB ROM   \n",
       "10              OnePlus Nord (Blue Marble, 256 GB)  12 GB RAM   256 GB RO   \n",
       "11              OnePlus Nord (Blue Marble, 128 GB)   8 GB RAM   128 GB RO   \n",
       "12               OnePlus Nord (Blue Marble, 64 GB)   6 GB RAM   64 GB ROM   \n",
       "13      OnePlus Nord CE 2 5G (Gray Mirror, 128 GB)   6 GB RAM   128 GB RO   \n",
       "14      OnePlus Nord CE 2 5G (Bahama Blue, 128 GB)   8 GB RAM   128 GB RO   \n",
       "15      OnePlus Nord CE 2 5G (Gray Mirror, 128 GB)   8 GB RAM   128 GB RO   \n",
       "16         OnePlus Nord 2 5G (Gray Sierra, 256 GB)  12 GB RAM   256 GB RO   \n",
       "17      OnePlus Nord CE 2 5G (Bahama Blue, 128 GB)   6 GB RAM   128 GB RO   \n",
       "18           OnePlus Nord 2 5G (Blue Haze, 256 GB)  12 GB RAM   256 GB RO   \n",
       "19       OnePlus Nord CE 5G (Charcoal Ink, 256 GB)  12 GB RAM   256 GB RO   \n",
       "20          OnePlus Nord CE 5G (Blue Void, 256 GB)  12 GB RAM   256 GB RO   \n",
       "21         OnePlus Nord CE 5G (Silver Ray, 128 GB)   6 GB RAM   128 GB RO   \n",
       "22        OnePlus Nord 2T 5G (Gray Shadow, 128 GB)   8 GB RAM   128 GB RO   \n",
       "23           OnePlus Nord 2T 5G (Jade Fog, 128 GB)   8 GB RAM   128 GB RO   \n",
       "\n",
       "   expandable                                display  \\\n",
       "0                       16.74 cm (6.59 inch) Display   \n",
       "1                       16.74 cm (6.59 inch) Display   \n",
       "2                       16.33 cm (6.43 inch) Display   \n",
       "3                       16.74 cm (6.59 inch) Display   \n",
       "4                       16.74 cm (6.59 inch) Display   \n",
       "5                       16.33 cm (6.43 inch) Display   \n",
       "6                       16.33 cm (6.43 inch) Display   \n",
       "7              16.36 cm (6.44 inch) Full HD+ Display   \n",
       "8              16.36 cm (6.44 inch) Full HD+ Display   \n",
       "9              16.36 cm (6.44 inch) Full HD+ Display   \n",
       "10             16.36 cm (6.44 inch) Full HD+ Display   \n",
       "11             16.36 cm (6.44 inch) Full HD+ Display   \n",
       "12             16.36 cm (6.44 inch) Full HD+ Display   \n",
       "13                      16.33 cm (6.43 inch) Display   \n",
       "14                      16.33 cm (6.43 inch) Display   \n",
       "15                      16.33 cm (6.43 inch) Display   \n",
       "16                      16.33 cm (6.43 inch) Display   \n",
       "17                      16.33 cm (6.43 inch) Display   \n",
       "18                      16.33 cm (6.43 inch) Display   \n",
       "19                      16.33 cm (6.43 inch) Display   \n",
       "20                      16.33 cm (6.43 inch) Display   \n",
       "21                      16.33 cm (6.43 inch) Display   \n",
       "22                       17.02 cm (6.7 inch) Display   \n",
       "23                       17.02 cm (6.7 inch) Display   \n",
       "\n",
       "                                       camera           battery  \\\n",
       "0                            64MP Rear Camera  5000 mAh Battery   \n",
       "1                            64MP Rear Camera  5000 mAh Battery   \n",
       "2                            50MP Rear Camera  4500 mAh Battery   \n",
       "3                            64MP Rear Camera  5000 mAh Battery   \n",
       "4                            64MP Rear Camera  5000 mAh Battery   \n",
       "5                            50MP Rear Camera  4500 mAh Battery   \n",
       "6                            50MP Rear Camera  4500 mAh Battery   \n",
       "7   48MP + 8MP | 32MP + 8MP Dual Front Camera  4115 mAh Battery   \n",
       "8   48MP + 8MP | 32MP + 8MP Dual Front Camera  4115 mAh Battery   \n",
       "9   48MP + 8MP | 32MP + 8MP Dual Front Camera  4115 mAh Battery   \n",
       "10  48MP + 8MP | 32MP + 8MP Dual Front Camera  4115 mAh Battery   \n",
       "11  48MP + 8MP | 32MP + 8MP Dual Front Camera  4115 mAh Battery   \n",
       "12  48MP + 8MP | 32MP + 8MP Dual Front Camera  4115 mAh Battery   \n",
       "13                           64MP Rear Camera  4500 mAh Battery   \n",
       "14                           64MP Rear Camera  4500 mAh Battery   \n",
       "15                           64MP Rear Camera  4500 mAh Battery   \n",
       "16                           50MP Rear Camera  4500 mAh Battery   \n",
       "17                           64MP Rear Camera  4500 mAh Battery   \n",
       "18                           50MP Rear Camera  4500 mAh Battery   \n",
       "19                           64MP Rear Camera  4500 mAh Battery   \n",
       "20                           64MP Rear Camera  4500 mAh Battery   \n",
       "21                           64MP Rear Camera  4500 mAh Battery   \n",
       "22                           50MP Rear Camera  4500 mAh Battery   \n",
       "23                           50MP Rear Camera  4500 mAh Battery   \n",
       "\n",
       "                                            processor            warranty  \n",
       "0                                           12 months           12 months  \n",
       "1                                           12 months           12 months  \n",
       "2                                           12 Months           12 Months  \n",
       "3                                           12 months           12 months  \n",
       "4                                           12 months           12 months  \n",
       "5                                     1 year Warranty     1 year Warranty  \n",
       "6                                           12 months           12 months  \n",
       "7                Qualcomm® Snapdragon™ 765G Processor              1 Year  \n",
       "8                Qualcomm® Snapdragon™ 765G Processor              1 Year  \n",
       "9                Qualcomm® Snapdragon™ 765G Processor              1 Year  \n",
       "10               Qualcomm® Snapdragon™ 765G Processor              1 Year  \n",
       "11               Qualcomm® Snapdragon™ 765G Processor              1 Year  \n",
       "12               Qualcomm® Snapdragon™ 765G Processor              1 Year  \n",
       "13                                    1 Year Warranty     1 Year Warranty  \n",
       "14                                    1 Year Warranty     1 Year Warranty  \n",
       "15                                             1 Year              1 Year  \n",
       "16                                    1 year Warranty     1 year Warranty  \n",
       "17                                    1 Year Warranty     1 Year Warranty  \n",
       "18                                    1 year Warranty     1 year Warranty  \n",
       "19                                             1 Year              1 Year  \n",
       "20  Qualcomm Snapdragon Octa Core 750G 5G Processo...              1 Year  \n",
       "21                                             1 Year              1 Year  \n",
       "22                                 12 months Warranty  12 months Warranty  \n",
       "23                                 12 months Warranty  12 months Warranty  "
      ]
     },
     "execution_count": 73,
     "metadata": {},
     "output_type": "execute_result"
    }
   ],
   "source": [
    "pd.DataFrame(records_list,columns=['model','ram',\"storage\",\"expandable\",\"display\",\"camera\",\"battery\",\"processor\",\"warranty\"])"
   ]
  },
  {
   "cell_type": "markdown",
   "id": "1890ac7a",
   "metadata": {},
   "source": [
    "6. Write a python program to scrape the details for all billionaires from www.forbes.com. Details to be scrapped: “Rank”, “Name”, “Net worth”, “Age”, “Citizenship”, “Source”, “Industry”."
   ]
  },
  {
   "cell_type": "code",
   "execution_count": 79,
   "id": "30d80a1a",
   "metadata": {},
   "outputs": [],
   "source": [
    "driver = webdriver.Chrome(r\"C:\\Users\\SSIM STUDENT\\Desktop\\job\\DA\\chromedriver.exe\")\n",
    "time.sleep(0)"
   ]
  },
  {
   "cell_type": "code",
   "execution_count": 80,
   "id": "44729748",
   "metadata": {},
   "outputs": [],
   "source": [
    "driver.get('https://forbes.com/forbes-400/')\n",
    "time.sleep(5)"
   ]
  },
  {
   "cell_type": "code",
   "execution_count": 81,
   "id": "a644d208",
   "metadata": {},
   "outputs": [],
   "source": [
    "button = driver.find_element_by_xpath('//button[@class=\"tp-close tp-active\"]')\n",
    "button.click()"
   ]
  },
  {
   "cell_type": "code",
   "execution_count": 82,
   "id": "44495702",
   "metadata": {},
   "outputs": [],
   "source": [
    "def get_url(search_item):\n",
    "    '''\n",
    "    This function fetches the URL of the item that you want to search\n",
    "    '''\n",
    "    template = 'https://www.forbes.com/forbes-400/'\n",
    "    # We'are replacing every space with '+' to adhere with the pattern \n",
    "    search_item = search_item.replace(\" \",\"+\")\n",
    "    return template.format(search_item)"
   ]
  },
  {
   "cell_type": "code",
   "execution_count": 83,
   "id": "4eef30c8",
   "metadata": {},
   "outputs": [
    {
     "name": "stdout",
     "output_type": "stream",
     "text": [
      "https://www.forbes.com/forbes-400/\n"
     ]
    }
   ],
   "source": [
    "url = get_url('Forbes 400')\n",
    "print(url)"
   ]
  },
  {
   "cell_type": "code",
   "execution_count": 84,
   "id": "7d876ea0",
   "metadata": {},
   "outputs": [],
   "source": [
    "soup = BeautifulSoup(driver.page_source, 'html.parser')"
   ]
  },
  {
   "cell_type": "code",
   "execution_count": 89,
   "id": "71028748",
   "metadata": {},
   "outputs": [
    {
     "data": {
      "text/plain": [
       "0"
      ]
     },
     "execution_count": 89,
     "metadata": {},
     "output_type": "execute_result"
    }
   ],
   "source": [
    "results = soup.find_all('a',{'class':\"table-row-group__container\"})\n",
    "len(results)"
   ]
  },
  {
   "cell_type": "markdown",
   "id": "a0c55289",
   "metadata": {},
   "source": [
    "7. Write a program to scrap all the available details of best gaming laptops from digit.in."
   ]
  },
  {
   "cell_type": "code",
   "execution_count": 95,
   "id": "9f07f9f3",
   "metadata": {},
   "outputs": [],
   "source": [
    "driver = webdriver.Chrome(r\"C:\\Users\\SSIM STUDENT\\Desktop\\job\\DA\\chromedriver.exe\")\n",
    "time.sleep(0)"
   ]
  },
  {
   "cell_type": "code",
   "execution_count": 96,
   "id": "692a740b",
   "metadata": {},
   "outputs": [],
   "source": [
    "driver.get('https://www.digit.in/top-products/best-gaming-laptops-40.html')\n",
    "time.sleep(5)"
   ]
  },
  {
   "cell_type": "code",
   "execution_count": 97,
   "id": "ac5e4c58",
   "metadata": {},
   "outputs": [],
   "source": [
    "def get_url(search_item):\n",
    "    '''\n",
    "    This function fetches the URL of the item that you want to search\n",
    "    '''\n",
    "    template = 'https://www.digit.in/top-products/best-gaming-laptops-40.html'\n",
    "    # We'are replacing every space with '+' to adhere with the pattern \n",
    "    search_item = search_item.replace(\" \",\"+\")\n",
    "    return template.format(search_item)"
   ]
  },
  {
   "cell_type": "code",
   "execution_count": 98,
   "id": "99f2e769",
   "metadata": {},
   "outputs": [
    {
     "name": "stdout",
     "output_type": "stream",
     "text": [
      "https://www.digit.in/top-products/best-gaming-laptops-40.html\n"
     ]
    }
   ],
   "source": [
    "url = get_url('MSI Raider GE76')\n",
    "print(url)"
   ]
  },
  {
   "cell_type": "code",
   "execution_count": 99,
   "id": "933a6505",
   "metadata": {},
   "outputs": [
    {
     "ename": "WebDriverException",
     "evalue": "Message: unknown error: unexpected command response\n  (Session info: chrome=103.0.5060.114)\n",
     "output_type": "error",
     "traceback": [
      "\u001b[1;31m---------------------------------------------------------------------------\u001b[0m",
      "\u001b[1;31mWebDriverException\u001b[0m                        Traceback (most recent call last)",
      "\u001b[1;32mC:\\Users\\SSIMST~1\\AppData\\Local\\Temp/ipykernel_14312/345322577.py\u001b[0m in \u001b[0;36m<module>\u001b[1;34m\u001b[0m\n\u001b[1;32m----> 1\u001b[1;33m \u001b[0msoup\u001b[0m \u001b[1;33m=\u001b[0m \u001b[0mBeautifulSoup\u001b[0m\u001b[1;33m(\u001b[0m\u001b[0mdriver\u001b[0m\u001b[1;33m.\u001b[0m\u001b[0mpage_source\u001b[0m\u001b[1;33m,\u001b[0m \u001b[1;34m'html.parser'\u001b[0m\u001b[1;33m)\u001b[0m\u001b[1;33m\u001b[0m\u001b[1;33m\u001b[0m\u001b[0m\n\u001b[0m",
      "\u001b[1;32mC:\\Anaconda\\lib\\site-packages\\selenium\\webdriver\\remote\\webdriver.py\u001b[0m in \u001b[0;36mpage_source\u001b[1;34m(self)\u001b[0m\n\u001b[0;32m    677\u001b[0m             \u001b[0mdriver\u001b[0m\u001b[1;33m.\u001b[0m\u001b[0mpage_source\u001b[0m\u001b[1;33m\u001b[0m\u001b[1;33m\u001b[0m\u001b[0m\n\u001b[0;32m    678\u001b[0m         \"\"\"\n\u001b[1;32m--> 679\u001b[1;33m         \u001b[1;32mreturn\u001b[0m \u001b[0mself\u001b[0m\u001b[1;33m.\u001b[0m\u001b[0mexecute\u001b[0m\u001b[1;33m(\u001b[0m\u001b[0mCommand\u001b[0m\u001b[1;33m.\u001b[0m\u001b[0mGET_PAGE_SOURCE\u001b[0m\u001b[1;33m)\u001b[0m\u001b[1;33m[\u001b[0m\u001b[1;34m'value'\u001b[0m\u001b[1;33m]\u001b[0m\u001b[1;33m\u001b[0m\u001b[1;33m\u001b[0m\u001b[0m\n\u001b[0m\u001b[0;32m    680\u001b[0m \u001b[1;33m\u001b[0m\u001b[0m\n\u001b[0;32m    681\u001b[0m     \u001b[1;32mdef\u001b[0m \u001b[0mclose\u001b[0m\u001b[1;33m(\u001b[0m\u001b[0mself\u001b[0m\u001b[1;33m)\u001b[0m\u001b[1;33m:\u001b[0m\u001b[1;33m\u001b[0m\u001b[1;33m\u001b[0m\u001b[0m\n",
      "\u001b[1;32mC:\\Anaconda\\lib\\site-packages\\selenium\\webdriver\\remote\\webdriver.py\u001b[0m in \u001b[0;36mexecute\u001b[1;34m(self, driver_command, params)\u001b[0m\n\u001b[0;32m    319\u001b[0m         \u001b[0mresponse\u001b[0m \u001b[1;33m=\u001b[0m \u001b[0mself\u001b[0m\u001b[1;33m.\u001b[0m\u001b[0mcommand_executor\u001b[0m\u001b[1;33m.\u001b[0m\u001b[0mexecute\u001b[0m\u001b[1;33m(\u001b[0m\u001b[0mdriver_command\u001b[0m\u001b[1;33m,\u001b[0m \u001b[0mparams\u001b[0m\u001b[1;33m)\u001b[0m\u001b[1;33m\u001b[0m\u001b[1;33m\u001b[0m\u001b[0m\n\u001b[0;32m    320\u001b[0m         \u001b[1;32mif\u001b[0m \u001b[0mresponse\u001b[0m\u001b[1;33m:\u001b[0m\u001b[1;33m\u001b[0m\u001b[1;33m\u001b[0m\u001b[0m\n\u001b[1;32m--> 321\u001b[1;33m             \u001b[0mself\u001b[0m\u001b[1;33m.\u001b[0m\u001b[0merror_handler\u001b[0m\u001b[1;33m.\u001b[0m\u001b[0mcheck_response\u001b[0m\u001b[1;33m(\u001b[0m\u001b[0mresponse\u001b[0m\u001b[1;33m)\u001b[0m\u001b[1;33m\u001b[0m\u001b[1;33m\u001b[0m\u001b[0m\n\u001b[0m\u001b[0;32m    322\u001b[0m             response['value'] = self._unwrap_value(\n\u001b[0;32m    323\u001b[0m                 response.get('value', None))\n",
      "\u001b[1;32mC:\\Anaconda\\lib\\site-packages\\selenium\\webdriver\\remote\\errorhandler.py\u001b[0m in \u001b[0;36mcheck_response\u001b[1;34m(self, response)\u001b[0m\n\u001b[0;32m    240\u001b[0m                 \u001b[0malert_text\u001b[0m \u001b[1;33m=\u001b[0m \u001b[0mvalue\u001b[0m\u001b[1;33m[\u001b[0m\u001b[1;34m'alert'\u001b[0m\u001b[1;33m]\u001b[0m\u001b[1;33m.\u001b[0m\u001b[0mget\u001b[0m\u001b[1;33m(\u001b[0m\u001b[1;34m'text'\u001b[0m\u001b[1;33m)\u001b[0m\u001b[1;33m\u001b[0m\u001b[1;33m\u001b[0m\u001b[0m\n\u001b[0;32m    241\u001b[0m             \u001b[1;32mraise\u001b[0m \u001b[0mexception_class\u001b[0m\u001b[1;33m(\u001b[0m\u001b[0mmessage\u001b[0m\u001b[1;33m,\u001b[0m \u001b[0mscreen\u001b[0m\u001b[1;33m,\u001b[0m \u001b[0mstacktrace\u001b[0m\u001b[1;33m,\u001b[0m \u001b[0malert_text\u001b[0m\u001b[1;33m)\u001b[0m\u001b[1;33m\u001b[0m\u001b[1;33m\u001b[0m\u001b[0m\n\u001b[1;32m--> 242\u001b[1;33m         \u001b[1;32mraise\u001b[0m \u001b[0mexception_class\u001b[0m\u001b[1;33m(\u001b[0m\u001b[0mmessage\u001b[0m\u001b[1;33m,\u001b[0m \u001b[0mscreen\u001b[0m\u001b[1;33m,\u001b[0m \u001b[0mstacktrace\u001b[0m\u001b[1;33m)\u001b[0m\u001b[1;33m\u001b[0m\u001b[1;33m\u001b[0m\u001b[0m\n\u001b[0m\u001b[0;32m    243\u001b[0m \u001b[1;33m\u001b[0m\u001b[0m\n\u001b[0;32m    244\u001b[0m     \u001b[1;32mdef\u001b[0m \u001b[0m_value_or_default\u001b[0m\u001b[1;33m(\u001b[0m\u001b[0mself\u001b[0m\u001b[1;33m,\u001b[0m \u001b[0mobj\u001b[0m\u001b[1;33m,\u001b[0m \u001b[0mkey\u001b[0m\u001b[1;33m,\u001b[0m \u001b[0mdefault\u001b[0m\u001b[1;33m)\u001b[0m\u001b[1;33m:\u001b[0m\u001b[1;33m\u001b[0m\u001b[1;33m\u001b[0m\u001b[0m\n",
      "\u001b[1;31mWebDriverException\u001b[0m: Message: unknown error: unexpected command response\n  (Session info: chrome=103.0.5060.114)\n"
     ]
    }
   ],
   "source": [
    "soup = BeautifulSoup(driver.page_source, 'html.parser')"
   ]
  },
  {
   "cell_type": "code",
   "execution_count": null,
   "id": "6211e4be",
   "metadata": {},
   "outputs": [],
   "source": []
  }
 ],
 "metadata": {
  "kernelspec": {
   "display_name": "Python 3 (ipykernel)",
   "language": "python",
   "name": "python3"
  },
  "language_info": {
   "codemirror_mode": {
    "name": "ipython",
    "version": 3
   },
   "file_extension": ".py",
   "mimetype": "text/x-python",
   "name": "python",
   "nbconvert_exporter": "python",
   "pygments_lexer": "ipython3",
   "version": "3.9.7"
  }
 },
 "nbformat": 4,
 "nbformat_minor": 5
}
