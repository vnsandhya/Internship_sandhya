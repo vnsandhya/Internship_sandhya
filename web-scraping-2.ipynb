{
 "cells": [
  {
   "cell_type": "code",
   "execution_count": 1,
   "id": "673a1acd",
   "metadata": {
    "scrolled": true
   },
   "outputs": [
    {
     "name": "stdout",
     "output_type": "stream",
     "text": [
      "Requirement already satisfied: selenium in c:\\users\\ndurg\\anaconda3\\lib\\site-packages (4.2.0)\n",
      "Requirement already satisfied: trio~=0.17 in c:\\users\\ndurg\\anaconda3\\lib\\site-packages (from selenium) (0.21.0)\n",
      "Requirement already satisfied: trio-websocket~=0.9 in c:\\users\\ndurg\\anaconda3\\lib\\site-packages (from selenium) (0.9.2)\n",
      "Requirement already satisfied: urllib3[secure,socks]~=1.26 in c:\\users\\ndurg\\anaconda3\\lib\\site-packages (from selenium) (1.26.7)\n",
      "Requirement already satisfied: sortedcontainers in c:\\users\\ndurg\\anaconda3\\lib\\site-packages (from trio~=0.17->selenium) (2.4.0)\n",
      "Requirement already satisfied: cffi>=1.14 in c:\\users\\ndurg\\anaconda3\\lib\\site-packages (from trio~=0.17->selenium) (1.14.6)\n",
      "Requirement already satisfied: idna in c:\\users\\ndurg\\anaconda3\\lib\\site-packages (from trio~=0.17->selenium) (3.2)\n",
      "Requirement already satisfied: outcome in c:\\users\\ndurg\\anaconda3\\lib\\site-packages (from trio~=0.17->selenium) (1.1.0)\n",
      "Requirement already satisfied: sniffio in c:\\users\\ndurg\\anaconda3\\lib\\site-packages (from trio~=0.17->selenium) (1.2.0)\n",
      "Requirement already satisfied: async-generator>=1.9 in c:\\users\\ndurg\\anaconda3\\lib\\site-packages (from trio~=0.17->selenium) (1.10)\n",
      "Requirement already satisfied: attrs>=19.2.0 in c:\\users\\ndurg\\anaconda3\\lib\\site-packages (from trio~=0.17->selenium) (21.2.0)\n",
      "Requirement already satisfied: pycparser in c:\\users\\ndurg\\anaconda3\\lib\\site-packages (from cffi>=1.14->trio~=0.17->selenium) (2.20)\n",
      "Requirement already satisfied: wsproto>=0.14 in c:\\users\\ndurg\\anaconda3\\lib\\site-packages (from trio-websocket~=0.9->selenium) (1.1.0)\n",
      "Requirement already satisfied: pyOpenSSL>=0.14 in c:\\users\\ndurg\\anaconda3\\lib\\site-packages (from urllib3[secure,socks]~=1.26->selenium) (21.0.0)\n",
      "Requirement already satisfied: cryptography>=1.3.4 in c:\\users\\ndurg\\anaconda3\\lib\\site-packages (from urllib3[secure,socks]~=1.26->selenium) (3.4.8)\n",
      "Requirement already satisfied: certifi in c:\\users\\ndurg\\anaconda3\\lib\\site-packages (from urllib3[secure,socks]~=1.26->selenium) (2021.10.8)\n",
      "Requirement already satisfied: PySocks!=1.5.7,<2.0,>=1.5.6 in c:\\users\\ndurg\\anaconda3\\lib\\site-packages (from urllib3[secure,socks]~=1.26->selenium) (1.7.1)\n",
      "Requirement already satisfied: six>=1.5.2 in c:\\users\\ndurg\\anaconda3\\lib\\site-packages (from pyOpenSSL>=0.14->urllib3[secure,socks]~=1.26->selenium) (1.16.0)\n",
      "Requirement already satisfied: h11<1,>=0.9.0 in c:\\users\\ndurg\\anaconda3\\lib\\site-packages (from wsproto>=0.14->trio-websocket~=0.9->selenium) (0.13.0)\n"
     ]
    }
   ],
   "source": [
    "!pip install selenium"
   ]
  },
  {
   "cell_type": "code",
   "execution_count": 2,
   "id": "3cc1c59e",
   "metadata": {},
   "outputs": [],
   "source": [
    "import selenium \n",
    "import pandas as pd\n",
    "from selenium import webdriver\n",
    "import time\n",
    "import warnings\n",
    "warnings.filterwarnings('ignore')"
   ]
  },
  {
   "cell_type": "markdown",
   "id": "2de2b0dd",
   "metadata": {},
   "source": [
    "Q1: Write a python program to scrape data for “Data Analyst” Job position in “Bangalore” location. You\n",
    "have to scrape the job-title, job-location, company_name, experience_required. You have to scrape first 10\n",
    "jobs data.\n",
    "This task will be done in following steps:\n",
    "1. First get the webpage https://www.naukri.com/\n",
    "2. Enter “Data Analyst” in “Skill, Designations, Companies” field and enter “Bangalore” in “enter the\n",
    "location” field.\n",
    "3. Then click the search button.\n",
    "4. Then scrape the data for the first 10 jobs results you get.\n",
    "5. Finally create a dataframe of the scraped data.\n",
    "Note: All of the above steps have to be done in code. No step is to be done manually.\n"
   ]
  },
  {
   "cell_type": "code",
   "execution_count": 3,
   "id": "a6e9f9a0",
   "metadata": {},
   "outputs": [],
   "source": [
    "driver = webdriver.Chrome(r\"C:\\Users\\ndurg\\OneDrive\\Desktop\\webdriver\\chromedriver.exe\")\n",
    "time.sleep(2)\n"
   ]
  },
  {
   "cell_type": "code",
   "execution_count": 4,
   "id": "1dabae06",
   "metadata": {},
   "outputs": [],
   "source": [
    "driver.get('https://www.naukri.com/')"
   ]
  },
  {
   "cell_type": "code",
   "execution_count": 5,
   "id": "dc76edf3",
   "metadata": {},
   "outputs": [],
   "source": [
    "field_desi = driver.find_element_by_class_name(\"suggestor-input \")\n",
    "field_desi.send_keys('Data Analyst')"
   ]
  },
  {
   "cell_type": "code",
   "execution_count": 6,
   "id": "831c5fc2",
   "metadata": {},
   "outputs": [],
   "source": [
    "loc_field = driver.find_element_by_xpath(\"/html/body/div/div[2]/div[4]/div/div/div[5]/div/div/div/input\")\n",
    "loc_field.send_keys(\"Bangalore\")"
   ]
  },
  {
   "cell_type": "code",
   "execution_count": 7,
   "id": "3ad82b37",
   "metadata": {},
   "outputs": [],
   "source": [
    "button = driver.find_element_by_xpath(\"/html/body/div/div[2]/div[4]/div/div/div[6]\")\n",
    "button.click()"
   ]
  },
  {
   "cell_type": "markdown",
   "id": "807d249d",
   "metadata": {},
   "source": [
    "Q2: Write a python program to scrape data for “Data Scientist” Job position in “Bangalore” location. You\n",
    "have to scrape the job-title, job-location, company_name. You have to scrape first 10 jobs data.\n",
    "This task will be done in following steps:\n",
    "1. First get the webpage https://www.naukri.com/\n",
    "2. Enter “Data Scientist” in “Skill, Designations, Companies” field and enter “Bangalore” in “enter the\n",
    "location” field.\n",
    "3. Then click the search button.\n",
    "4. Then scrape the data for the first 10 jobs results you get.\n",
    "5. Finally create a dataframe of the scraped data.\n",
    "Note: All of the above steps have to be done in code. No step is to be done manually."
   ]
  },
  {
   "cell_type": "code",
   "execution_count": 8,
   "id": "092513c1",
   "metadata": {},
   "outputs": [],
   "source": [
    "driver = webdriver.Chrome(r\"C:\\Users\\ndurg\\OneDrive\\Desktop\\webdriver\\chromedriver.exe\")\n",
    "time.sleep(2)"
   ]
  },
  {
   "cell_type": "code",
   "execution_count": 9,
   "id": "9f450b59",
   "metadata": {},
   "outputs": [],
   "source": [
    "driver.get('https://www.naukri.com/')"
   ]
  },
  {
   "cell_type": "code",
   "execution_count": 10,
   "id": "f40b2f54",
   "metadata": {},
   "outputs": [],
   "source": [
    "field_desi = driver.find_element_by_class_name(\"suggestor-input \")\n",
    "field_desi.send_keys('Data Scientist')"
   ]
  },
  {
   "cell_type": "code",
   "execution_count": 11,
   "id": "63f0aeed",
   "metadata": {},
   "outputs": [],
   "source": [
    "field_desi = driver.find_element_by_class_name(\"suggestor-input \")\n",
    "field_desi.send_keys('Data Scientist')"
   ]
  },
  {
   "cell_type": "code",
   "execution_count": 12,
   "id": "732cdd2c",
   "metadata": {},
   "outputs": [],
   "source": [
    "button = driver.find_element_by_xpath(\"/html/body/div/div[2]/div[4]/div/div/div[6]\")\n",
    "button.click()"
   ]
  },
  {
   "cell_type": "code",
   "execution_count": 13,
   "id": "a7767ba3",
   "metadata": {},
   "outputs": [],
   "source": [
    "driver = webdriver.Chrome(r\"C:\\Users\\ndurg\\OneDrive\\Desktop\\webdriver\\chromedriver.exe\")\n",
    "time.sleep(2)\n",
    "driver.get('https://www.naukri.com/')\n",
    "field_desi = driver.find_element_by_class_name(\"suggestor-input \")\n",
    "field_desi.send_keys('Data Scientist')\n",
    "field_desi = driver.find_element_by_class_name(\"suggestor-input \")\n",
    "field_desi.send_keys('Data Scientist')\n",
    "button = driver.find_element_by_xpath(\"/html/body/div/div[2]/div[4]/div/div/div[6]\")\n",
    "button.click()\n"
   ]
  },
  {
   "cell_type": "code",
   "execution_count": null,
   "id": "4dd160eb",
   "metadata": {},
   "outputs": [],
   "source": []
  },
  {
   "cell_type": "markdown",
   "id": "47818f45",
   "metadata": {},
   "source": [
    "Q3: In this question you have to scrape data using the filters available on the webpage as shown below:\n",
    "You have to use the location and salary filter.\n",
    "You have to scrape data for “Data Scientist” designation for first 10 job results.\n",
    "You have to scrape the job-title, job-location, company name, experience required.\n",
    "The location filter to be used is “Delhi/NCR”. The salary filter to be used is “3-6” lakhs\n",
    "The task will be done as shown in the below steps:\n",
    "1. first get the webpage https://www.naukri.com/\n",
    "2. Enter “Data Scientist” in “Skill, Designations, and Companies” field.\n",
    "3. Then click the search button.\n",
    "4. Then apply the location filter and salary filter by checking the respective boxes\n",
    "5. Then scrape the data for the first 10 jobs results you get.\n",
    "6. Finally create a dataframe of the scraped data.\n",
    "Note: All of the above steps have to be done in code. No step is to be done manually."
   ]
  },
  {
   "cell_type": "code",
   "execution_count": 14,
   "id": "2764a95b",
   "metadata": {},
   "outputs": [],
   "source": [
    "driver = webdriver.Chrome(r\"C:\\Users\\ndurg\\OneDrive\\Desktop\\webdriver\\chromedriver.exe\")\n",
    "time.sleep(2)"
   ]
  },
  {
   "cell_type": "code",
   "execution_count": 15,
   "id": "6bd3e375",
   "metadata": {},
   "outputs": [],
   "source": [
    "driver.get('https://www.naukri.com/')"
   ]
  },
  {
   "cell_type": "code",
   "execution_count": 16,
   "id": "996e78d7",
   "metadata": {},
   "outputs": [],
   "source": [
    "field_desi = driver.find_element_by_class_name(\"suggestor-input \")\n",
    "field_desi.send_keys('Data Scientist')"
   ]
  },
  {
   "cell_type": "code",
   "execution_count": 17,
   "id": "49ad7eef",
   "metadata": {},
   "outputs": [],
   "source": [
    "button = driver.find_element_by_xpath(\"/html/body/div/div[2]/div[4]/div/div/div[6]\")\n",
    "button.click()"
   ]
  },
  {
   "cell_type": "markdown",
   "id": "206f6dd6",
   "metadata": {},
   "source": [
    "Q4:  Scrape data of first 100 sunglasses listings on flipkart.com. You have to scrape four attributes:\n",
    "1. Brand\n",
    "2. Product Description\n",
    "3. Price\n",
    "The attributes which you have to scrape is ticked marked in the below image.\n",
    "To scrape\n",
    "To scrape the data you have to go through following steps:\n",
    "1. Go to Flipkart webpage by url : https://www.flipkart.com/\n",
    "2. Enter “sunglasses” in the search field where “search for products, brands and more” is written and\n",
    "click the search icon\n",
    "3. After that you will reach to the page having a lot of sunglasses. From this page you can scrap the\n",
    "required data as usual.\n",
    "4. After scraping data from the first page, go to the “Next” Button at the bottom other page , then\n",
    "click on it.\n",
    "5. Now scrape data from this page as usual\n",
    "6. Repeat this until you get data for 100 sunglasses.\n",
    "Note: That all of the above steps have to be done by coding only and not manually."
   ]
  },
  {
   "cell_type": "code",
   "execution_count": 86,
   "id": "d5887672",
   "metadata": {},
   "outputs": [],
   "source": [
    "driver = webdriver.Chrome(r\"C:\\Users\\ndurg\\OneDrive\\Desktop\\webdriver\\chromedriver.exe\")\n",
    "time.sleep(2)\n",
    "driver.get('https://www.flipkart.com/')"
   ]
  },
  {
   "cell_type": "code",
   "execution_count": 87,
   "id": "3483fec7",
   "metadata": {},
   "outputs": [],
   "source": [
    "button = driver.find_element_by_xpath('//button[@class=\"_2KpZ6l _2doB4z\"]')\n",
    "button.click()"
   ]
  },
  {
   "cell_type": "code",
   "execution_count": 88,
   "id": "e140fe2e",
   "metadata": {},
   "outputs": [],
   "source": [
    "field_desi = driver.find_element_by_class_name(\"_3704LK\")\n",
    "field_desi.send_keys('SunGlasses')"
   ]
  },
  {
   "cell_type": "code",
   "execution_count": 89,
   "id": "ecbd4b15",
   "metadata": {},
   "outputs": [],
   "source": [
    "button = driver.find_element_by_class_name('L0Z3Pu')\n",
    "button.click()"
   ]
  },
  {
   "cell_type": "code",
   "execution_count": 90,
   "id": "d88ee101",
   "metadata": {},
   "outputs": [
    {
     "data": {
      "text/plain": [
       "<selenium.webdriver.remote.webelement.WebElement (session=\"58c420a6f5c14ad0cf277bec26352b0a\", element=\"0443acd7-00c6-40eb-bbbf-9658cc528790\")>"
      ]
     },
     "execution_count": 90,
     "metadata": {},
     "output_type": "execute_result"
    }
   ],
   "source": [
    "brand = driver.find_element_by_class_name(\"_2WkVRV\")\n",
    "brand"
   ]
  },
  {
   "cell_type": "code",
   "execution_count": 91,
   "id": "cc8d270d",
   "metadata": {},
   "outputs": [
    {
     "data": {
      "text/plain": [
       "'CRYSTAL CART'"
      ]
     },
     "execution_count": 91,
     "metadata": {},
     "output_type": "execute_result"
    }
   ],
   "source": [
    "brand.text"
   ]
  },
  {
   "cell_type": "code",
   "execution_count": 92,
   "id": "efa85ffa",
   "metadata": {},
   "outputs": [
    {
     "data": {
      "text/plain": [
       "[<selenium.webdriver.remote.webelement.WebElement (session=\"58c420a6f5c14ad0cf277bec26352b0a\", element=\"0443acd7-00c6-40eb-bbbf-9658cc528790\")>,\n",
       " <selenium.webdriver.remote.webelement.WebElement (session=\"58c420a6f5c14ad0cf277bec26352b0a\", element=\"3ac4ebfb-0714-4281-8090-2ae545210f5f\")>]"
      ]
     },
     "execution_count": 92,
     "metadata": {},
     "output_type": "execute_result"
    }
   ],
   "source": [
    "brands=[]\n",
    "brand = driver.find_elements_by_class_name(\"_2WkVRV\")\n",
    "brand[0:2]"
   ]
  },
  {
   "cell_type": "code",
   "execution_count": 93,
   "id": "16223058",
   "metadata": {},
   "outputs": [
    {
     "data": {
      "text/plain": [
       "['CRYSTAL CART', 'ROZZETTA CRAFT']"
      ]
     },
     "execution_count": 93,
     "metadata": {},
     "output_type": "execute_result"
    }
   ],
   "source": [
    "for i in brand :\n",
    "    brands.append(i.text)\n",
    "brands[0:2]"
   ]
  },
  {
   "cell_type": "code",
   "execution_count": 94,
   "id": "2834c2f0",
   "metadata": {},
   "outputs": [],
   "source": [
    "button = driver.find_element_by_class_name(\"_1LKTO3\")\n",
    "button.click()\n",
    "time.sleep(5)"
   ]
  },
  {
   "cell_type": "code",
   "execution_count": 95,
   "id": "e4b3a3d5",
   "metadata": {},
   "outputs": [
    {
     "data": {
      "text/plain": [
       "[<selenium.webdriver.remote.webelement.WebElement (session=\"58c420a6f5c14ad0cf277bec26352b0a\", element=\"4c9c0dd4-9968-409c-aaec-517eef8ab261\")>,\n",
       " <selenium.webdriver.remote.webelement.WebElement (session=\"58c420a6f5c14ad0cf277bec26352b0a\", element=\"9e2b5528-0890-45fd-93ae-4828443d763c\")>]"
      ]
     },
     "execution_count": 95,
     "metadata": {},
     "output_type": "execute_result"
    }
   ],
   "source": [
    "brand = driver.find_elements_by_class_name(\"_2WkVRV\")\n",
    "brand[0:2]"
   ]
  },
  {
   "cell_type": "code",
   "execution_count": 96,
   "id": "99499dce",
   "metadata": {},
   "outputs": [
    {
     "data": {
      "text/plain": [
       "['CRYSTAL CART', 'ROZZETTA CRAFT']"
      ]
     },
     "execution_count": 96,
     "metadata": {},
     "output_type": "execute_result"
    }
   ],
   "source": [
    "for i in brand :\n",
    "    brands.append(i.text)\n",
    "brands[0:2]"
   ]
  },
  {
   "cell_type": "code",
   "execution_count": 97,
   "id": "e2357609",
   "metadata": {},
   "outputs": [
    {
     "data": {
      "text/plain": [
       "[<selenium.webdriver.remote.webelement.WebElement (session=\"58c420a6f5c14ad0cf277bec26352b0a\", element=\"61a1ed53-0620-4cd4-b8a7-93410aa816cd\")>,\n",
       " <selenium.webdriver.remote.webelement.WebElement (session=\"58c420a6f5c14ad0cf277bec26352b0a\", element=\"a134a0c5-89a9-4e94-8328-7d53e154ef56\")>]"
      ]
     },
     "execution_count": 97,
     "metadata": {},
     "output_type": "execute_result"
    }
   ],
   "source": [
    "button = driver.find_element_by_class_name(\"_1LKTO3\")\n",
    "button.click()\n",
    "time.sleep(5)\n",
    "brand = driver.find_elements_by_class_name(\"_2WkVRV\")\n",
    "brand[0:2]"
   ]
  },
  {
   "cell_type": "code",
   "execution_count": 98,
   "id": "209f21e9",
   "metadata": {},
   "outputs": [
    {
     "data": {
      "text/plain": [
       "['CRYSTAL CART', 'ROZZETTA CRAFT']"
      ]
     },
     "execution_count": 98,
     "metadata": {},
     "output_type": "execute_result"
    }
   ],
   "source": [
    "for i in brand :\n",
    "    brands.append(i.text)\n",
    "brands[0:2]"
   ]
  },
  {
   "cell_type": "code",
   "execution_count": 99,
   "id": "8719c1c4",
   "metadata": {},
   "outputs": [
    {
     "data": {
      "text/plain": [
       "120"
      ]
     },
     "execution_count": 99,
     "metadata": {},
     "output_type": "execute_result"
    }
   ],
   "source": [
    "len(brands)"
   ]
  },
  {
   "cell_type": "code",
   "execution_count": 100,
   "id": "93da1e06",
   "metadata": {},
   "outputs": [
    {
     "data": {
      "text/plain": [
       "[<selenium.webdriver.remote.webelement.WebElement (session=\"58c420a6f5c14ad0cf277bec26352b0a\", element=\"8664ae8a-f414-4c09-bd0c-829f28f205a5\")>,\n",
       " <selenium.webdriver.remote.webelement.WebElement (session=\"58c420a6f5c14ad0cf277bec26352b0a\", element=\"33f507df-a27c-4736-a96f-54d610f3f556\")>]"
      ]
     },
     "execution_count": 100,
     "metadata": {},
     "output_type": "execute_result"
    }
   ],
   "source": [
    "des = driver.find_elements_by_class_name(\"IRpwTa\")\n",
    "des[0:2]"
   ]
  },
  {
   "cell_type": "code",
   "execution_count": 101,
   "id": "055d6388",
   "metadata": {},
   "outputs": [
    {
     "data": {
      "text/plain": [
       "['UV Protection, Gradient Round Sunglasses (Free Size)',\n",
       " 'UV Protection, Gradient Rectangular Sunglasses (Free Si...']"
      ]
     },
     "execution_count": 101,
     "metadata": {},
     "output_type": "execute_result"
    }
   ],
   "source": [
    "product=[]\n",
    "for i in des :\n",
    "    product.append(i.text)\n",
    "product[0:2]"
   ]
  },
  {
   "cell_type": "code",
   "execution_count": 102,
   "id": "e92e2481",
   "metadata": {},
   "outputs": [
    {
     "data": {
      "text/plain": [
       "40"
      ]
     },
     "execution_count": 102,
     "metadata": {},
     "output_type": "execute_result"
    }
   ],
   "source": [
    "len(product)"
   ]
  },
  {
   "cell_type": "code",
   "execution_count": 103,
   "id": "365669f7",
   "metadata": {},
   "outputs": [
    {
     "data": {
      "text/plain": [
       "['UV Protection, Gradient Round Sunglasses (Free Size)',\n",
       " 'UV Protection, Gradient Rectangular Sunglasses (Free Si...']"
      ]
     },
     "execution_count": 103,
     "metadata": {},
     "output_type": "execute_result"
    }
   ],
   "source": [
    "button = driver.find_element_by_class_name(\"_1LKTO3\")\n",
    "button.click()\n",
    "time.sleep(5)\n",
    "des = driver.find_elements_by_class_name(\"IRpwTa\")\n",
    "des\n",
    "for i in des :\n",
    "    product.append(i.text)\n",
    "product[0:2]"
   ]
  },
  {
   "cell_type": "code",
   "execution_count": 104,
   "id": "2b79c669",
   "metadata": {},
   "outputs": [
    {
     "data": {
      "text/plain": [
       "80"
      ]
     },
     "execution_count": 104,
     "metadata": {},
     "output_type": "execute_result"
    }
   ],
   "source": [
    "len(product)"
   ]
  },
  {
   "cell_type": "code",
   "execution_count": 107,
   "id": "eca7f67c",
   "metadata": {},
   "outputs": [
    {
     "data": {
      "text/plain": [
       "['UV Protection, Gradient Round Sunglasses (Free Size)',\n",
       " 'UV Protection, Gradient Rectangular Sunglasses (Free Si...']"
      ]
     },
     "execution_count": 107,
     "metadata": {},
     "output_type": "execute_result"
    }
   ],
   "source": [
    "button = driver.find_element_by_class_name(\"_1LKTO3\")\n",
    "button.click()\n",
    "time.sleep(5)\n",
    "des = driver.find_elements_by_class_name(\"IRpwTa\")\n",
    "des\n",
    "for i in des :\n",
    "    product.append(i.text)\n",
    "product[0:2]"
   ]
  },
  {
   "cell_type": "code",
   "execution_count": 108,
   "id": "1768c7a2",
   "metadata": {},
   "outputs": [
    {
     "data": {
      "text/plain": [
       "120"
      ]
     },
     "execution_count": 108,
     "metadata": {},
     "output_type": "execute_result"
    }
   ],
   "source": [
    "len(product)"
   ]
  },
  {
   "cell_type": "code",
   "execution_count": 109,
   "id": "5efdc77b",
   "metadata": {},
   "outputs": [
    {
     "data": {
      "text/plain": [
       "[<selenium.webdriver.remote.webelement.WebElement (session=\"58c420a6f5c14ad0cf277bec26352b0a\", element=\"33a8d762-f461-4751-9df8-754bea5426e3\")>,\n",
       " <selenium.webdriver.remote.webelement.WebElement (session=\"58c420a6f5c14ad0cf277bec26352b0a\", element=\"13e089df-4683-4b72-b5f1-5ecb978cd9cd\")>]"
      ]
     },
     "execution_count": 109,
     "metadata": {},
     "output_type": "execute_result"
    }
   ],
   "source": [
    "pri =  driver.find_elements_by_class_name(\"_3bPFwb\")\n",
    "pri[0:2]"
   ]
  },
  {
   "cell_type": "code",
   "execution_count": 113,
   "id": "fdd288b2",
   "metadata": {},
   "outputs": [
    {
     "data": {
      "text/plain": [
       "['₹287₹1,49980%', '₹681₹3,69981%']"
      ]
     },
     "execution_count": 113,
     "metadata": {},
     "output_type": "execute_result"
    }
   ],
   "source": [
    "price=[]\n",
    "for i in pri:\n",
    "    price.append(i.text.split()[0])\n",
    "price[0:2]"
   ]
  },
  {
   "cell_type": "code",
   "execution_count": 114,
   "id": "2ee4ded5",
   "metadata": {},
   "outputs": [
    {
     "data": {
      "text/plain": [
       "<selenium.webdriver.remote.webelement.WebElement (session=\"58c420a6f5c14ad0cf277bec26352b0a\", element=\"33a8d762-f461-4751-9df8-754bea5426e3\")>"
      ]
     },
     "execution_count": 114,
     "metadata": {},
     "output_type": "execute_result"
    }
   ],
   "source": [
    "pr =  driver.find_element_by_class_name(\"_3bPFwb\")\n",
    "pr"
   ]
  },
  {
   "cell_type": "code",
   "execution_count": 115,
   "id": "704f71d0",
   "metadata": {},
   "outputs": [
    {
     "data": {
      "text/plain": [
       "'₹287₹1,49980% off\\nFree delivery'"
      ]
     },
     "execution_count": 115,
     "metadata": {},
     "output_type": "execute_result"
    }
   ],
   "source": [
    "pr.text"
   ]
  },
  {
   "cell_type": "code",
   "execution_count": 116,
   "id": "fbbbd78e",
   "metadata": {},
   "outputs": [
    {
     "data": {
      "text/plain": [
       "'  /-287  /-1,49980%'"
      ]
     },
     "execution_count": 116,
     "metadata": {},
     "output_type": "execute_result"
    }
   ],
   "source": [
    "pr.text.split()[0].replace('₹','  /-')"
   ]
  },
  {
   "cell_type": "code",
   "execution_count": 117,
   "id": "8ceb28f7",
   "metadata": {},
   "outputs": [
    {
     "data": {
      "text/plain": [
       "[<selenium.webdriver.remote.webelement.WebElement (session=\"58c420a6f5c14ad0cf277bec26352b0a\", element=\"33a8d762-f461-4751-9df8-754bea5426e3\")>,\n",
       " <selenium.webdriver.remote.webelement.WebElement (session=\"58c420a6f5c14ad0cf277bec26352b0a\", element=\"13e089df-4683-4b72-b5f1-5ecb978cd9cd\")>]"
      ]
     },
     "execution_count": 117,
     "metadata": {},
     "output_type": "execute_result"
    }
   ],
   "source": [
    "pri =  driver.find_elements_by_class_name(\"_3bPFwb\")\n",
    "pri[0:2]"
   ]
  },
  {
   "cell_type": "code",
   "execution_count": 118,
   "id": "4da9e034",
   "metadata": {},
   "outputs": [
    {
     "data": {
      "text/plain": [
       "['  /-287  /-1,49980%', '  /-681  /-3,69981%']"
      ]
     },
     "execution_count": 118,
     "metadata": {},
     "output_type": "execute_result"
    }
   ],
   "source": [
    "price=[]\n",
    "for i in pri:\n",
    "    price.append(i.text.split()[0].replace('₹','  /-'))\n",
    "price[0:2]"
   ]
  },
  {
   "cell_type": "code",
   "execution_count": 119,
   "id": "43a8e152",
   "metadata": {},
   "outputs": [
    {
     "data": {
      "text/plain": [
       "40"
      ]
     },
     "execution_count": 119,
     "metadata": {},
     "output_type": "execute_result"
    }
   ],
   "source": [
    "len(price)"
   ]
  },
  {
   "cell_type": "code",
   "execution_count": 120,
   "id": "a043faff",
   "metadata": {},
   "outputs": [
    {
     "data": {
      "text/plain": [
       "['  /-287  /-1,49980%', '  /-681  /-3,69981%']"
      ]
     },
     "execution_count": 120,
     "metadata": {},
     "output_type": "execute_result"
    }
   ],
   "source": [
    "button = driver.find_element_by_class_name(\"_1LKTO3\")\n",
    "button.click()\n",
    "time.sleep(5)\n",
    "pri =  driver.find_elements_by_class_name(\"_3bPFwb\")\n",
    "pri\n",
    "for i in pri:\n",
    "    price.append(i.text.split()[0].replace('₹','  /-'))\n",
    "price[0:2]"
   ]
  },
  {
   "cell_type": "code",
   "execution_count": 121,
   "id": "02a00178",
   "metadata": {},
   "outputs": [
    {
     "data": {
      "text/plain": [
       "80"
      ]
     },
     "execution_count": 121,
     "metadata": {},
     "output_type": "execute_result"
    }
   ],
   "source": [
    "len(price)"
   ]
  },
  {
   "cell_type": "code",
   "execution_count": 122,
   "id": "8fcbee26",
   "metadata": {},
   "outputs": [
    {
     "data": {
      "text/plain": [
       "['  /-287  /-1,49980%', '  /-681  /-3,69981%']"
      ]
     },
     "execution_count": 122,
     "metadata": {},
     "output_type": "execute_result"
    }
   ],
   "source": [
    "button = driver.find_element_by_class_name(\"_1LKTO3\")\n",
    "button.click()\n",
    "time.sleep(5)\n",
    "pri =  driver.find_elements_by_class_name(\"_3bPFwb\")\n",
    "pri\n",
    "for i in pri:\n",
    "    price.append(i.text.split()[0].replace('₹','  /-'))\n",
    "price[0:2]"
   ]
  },
  {
   "cell_type": "code",
   "execution_count": 123,
   "id": "c010755c",
   "metadata": {},
   "outputs": [
    {
     "data": {
      "text/plain": [
       "120"
      ]
     },
     "execution_count": 123,
     "metadata": {},
     "output_type": "execute_result"
    }
   ],
   "source": [
    "len(price)"
   ]
  },
  {
   "cell_type": "code",
   "execution_count": 124,
   "id": "517e241c",
   "metadata": {},
   "outputs": [
    {
     "data": {
      "text/plain": [
       "(120, 120, 120)"
      ]
     },
     "execution_count": 124,
     "metadata": {},
     "output_type": "execute_result"
    }
   ],
   "source": [
    "len(brands),len(product),len(price)"
   ]
  },
  {
   "cell_type": "code",
   "execution_count": 125,
   "id": "308e6c09",
   "metadata": {},
   "outputs": [
    {
     "data": {
      "text/html": [
       "<div>\n",
       "<style scoped>\n",
       "    .dataframe tbody tr th:only-of-type {\n",
       "        vertical-align: middle;\n",
       "    }\n",
       "\n",
       "    .dataframe tbody tr th {\n",
       "        vertical-align: top;\n",
       "    }\n",
       "\n",
       "    .dataframe thead th {\n",
       "        text-align: right;\n",
       "    }\n",
       "</style>\n",
       "<table border=\"1\" class=\"dataframe\">\n",
       "  <thead>\n",
       "    <tr style=\"text-align: right;\">\n",
       "      <th></th>\n",
       "      <th>Brand</th>\n",
       "      <th>ProductDescription</th>\n",
       "      <th>Cost</th>\n",
       "    </tr>\n",
       "  </thead>\n",
       "  <tbody>\n",
       "    <tr>\n",
       "      <th>0</th>\n",
       "      <td>CRYSTAL CART</td>\n",
       "      <td>UV Protection, Gradient Round Sunglasses (Free...</td>\n",
       "      <td>/-287  /-1,49980%</td>\n",
       "    </tr>\n",
       "    <tr>\n",
       "      <th>1</th>\n",
       "      <td>ROZZETTA CRAFT</td>\n",
       "      <td>UV Protection, Gradient Rectangular Sunglasses...</td>\n",
       "      <td>/-681  /-3,69981%</td>\n",
       "    </tr>\n",
       "    <tr>\n",
       "      <th>2</th>\n",
       "      <td>Mi</td>\n",
       "      <td>Polarized Aviator Sunglasses (Free Size)</td>\n",
       "      <td>/-449  /-99054%</td>\n",
       "    </tr>\n",
       "    <tr>\n",
       "      <th>3</th>\n",
       "      <td>SRPM</td>\n",
       "      <td>UV Protection Wayfarer Sunglasses (50)</td>\n",
       "      <td>/-449  /-2,22579%</td>\n",
       "    </tr>\n",
       "    <tr>\n",
       "      <th>4</th>\n",
       "      <td>Fastrack</td>\n",
       "      <td>UV Protection Rectangular Sunglasses (Free Size)</td>\n",
       "      <td>/-629  /-79921%</td>\n",
       "    </tr>\n",
       "    <tr>\n",
       "      <th>...</th>\n",
       "      <td>...</td>\n",
       "      <td>...</td>\n",
       "      <td>...</td>\n",
       "    </tr>\n",
       "    <tr>\n",
       "      <th>115</th>\n",
       "      <td>ROYAL SON</td>\n",
       "      <td>UV Protection Butterfly Sunglasses (60)</td>\n",
       "      <td>/-360  /-2,59986%</td>\n",
       "    </tr>\n",
       "    <tr>\n",
       "      <th>116</th>\n",
       "      <td>SUNBEE</td>\n",
       "      <td>UV Protection, Gradient Rectangular Sunglasses...</td>\n",
       "      <td>/-359  /-1,99982%</td>\n",
       "    </tr>\n",
       "    <tr>\n",
       "      <th>117</th>\n",
       "      <td>SRPM</td>\n",
       "      <td>Polarized, UV Protection Retro Square Sunglass...</td>\n",
       "      <td>/-303  /-1,29976%</td>\n",
       "    </tr>\n",
       "    <tr>\n",
       "      <th>118</th>\n",
       "      <td>GANSTA</td>\n",
       "      <td>UV Protection Rectangular Sunglasses (Free Size)</td>\n",
       "      <td>/-299  /-99970%</td>\n",
       "    </tr>\n",
       "    <tr>\n",
       "      <th>119</th>\n",
       "      <td>VINCENT CHASE</td>\n",
       "      <td>UV Protection Aviator Sunglasses (62)</td>\n",
       "      <td>/-519  /-2,55579%</td>\n",
       "    </tr>\n",
       "  </tbody>\n",
       "</table>\n",
       "<p>120 rows × 3 columns</p>\n",
       "</div>"
      ],
      "text/plain": [
       "              Brand                                 ProductDescription  \\\n",
       "0      CRYSTAL CART  UV Protection, Gradient Round Sunglasses (Free...   \n",
       "1    ROZZETTA CRAFT  UV Protection, Gradient Rectangular Sunglasses...   \n",
       "2                Mi           Polarized Aviator Sunglasses (Free Size)   \n",
       "3              SRPM             UV Protection Wayfarer Sunglasses (50)   \n",
       "4          Fastrack   UV Protection Rectangular Sunglasses (Free Size)   \n",
       "..              ...                                                ...   \n",
       "115       ROYAL SON            UV Protection Butterfly Sunglasses (60)   \n",
       "116          SUNBEE  UV Protection, Gradient Rectangular Sunglasses...   \n",
       "117            SRPM  Polarized, UV Protection Retro Square Sunglass...   \n",
       "118          GANSTA   UV Protection Rectangular Sunglasses (Free Size)   \n",
       "119   VINCENT CHASE              UV Protection Aviator Sunglasses (62)   \n",
       "\n",
       "                    Cost  \n",
       "0      /-287  /-1,49980%  \n",
       "1      /-681  /-3,69981%  \n",
       "2        /-449  /-99054%  \n",
       "3      /-449  /-2,22579%  \n",
       "4        /-629  /-79921%  \n",
       "..                   ...  \n",
       "115    /-360  /-2,59986%  \n",
       "116    /-359  /-1,99982%  \n",
       "117    /-303  /-1,29976%  \n",
       "118      /-299  /-99970%  \n",
       "119    /-519  /-2,55579%  \n",
       "\n",
       "[120 rows x 3 columns]"
      ]
     },
     "execution_count": 125,
     "metadata": {},
     "output_type": "execute_result"
    }
   ],
   "source": [
    "Sunglass = pd.DataFrame({'Brand':brands,'ProductDescription':product,'Cost':price})\n",
    "Sunglass "
   ]
  },
  {
   "cell_type": "markdown",
   "id": "d3e6bc10",
   "metadata": {},
   "source": [
    "Q5: Scrape 100 reviews data from flipkart.com for iphone11 phone.\n",
    "This task will be done in following steps:\n",
    "1. First get the webpage https://www.flipkart.com/\n",
    "2. Enter “iphone 11” in “Search” field .\n",
    "3. Then click the search button.\n",
    "You will reach to the below shown webpage .\n",
    "As shown in the above page you have to scrape the tick marked attributes.These are:\n",
    "1. Rating\n",
    "2. Review summary\n",
    "3. Full review\n",
    "4. You have to scrape this data for first 100 reviews."
   ]
  },
  {
   "cell_type": "code",
   "execution_count": 126,
   "id": "f2aacbe9",
   "metadata": {},
   "outputs": [],
   "source": [
    "driver = webdriver.Chrome(r\"C:\\Users\\ndurg\\OneDrive\\Desktop\\webdriver\\chromedriver.exe\")\n",
    "time.sleep(2)\n",
    "driver.get('https://www.flipkart.com/')"
   ]
  },
  {
   "cell_type": "code",
   "execution_count": 127,
   "id": "2a74bcd8",
   "metadata": {},
   "outputs": [],
   "source": [
    "button = driver.find_element_by_xpath(\"/html/body/div[2]/div/div/button\")\n",
    "button.click()"
   ]
  },
  {
   "cell_type": "code",
   "execution_count": 128,
   "id": "437e0162",
   "metadata": {},
   "outputs": [],
   "source": [
    "search = driver.find_element_by_class_name('_3704LK')\n",
    "search.send_keys('iphone 11')"
   ]
  },
  {
   "cell_type": "code",
   "execution_count": 129,
   "id": "c01b9327",
   "metadata": {},
   "outputs": [],
   "source": [
    "button = driver.find_element_by_class_name(\"L0Z3Pu\")\n",
    "button.click()"
   ]
  },
  {
   "cell_type": "code",
   "execution_count": 130,
   "id": "c2cf02d5",
   "metadata": {},
   "outputs": [],
   "source": [
    "Rating = []\n",
    "Reiviewsumm = []\n",
    "FullReiview = []"
   ]
  },
  {
   "cell_type": "code",
   "execution_count": 131,
   "id": "8e4a6509",
   "metadata": {},
   "outputs": [
    {
     "data": {
      "text/plain": [
       "<selenium.webdriver.remote.webelement.WebElement (session=\"f7626a629a833942e1c53ba2bac3b860\", element=\"2061dcc6-2c88-4868-b259-d5e09071b942\")>"
      ]
     },
     "execution_count": 131,
     "metadata": {},
     "output_type": "execute_result"
    }
   ],
   "source": [
    "ra =  driver.find_element_by_class_name(\"_3LWZlK\")\n",
    "ra"
   ]
  },
  {
   "cell_type": "code",
   "execution_count": 132,
   "id": "d38ec5e6",
   "metadata": {},
   "outputs": [
    {
     "data": {
      "text/plain": [
       "'4.6'"
      ]
     },
     "execution_count": 132,
     "metadata": {},
     "output_type": "execute_result"
    }
   ],
   "source": [
    "ra.text"
   ]
  },
  {
   "cell_type": "code",
   "execution_count": 134,
   "id": "fdb8ea36",
   "metadata": {},
   "outputs": [
    {
     "data": {
      "text/plain": [
       "[<selenium.webdriver.remote.webelement.WebElement (session=\"f7626a629a833942e1c53ba2bac3b860\", element=\"2061dcc6-2c88-4868-b259-d5e09071b942\")>,\n",
       " <selenium.webdriver.remote.webelement.WebElement (session=\"f7626a629a833942e1c53ba2bac3b860\", element=\"a486c0b5-bc19-436c-a48c-786c9894c4e0\")>]"
      ]
     },
     "execution_count": 134,
     "metadata": {},
     "output_type": "execute_result"
    }
   ],
   "source": [
    "ra =  driver.find_elements_by_class_name(\"_3LWZlK\")\n",
    "ra[0:2]"
   ]
  },
  {
   "cell_type": "code",
   "execution_count": 135,
   "id": "a2f07971",
   "metadata": {},
   "outputs": [
    {
     "data": {
      "text/plain": [
       "['4.6', '4.6']"
      ]
     },
     "execution_count": 135,
     "metadata": {},
     "output_type": "execute_result"
    }
   ],
   "source": [
    "for i in ra:\n",
    "    Rating.append(i.text)\n",
    "Rating[0:2]"
   ]
  },
  {
   "cell_type": "code",
   "execution_count": 136,
   "id": "226c050d",
   "metadata": {},
   "outputs": [
    {
     "data": {
      "text/plain": [
       "24"
      ]
     },
     "execution_count": 136,
     "metadata": {},
     "output_type": "execute_result"
    }
   ],
   "source": [
    "len(Rating)"
   ]
  },
  {
   "cell_type": "code",
   "execution_count": 137,
   "id": "c48c9795",
   "metadata": {},
   "outputs": [
    {
     "data": {
      "text/plain": [
       "<selenium.webdriver.remote.webelement.WebElement (session=\"f7626a629a833942e1c53ba2bac3b860\", element=\"f700d45a-eae8-4fef-8ecf-5817339220d9\")>"
      ]
     },
     "execution_count": 137,
     "metadata": {},
     "output_type": "execute_result"
    }
   ],
   "source": [
    "rs = driver.find_element_by_class_name('_2_R_DZ')\n",
    "rs"
   ]
  },
  {
   "cell_type": "code",
   "execution_count": 138,
   "id": "da8399b5",
   "metadata": {},
   "outputs": [
    {
     "data": {
      "text/plain": [
       "'85,629 Ratings & 6,472 Reviews'"
      ]
     },
     "execution_count": 138,
     "metadata": {},
     "output_type": "execute_result"
    }
   ],
   "source": [
    "rs.text"
   ]
  },
  {
   "cell_type": "code",
   "execution_count": 139,
   "id": "4ad0abef",
   "metadata": {},
   "outputs": [
    {
     "data": {
      "text/plain": [
       "[<selenium.webdriver.remote.webelement.WebElement (session=\"f7626a629a833942e1c53ba2bac3b860\", element=\"f700d45a-eae8-4fef-8ecf-5817339220d9\")>,\n",
       " <selenium.webdriver.remote.webelement.WebElement (session=\"f7626a629a833942e1c53ba2bac3b860\", element=\"e2b51872-e501-4dbf-92b1-52025cbc4262\")>]"
      ]
     },
     "execution_count": 139,
     "metadata": {},
     "output_type": "execute_result"
    }
   ],
   "source": [
    "rs = driver.find_elements_by_class_name('_2_R_DZ')\n",
    "rs[0:2]"
   ]
  },
  {
   "cell_type": "code",
   "execution_count": 140,
   "id": "3b48a4ce",
   "metadata": {},
   "outputs": [
    {
     "data": {
      "text/plain": [
       "['85,629 Ratings & 6,472 Reviews', '85,629 Ratings & 6,472 Reviews']"
      ]
     },
     "execution_count": 140,
     "metadata": {},
     "output_type": "execute_result"
    }
   ],
   "source": [
    "for i in rs:\n",
    "    Reiviewsumm.append(i.text)\n",
    "Reiviewsumm[0:2]"
   ]
  },
  {
   "cell_type": "code",
   "execution_count": 141,
   "id": "6cdfeaeb",
   "metadata": {},
   "outputs": [
    {
     "data": {
      "text/plain": [
       "24"
      ]
     },
     "execution_count": 141,
     "metadata": {},
     "output_type": "execute_result"
    }
   ],
   "source": [
    "len(Reiviewsumm)"
   ]
  },
  {
   "cell_type": "code",
   "execution_count": 142,
   "id": "12eee658",
   "metadata": {},
   "outputs": [],
   "source": [
    "button = driver.find_element_by_class_name(\"_2_R_DZ\")\n",
    "button.click()"
   ]
  },
  {
   "cell_type": "code",
   "execution_count": 143,
   "id": "77e5740a",
   "metadata": {},
   "outputs": [
    {
     "ename": "NoSuchElementException",
     "evalue": "Message: no such element: Unable to locate element: {\"method\":\"xpath\",\"selector\":\"/html/body/div[1]/div/div[3]/div[1]/div[2]/div[9]/div[6]/div/a/div\"}\n  (Session info: chrome=102.0.5005.115)\nStacktrace:\nBacktrace:\n\tOrdinal0 [0x0089D953+2414931]\n\tOrdinal0 [0x0082F5E1+1963489]\n\tOrdinal0 [0x0071C6B8+837304]\n\tOrdinal0 [0x00749500+1021184]\n\tOrdinal0 [0x0074979B+1021851]\n\tOrdinal0 [0x00776502+1205506]\n\tOrdinal0 [0x007644E4+1131748]\n\tOrdinal0 [0x00774812+1198098]\n\tOrdinal0 [0x007642B6+1131190]\n\tOrdinal0 [0x0073E860+976992]\n\tOrdinal0 [0x0073F756+980822]\n\tGetHandleVerifier [0x00B0CC62+2510274]\n\tGetHandleVerifier [0x00AFF760+2455744]\n\tGetHandleVerifier [0x0092EABA+551962]\n\tGetHandleVerifier [0x0092D916+547446]\n\tOrdinal0 [0x00835F3B+1990459]\n\tOrdinal0 [0x0083A898+2009240]\n\tOrdinal0 [0x0083A985+2009477]\n\tOrdinal0 [0x00843AD1+2046673]\n\tBaseThreadInitThunk [0x761A6739+25]\n\tRtlGetFullPathName_UEx [0x77458FEF+1215]\n\tRtlGetFullPathName_UEx [0x77458FBD+1165]\n",
     "output_type": "error",
     "traceback": [
      "\u001b[1;31m---------------------------------------------------------------------------\u001b[0m",
      "\u001b[1;31mNoSuchElementException\u001b[0m                    Traceback (most recent call last)",
      "\u001b[1;32m~\\AppData\\Local\\Temp/ipykernel_23092/1366366114.py\u001b[0m in \u001b[0;36m<module>\u001b[1;34m\u001b[0m\n\u001b[1;32m----> 1\u001b[1;33m \u001b[0mbutton\u001b[0m \u001b[1;33m=\u001b[0m \u001b[0mdriver\u001b[0m\u001b[1;33m.\u001b[0m\u001b[0mfind_element_by_xpath\u001b[0m\u001b[1;33m(\u001b[0m\u001b[1;34m\"/html/body/div[1]/div/div[3]/div[1]/div[2]/div[9]/div[6]/div/a/div\"\u001b[0m\u001b[1;33m)\u001b[0m\u001b[1;33m\u001b[0m\u001b[1;33m\u001b[0m\u001b[0m\n\u001b[0m\u001b[0;32m      2\u001b[0m \u001b[0mbutton\u001b[0m\u001b[1;33m.\u001b[0m\u001b[0mclick\u001b[0m\u001b[1;33m(\u001b[0m\u001b[1;33m)\u001b[0m\u001b[1;33m\u001b[0m\u001b[1;33m\u001b[0m\u001b[0m\n",
      "\u001b[1;32m~\\anaconda3\\lib\\site-packages\\selenium\\webdriver\\remote\\webdriver.py\u001b[0m in \u001b[0;36mfind_element_by_xpath\u001b[1;34m(self, xpath)\u001b[0m\n\u001b[0;32m    524\u001b[0m             \u001b[0mstacklevel\u001b[0m\u001b[1;33m=\u001b[0m\u001b[1;36m2\u001b[0m\u001b[1;33m,\u001b[0m\u001b[1;33m\u001b[0m\u001b[1;33m\u001b[0m\u001b[0m\n\u001b[0;32m    525\u001b[0m         )\n\u001b[1;32m--> 526\u001b[1;33m         \u001b[1;32mreturn\u001b[0m \u001b[0mself\u001b[0m\u001b[1;33m.\u001b[0m\u001b[0mfind_element\u001b[0m\u001b[1;33m(\u001b[0m\u001b[0mby\u001b[0m\u001b[1;33m=\u001b[0m\u001b[0mBy\u001b[0m\u001b[1;33m.\u001b[0m\u001b[0mXPATH\u001b[0m\u001b[1;33m,\u001b[0m \u001b[0mvalue\u001b[0m\u001b[1;33m=\u001b[0m\u001b[0mxpath\u001b[0m\u001b[1;33m)\u001b[0m\u001b[1;33m\u001b[0m\u001b[1;33m\u001b[0m\u001b[0m\n\u001b[0m\u001b[0;32m    527\u001b[0m \u001b[1;33m\u001b[0m\u001b[0m\n\u001b[0;32m    528\u001b[0m     \u001b[1;32mdef\u001b[0m \u001b[0mfind_elements_by_xpath\u001b[0m\u001b[1;33m(\u001b[0m\u001b[0mself\u001b[0m\u001b[1;33m,\u001b[0m \u001b[0mxpath\u001b[0m\u001b[1;33m)\u001b[0m \u001b[1;33m->\u001b[0m \u001b[0mList\u001b[0m\u001b[1;33m[\u001b[0m\u001b[0mWebElement\u001b[0m\u001b[1;33m]\u001b[0m\u001b[1;33m:\u001b[0m\u001b[1;33m\u001b[0m\u001b[1;33m\u001b[0m\u001b[0m\n",
      "\u001b[1;32m~\\anaconda3\\lib\\site-packages\\selenium\\webdriver\\remote\\webdriver.py\u001b[0m in \u001b[0;36mfind_element\u001b[1;34m(self, by, value)\u001b[0m\n\u001b[0;32m   1249\u001b[0m             \u001b[0mvalue\u001b[0m \u001b[1;33m=\u001b[0m \u001b[1;34m'[name=\"%s\"]'\u001b[0m \u001b[1;33m%\u001b[0m \u001b[0mvalue\u001b[0m\u001b[1;33m\u001b[0m\u001b[1;33m\u001b[0m\u001b[0m\n\u001b[0;32m   1250\u001b[0m \u001b[1;33m\u001b[0m\u001b[0m\n\u001b[1;32m-> 1251\u001b[1;33m         return self.execute(Command.FIND_ELEMENT, {\n\u001b[0m\u001b[0;32m   1252\u001b[0m             \u001b[1;34m'using'\u001b[0m\u001b[1;33m:\u001b[0m \u001b[0mby\u001b[0m\u001b[1;33m,\u001b[0m\u001b[1;33m\u001b[0m\u001b[1;33m\u001b[0m\u001b[0m\n\u001b[0;32m   1253\u001b[0m             'value': value})['value']\n",
      "\u001b[1;32m~\\anaconda3\\lib\\site-packages\\selenium\\webdriver\\remote\\webdriver.py\u001b[0m in \u001b[0;36mexecute\u001b[1;34m(self, driver_command, params)\u001b[0m\n\u001b[0;32m    428\u001b[0m         \u001b[0mresponse\u001b[0m \u001b[1;33m=\u001b[0m \u001b[0mself\u001b[0m\u001b[1;33m.\u001b[0m\u001b[0mcommand_executor\u001b[0m\u001b[1;33m.\u001b[0m\u001b[0mexecute\u001b[0m\u001b[1;33m(\u001b[0m\u001b[0mdriver_command\u001b[0m\u001b[1;33m,\u001b[0m \u001b[0mparams\u001b[0m\u001b[1;33m)\u001b[0m\u001b[1;33m\u001b[0m\u001b[1;33m\u001b[0m\u001b[0m\n\u001b[0;32m    429\u001b[0m         \u001b[1;32mif\u001b[0m \u001b[0mresponse\u001b[0m\u001b[1;33m:\u001b[0m\u001b[1;33m\u001b[0m\u001b[1;33m\u001b[0m\u001b[0m\n\u001b[1;32m--> 430\u001b[1;33m             \u001b[0mself\u001b[0m\u001b[1;33m.\u001b[0m\u001b[0merror_handler\u001b[0m\u001b[1;33m.\u001b[0m\u001b[0mcheck_response\u001b[0m\u001b[1;33m(\u001b[0m\u001b[0mresponse\u001b[0m\u001b[1;33m)\u001b[0m\u001b[1;33m\u001b[0m\u001b[1;33m\u001b[0m\u001b[0m\n\u001b[0m\u001b[0;32m    431\u001b[0m             response['value'] = self._unwrap_value(\n\u001b[0;32m    432\u001b[0m                 response.get('value', None))\n",
      "\u001b[1;32m~\\anaconda3\\lib\\site-packages\\selenium\\webdriver\\remote\\errorhandler.py\u001b[0m in \u001b[0;36mcheck_response\u001b[1;34m(self, response)\u001b[0m\n\u001b[0;32m    245\u001b[0m                 \u001b[0malert_text\u001b[0m \u001b[1;33m=\u001b[0m \u001b[0mvalue\u001b[0m\u001b[1;33m[\u001b[0m\u001b[1;34m'alert'\u001b[0m\u001b[1;33m]\u001b[0m\u001b[1;33m.\u001b[0m\u001b[0mget\u001b[0m\u001b[1;33m(\u001b[0m\u001b[1;34m'text'\u001b[0m\u001b[1;33m)\u001b[0m\u001b[1;33m\u001b[0m\u001b[1;33m\u001b[0m\u001b[0m\n\u001b[0;32m    246\u001b[0m             \u001b[1;32mraise\u001b[0m \u001b[0mexception_class\u001b[0m\u001b[1;33m(\u001b[0m\u001b[0mmessage\u001b[0m\u001b[1;33m,\u001b[0m \u001b[0mscreen\u001b[0m\u001b[1;33m,\u001b[0m \u001b[0mstacktrace\u001b[0m\u001b[1;33m,\u001b[0m \u001b[0malert_text\u001b[0m\u001b[1;33m)\u001b[0m  \u001b[1;31m# type: ignore[call-arg]  # mypy is not smart enough here\u001b[0m\u001b[1;33m\u001b[0m\u001b[1;33m\u001b[0m\u001b[0m\n\u001b[1;32m--> 247\u001b[1;33m         \u001b[1;32mraise\u001b[0m \u001b[0mexception_class\u001b[0m\u001b[1;33m(\u001b[0m\u001b[0mmessage\u001b[0m\u001b[1;33m,\u001b[0m \u001b[0mscreen\u001b[0m\u001b[1;33m,\u001b[0m \u001b[0mstacktrace\u001b[0m\u001b[1;33m)\u001b[0m\u001b[1;33m\u001b[0m\u001b[1;33m\u001b[0m\u001b[0m\n\u001b[0m\u001b[0;32m    248\u001b[0m \u001b[1;33m\u001b[0m\u001b[0m\n\u001b[0;32m    249\u001b[0m     \u001b[1;32mdef\u001b[0m \u001b[0m_value_or_default\u001b[0m\u001b[1;33m(\u001b[0m\u001b[0mself\u001b[0m\u001b[1;33m,\u001b[0m \u001b[0mobj\u001b[0m\u001b[1;33m:\u001b[0m \u001b[0mMapping\u001b[0m\u001b[1;33m[\u001b[0m\u001b[0m_KT\u001b[0m\u001b[1;33m,\u001b[0m \u001b[0m_VT\u001b[0m\u001b[1;33m]\u001b[0m\u001b[1;33m,\u001b[0m \u001b[0mkey\u001b[0m\u001b[1;33m:\u001b[0m \u001b[0m_KT\u001b[0m\u001b[1;33m,\u001b[0m \u001b[0mdefault\u001b[0m\u001b[1;33m:\u001b[0m \u001b[0m_VT\u001b[0m\u001b[1;33m)\u001b[0m \u001b[1;33m->\u001b[0m \u001b[0m_VT\u001b[0m\u001b[1;33m:\u001b[0m\u001b[1;33m\u001b[0m\u001b[1;33m\u001b[0m\u001b[0m\n",
      "\u001b[1;31mNoSuchElementException\u001b[0m: Message: no such element: Unable to locate element: {\"method\":\"xpath\",\"selector\":\"/html/body/div[1]/div/div[3]/div[1]/div[2]/div[9]/div[6]/div/a/div\"}\n  (Session info: chrome=102.0.5005.115)\nStacktrace:\nBacktrace:\n\tOrdinal0 [0x0089D953+2414931]\n\tOrdinal0 [0x0082F5E1+1963489]\n\tOrdinal0 [0x0071C6B8+837304]\n\tOrdinal0 [0x00749500+1021184]\n\tOrdinal0 [0x0074979B+1021851]\n\tOrdinal0 [0x00776502+1205506]\n\tOrdinal0 [0x007644E4+1131748]\n\tOrdinal0 [0x00774812+1198098]\n\tOrdinal0 [0x007642B6+1131190]\n\tOrdinal0 [0x0073E860+976992]\n\tOrdinal0 [0x0073F756+980822]\n\tGetHandleVerifier [0x00B0CC62+2510274]\n\tGetHandleVerifier [0x00AFF760+2455744]\n\tGetHandleVerifier [0x0092EABA+551962]\n\tGetHandleVerifier [0x0092D916+547446]\n\tOrdinal0 [0x00835F3B+1990459]\n\tOrdinal0 [0x0083A898+2009240]\n\tOrdinal0 [0x0083A985+2009477]\n\tOrdinal0 [0x00843AD1+2046673]\n\tBaseThreadInitThunk [0x761A6739+25]\n\tRtlGetFullPathName_UEx [0x77458FEF+1215]\n\tRtlGetFullPathName_UEx [0x77458FBD+1165]\n"
     ]
    }
   ],
   "source": [
    "button = driver.find_element_by_xpath(\"/html/body/div[1]/div/div[3]/div[1]/div[2]/div[9]/div[6]/div/a/div\")\n",
    "button.click()"
   ]
  },
  {
   "cell_type": "code",
   "execution_count": 144,
   "id": "ba3b4a30",
   "metadata": {},
   "outputs": [
    {
     "ename": "NoSuchElementException",
     "evalue": "Message: no such element: Unable to locate element: {\"method\":\"xpath\",\"selector\":\"/html/body/div[1]/div/div[3]/div[1]/div[2]/div[9]/div[6]/div/div[4]/div[1]/div/div/div[2]/div\"}\n  (Session info: chrome=102.0.5005.115)\nStacktrace:\nBacktrace:\n\tOrdinal0 [0x0089D953+2414931]\n\tOrdinal0 [0x0082F5E1+1963489]\n\tOrdinal0 [0x0071C6B8+837304]\n\tOrdinal0 [0x00749500+1021184]\n\tOrdinal0 [0x0074979B+1021851]\n\tOrdinal0 [0x00776502+1205506]\n\tOrdinal0 [0x007644E4+1131748]\n\tOrdinal0 [0x00774812+1198098]\n\tOrdinal0 [0x007642B6+1131190]\n\tOrdinal0 [0x0073E860+976992]\n\tOrdinal0 [0x0073F756+980822]\n\tGetHandleVerifier [0x00B0CC62+2510274]\n\tGetHandleVerifier [0x00AFF760+2455744]\n\tGetHandleVerifier [0x0092EABA+551962]\n\tGetHandleVerifier [0x0092D916+547446]\n\tOrdinal0 [0x00835F3B+1990459]\n\tOrdinal0 [0x0083A898+2009240]\n\tOrdinal0 [0x0083A985+2009477]\n\tOrdinal0 [0x00843AD1+2046673]\n\tBaseThreadInitThunk [0x761A6739+25]\n\tRtlGetFullPathName_UEx [0x77458FEF+1215]\n\tRtlGetFullPathName_UEx [0x77458FBD+1165]\n",
     "output_type": "error",
     "traceback": [
      "\u001b[1;31m---------------------------------------------------------------------------\u001b[0m",
      "\u001b[1;31mNoSuchElementException\u001b[0m                    Traceback (most recent call last)",
      "\u001b[1;32m~\\AppData\\Local\\Temp/ipykernel_23092/726280181.py\u001b[0m in \u001b[0;36m<module>\u001b[1;34m\u001b[0m\n\u001b[1;32m----> 1\u001b[1;33m \u001b[0mfr\u001b[0m \u001b[1;33m=\u001b[0m \u001b[0mdriver\u001b[0m\u001b[1;33m.\u001b[0m\u001b[0mfind_element_by_xpath\u001b[0m\u001b[1;33m(\u001b[0m\u001b[1;34m'/html/body/div[1]/div/div[3]/div[1]/div[2]/div[9]/div[6]/div/div[4]/div[1]/div/div/div[2]/div'\u001b[0m\u001b[1;33m)\u001b[0m\u001b[1;33m\u001b[0m\u001b[1;33m\u001b[0m\u001b[0m\n\u001b[0m\u001b[0;32m      2\u001b[0m \u001b[0mfr\u001b[0m\u001b[1;33m\u001b[0m\u001b[1;33m\u001b[0m\u001b[0m\n",
      "\u001b[1;32m~\\anaconda3\\lib\\site-packages\\selenium\\webdriver\\remote\\webdriver.py\u001b[0m in \u001b[0;36mfind_element_by_xpath\u001b[1;34m(self, xpath)\u001b[0m\n\u001b[0;32m    524\u001b[0m             \u001b[0mstacklevel\u001b[0m\u001b[1;33m=\u001b[0m\u001b[1;36m2\u001b[0m\u001b[1;33m,\u001b[0m\u001b[1;33m\u001b[0m\u001b[1;33m\u001b[0m\u001b[0m\n\u001b[0;32m    525\u001b[0m         )\n\u001b[1;32m--> 526\u001b[1;33m         \u001b[1;32mreturn\u001b[0m \u001b[0mself\u001b[0m\u001b[1;33m.\u001b[0m\u001b[0mfind_element\u001b[0m\u001b[1;33m(\u001b[0m\u001b[0mby\u001b[0m\u001b[1;33m=\u001b[0m\u001b[0mBy\u001b[0m\u001b[1;33m.\u001b[0m\u001b[0mXPATH\u001b[0m\u001b[1;33m,\u001b[0m \u001b[0mvalue\u001b[0m\u001b[1;33m=\u001b[0m\u001b[0mxpath\u001b[0m\u001b[1;33m)\u001b[0m\u001b[1;33m\u001b[0m\u001b[1;33m\u001b[0m\u001b[0m\n\u001b[0m\u001b[0;32m    527\u001b[0m \u001b[1;33m\u001b[0m\u001b[0m\n\u001b[0;32m    528\u001b[0m     \u001b[1;32mdef\u001b[0m \u001b[0mfind_elements_by_xpath\u001b[0m\u001b[1;33m(\u001b[0m\u001b[0mself\u001b[0m\u001b[1;33m,\u001b[0m \u001b[0mxpath\u001b[0m\u001b[1;33m)\u001b[0m \u001b[1;33m->\u001b[0m \u001b[0mList\u001b[0m\u001b[1;33m[\u001b[0m\u001b[0mWebElement\u001b[0m\u001b[1;33m]\u001b[0m\u001b[1;33m:\u001b[0m\u001b[1;33m\u001b[0m\u001b[1;33m\u001b[0m\u001b[0m\n",
      "\u001b[1;32m~\\anaconda3\\lib\\site-packages\\selenium\\webdriver\\remote\\webdriver.py\u001b[0m in \u001b[0;36mfind_element\u001b[1;34m(self, by, value)\u001b[0m\n\u001b[0;32m   1249\u001b[0m             \u001b[0mvalue\u001b[0m \u001b[1;33m=\u001b[0m \u001b[1;34m'[name=\"%s\"]'\u001b[0m \u001b[1;33m%\u001b[0m \u001b[0mvalue\u001b[0m\u001b[1;33m\u001b[0m\u001b[1;33m\u001b[0m\u001b[0m\n\u001b[0;32m   1250\u001b[0m \u001b[1;33m\u001b[0m\u001b[0m\n\u001b[1;32m-> 1251\u001b[1;33m         return self.execute(Command.FIND_ELEMENT, {\n\u001b[0m\u001b[0;32m   1252\u001b[0m             \u001b[1;34m'using'\u001b[0m\u001b[1;33m:\u001b[0m \u001b[0mby\u001b[0m\u001b[1;33m,\u001b[0m\u001b[1;33m\u001b[0m\u001b[1;33m\u001b[0m\u001b[0m\n\u001b[0;32m   1253\u001b[0m             'value': value})['value']\n",
      "\u001b[1;32m~\\anaconda3\\lib\\site-packages\\selenium\\webdriver\\remote\\webdriver.py\u001b[0m in \u001b[0;36mexecute\u001b[1;34m(self, driver_command, params)\u001b[0m\n\u001b[0;32m    428\u001b[0m         \u001b[0mresponse\u001b[0m \u001b[1;33m=\u001b[0m \u001b[0mself\u001b[0m\u001b[1;33m.\u001b[0m\u001b[0mcommand_executor\u001b[0m\u001b[1;33m.\u001b[0m\u001b[0mexecute\u001b[0m\u001b[1;33m(\u001b[0m\u001b[0mdriver_command\u001b[0m\u001b[1;33m,\u001b[0m \u001b[0mparams\u001b[0m\u001b[1;33m)\u001b[0m\u001b[1;33m\u001b[0m\u001b[1;33m\u001b[0m\u001b[0m\n\u001b[0;32m    429\u001b[0m         \u001b[1;32mif\u001b[0m \u001b[0mresponse\u001b[0m\u001b[1;33m:\u001b[0m\u001b[1;33m\u001b[0m\u001b[1;33m\u001b[0m\u001b[0m\n\u001b[1;32m--> 430\u001b[1;33m             \u001b[0mself\u001b[0m\u001b[1;33m.\u001b[0m\u001b[0merror_handler\u001b[0m\u001b[1;33m.\u001b[0m\u001b[0mcheck_response\u001b[0m\u001b[1;33m(\u001b[0m\u001b[0mresponse\u001b[0m\u001b[1;33m)\u001b[0m\u001b[1;33m\u001b[0m\u001b[1;33m\u001b[0m\u001b[0m\n\u001b[0m\u001b[0;32m    431\u001b[0m             response['value'] = self._unwrap_value(\n\u001b[0;32m    432\u001b[0m                 response.get('value', None))\n",
      "\u001b[1;32m~\\anaconda3\\lib\\site-packages\\selenium\\webdriver\\remote\\errorhandler.py\u001b[0m in \u001b[0;36mcheck_response\u001b[1;34m(self, response)\u001b[0m\n\u001b[0;32m    245\u001b[0m                 \u001b[0malert_text\u001b[0m \u001b[1;33m=\u001b[0m \u001b[0mvalue\u001b[0m\u001b[1;33m[\u001b[0m\u001b[1;34m'alert'\u001b[0m\u001b[1;33m]\u001b[0m\u001b[1;33m.\u001b[0m\u001b[0mget\u001b[0m\u001b[1;33m(\u001b[0m\u001b[1;34m'text'\u001b[0m\u001b[1;33m)\u001b[0m\u001b[1;33m\u001b[0m\u001b[1;33m\u001b[0m\u001b[0m\n\u001b[0;32m    246\u001b[0m             \u001b[1;32mraise\u001b[0m \u001b[0mexception_class\u001b[0m\u001b[1;33m(\u001b[0m\u001b[0mmessage\u001b[0m\u001b[1;33m,\u001b[0m \u001b[0mscreen\u001b[0m\u001b[1;33m,\u001b[0m \u001b[0mstacktrace\u001b[0m\u001b[1;33m,\u001b[0m \u001b[0malert_text\u001b[0m\u001b[1;33m)\u001b[0m  \u001b[1;31m# type: ignore[call-arg]  # mypy is not smart enough here\u001b[0m\u001b[1;33m\u001b[0m\u001b[1;33m\u001b[0m\u001b[0m\n\u001b[1;32m--> 247\u001b[1;33m         \u001b[1;32mraise\u001b[0m \u001b[0mexception_class\u001b[0m\u001b[1;33m(\u001b[0m\u001b[0mmessage\u001b[0m\u001b[1;33m,\u001b[0m \u001b[0mscreen\u001b[0m\u001b[1;33m,\u001b[0m \u001b[0mstacktrace\u001b[0m\u001b[1;33m)\u001b[0m\u001b[1;33m\u001b[0m\u001b[1;33m\u001b[0m\u001b[0m\n\u001b[0m\u001b[0;32m    248\u001b[0m \u001b[1;33m\u001b[0m\u001b[0m\n\u001b[0;32m    249\u001b[0m     \u001b[1;32mdef\u001b[0m \u001b[0m_value_or_default\u001b[0m\u001b[1;33m(\u001b[0m\u001b[0mself\u001b[0m\u001b[1;33m,\u001b[0m \u001b[0mobj\u001b[0m\u001b[1;33m:\u001b[0m \u001b[0mMapping\u001b[0m\u001b[1;33m[\u001b[0m\u001b[0m_KT\u001b[0m\u001b[1;33m,\u001b[0m \u001b[0m_VT\u001b[0m\u001b[1;33m]\u001b[0m\u001b[1;33m,\u001b[0m \u001b[0mkey\u001b[0m\u001b[1;33m:\u001b[0m \u001b[0m_KT\u001b[0m\u001b[1;33m,\u001b[0m \u001b[0mdefault\u001b[0m\u001b[1;33m:\u001b[0m \u001b[0m_VT\u001b[0m\u001b[1;33m)\u001b[0m \u001b[1;33m->\u001b[0m \u001b[0m_VT\u001b[0m\u001b[1;33m:\u001b[0m\u001b[1;33m\u001b[0m\u001b[1;33m\u001b[0m\u001b[0m\n",
      "\u001b[1;31mNoSuchElementException\u001b[0m: Message: no such element: Unable to locate element: {\"method\":\"xpath\",\"selector\":\"/html/body/div[1]/div/div[3]/div[1]/div[2]/div[9]/div[6]/div/div[4]/div[1]/div/div/div[2]/div\"}\n  (Session info: chrome=102.0.5005.115)\nStacktrace:\nBacktrace:\n\tOrdinal0 [0x0089D953+2414931]\n\tOrdinal0 [0x0082F5E1+1963489]\n\tOrdinal0 [0x0071C6B8+837304]\n\tOrdinal0 [0x00749500+1021184]\n\tOrdinal0 [0x0074979B+1021851]\n\tOrdinal0 [0x00776502+1205506]\n\tOrdinal0 [0x007644E4+1131748]\n\tOrdinal0 [0x00774812+1198098]\n\tOrdinal0 [0x007642B6+1131190]\n\tOrdinal0 [0x0073E860+976992]\n\tOrdinal0 [0x0073F756+980822]\n\tGetHandleVerifier [0x00B0CC62+2510274]\n\tGetHandleVerifier [0x00AFF760+2455744]\n\tGetHandleVerifier [0x0092EABA+551962]\n\tGetHandleVerifier [0x0092D916+547446]\n\tOrdinal0 [0x00835F3B+1990459]\n\tOrdinal0 [0x0083A898+2009240]\n\tOrdinal0 [0x0083A985+2009477]\n\tOrdinal0 [0x00843AD1+2046673]\n\tBaseThreadInitThunk [0x761A6739+25]\n\tRtlGetFullPathName_UEx [0x77458FEF+1215]\n\tRtlGetFullPathName_UEx [0x77458FBD+1165]\n"
     ]
    }
   ],
   "source": [
    "fr = driver.find_element_by_xpath('/html/body/div[1]/div/div[3]/div[1]/div[2]/div[9]/div[6]/div/div[4]/div[1]/div/div/div[2]/div')\n",
    "fr"
   ]
  },
  {
   "cell_type": "markdown",
   "id": "400e7a2d",
   "metadata": {},
   "source": [
    "6)Scrape data for first 100 sneakers you find when you visit flipkart.com and search for “sneakers” in the\n",
    "search field.\n",
    "You have to scrape 4 attributes of each sneaker:\n",
    "1. Brand\n",
    "2. Product Description\n",
    "3. Price\n",
    "As shown in the below image, you have to scrape the tick marked attributes.\n",
    "Note: All the steps required during scraping should be done through code only and not manually"
   ]
  },
  {
   "cell_type": "code",
   "execution_count": 145,
   "id": "ff8ae58e",
   "metadata": {},
   "outputs": [],
   "source": [
    "driver = webdriver.Chrome(r\"C:\\Users\\ndurg\\OneDrive\\Desktop\\webdriver\\chromedriver.exe\")\n",
    "time.sleep(2)\n",
    "driver.get('https://www.flipkart.com/')"
   ]
  },
  {
   "cell_type": "code",
   "execution_count": 146,
   "id": "e036dce4",
   "metadata": {},
   "outputs": [],
   "source": [
    "button = driver.find_element_by_xpath(\"/html/body/div[2]/div/div/button\")\n",
    "button.click()"
   ]
  },
  {
   "cell_type": "code",
   "execution_count": 147,
   "id": "bd4a9b00",
   "metadata": {},
   "outputs": [],
   "source": [
    "search = driver.find_element_by_class_name('_3704LK')\n",
    "search.send_keys('sneakers')"
   ]
  },
  {
   "cell_type": "code",
   "execution_count": 148,
   "id": "e8284340",
   "metadata": {},
   "outputs": [],
   "source": [
    "button = driver.find_element_by_class_name(\"L0Z3Pu\")\n",
    "button.click()"
   ]
  },
  {
   "cell_type": "code",
   "execution_count": 149,
   "id": "4efaae8b",
   "metadata": {},
   "outputs": [
    {
     "data": {
      "text/plain": [
       "[<selenium.webdriver.remote.webelement.WebElement (session=\"648e86cdb295f4e5902a3ebd54887597\", element=\"59cff891-cc7e-427d-a4a9-9459e48c8b40\")>,\n",
       " <selenium.webdriver.remote.webelement.WebElement (session=\"648e86cdb295f4e5902a3ebd54887597\", element=\"52548a92-1803-433d-9bd1-d311ad4e8b92\")>]"
      ]
     },
     "execution_count": 149,
     "metadata": {},
     "output_type": "execute_result"
    }
   ],
   "source": [
    "brand=[]\n",
    "br =  driver.find_elements_by_class_name(\"_2WkVRV\")\n",
    "br[0:2]"
   ]
  },
  {
   "cell_type": "code",
   "execution_count": 151,
   "id": "36238318",
   "metadata": {},
   "outputs": [
    {
     "data": {
      "text/plain": [
       "['ZF - ALFIYA', 'BRUTON']"
      ]
     },
     "execution_count": 151,
     "metadata": {},
     "output_type": "execute_result"
    }
   ],
   "source": [
    "for i in br:\n",
    "    brand.append(i.text)\n",
    "brand[0:2]"
   ]
  },
  {
   "cell_type": "code",
   "execution_count": 153,
   "id": "33fcd028",
   "metadata": {},
   "outputs": [
    {
     "data": {
      "text/plain": [
       "[<selenium.webdriver.remote.webelement.WebElement (session=\"648e86cdb295f4e5902a3ebd54887597\", element=\"86d066c4-6634-436a-ac5d-1f5d06ec53e3\")>,\n",
       " <selenium.webdriver.remote.webelement.WebElement (session=\"648e86cdb295f4e5902a3ebd54887597\", element=\"f51044f7-1136-4b59-b4c5-194108704b55\")>]"
      ]
     },
     "execution_count": 153,
     "metadata": {},
     "output_type": "execute_result"
    }
   ],
   "source": [
    "product =[]\n",
    "pd=  driver.find_elements_by_class_name(\"IRpwTa\")\n",
    "pd[0:2]"
   ]
  },
  {
   "cell_type": "code",
   "execution_count": 154,
   "id": "83082bd7",
   "metadata": {},
   "outputs": [
    {
     "data": {
      "text/plain": [
       "['Sneakers For Men',\n",
       " 'Combo Pack Of 4 Casual Shoes Loafer Shoes Sneakers For ...']"
      ]
     },
     "execution_count": 154,
     "metadata": {},
     "output_type": "execute_result"
    }
   ],
   "source": [
    "for i in pd:\n",
    "    product.append(i.text)\n",
    "product[0:2]"
   ]
  },
  {
   "cell_type": "code",
   "execution_count": 155,
   "id": "9c54066e",
   "metadata": {},
   "outputs": [
    {
     "data": {
      "text/plain": [
       "<selenium.webdriver.remote.webelement.WebElement (session=\"648e86cdb295f4e5902a3ebd54887597\", element=\"30d9b47b-5fda-454c-b1a3-b7921f8ac627\")>"
      ]
     },
     "execution_count": 155,
     "metadata": {},
     "output_type": "execute_result"
    }
   ],
   "source": [
    "price =[]\n",
    "ct=  driver.find_element_by_class_name(\"_3bPFwb\")\n",
    "ct"
   ]
  },
  {
   "cell_type": "code",
   "execution_count": 156,
   "id": "a7e1eb20",
   "metadata": {},
   "outputs": [
    {
     "data": {
      "text/plain": [
       "'  499  99950%'"
      ]
     },
     "execution_count": 156,
     "metadata": {},
     "output_type": "execute_result"
    }
   ],
   "source": [
    "ct.text.split()[0].replace('₹','  ')"
   ]
  },
  {
   "cell_type": "code",
   "execution_count": 157,
   "id": "4645d4fc",
   "metadata": {},
   "outputs": [
    {
     "data": {
      "text/plain": [
       "'499'"
      ]
     },
     "execution_count": 157,
     "metadata": {},
     "output_type": "execute_result"
    }
   ],
   "source": [
    "ct.text.split()[0].replace('₹','  ').split()[0]"
   ]
  },
  {
   "cell_type": "code",
   "execution_count": 158,
   "id": "e9bec0d0",
   "metadata": {},
   "outputs": [
    {
     "data": {
      "text/plain": [
       "<selenium.webdriver.remote.webelement.WebElement (session=\"648e86cdb295f4e5902a3ebd54887597\", element=\"d50b08e9-bdb1-4b2d-9bf8-faa44f323e0d\")>"
      ]
     },
     "execution_count": 158,
     "metadata": {},
     "output_type": "execute_result"
    }
   ],
   "source": [
    "p=driver.find_element_by_xpath('/html/body/div[1]/div/div[3]/div[1]/div[2]/div[2]/div/div[1]/div/div[2]/a[2]/div/div[3]/span')\n",
    "p"
   ]
  },
  {
   "cell_type": "code",
   "execution_count": 159,
   "id": "0eefeb0d",
   "metadata": {},
   "outputs": [
    {
     "data": {
      "text/plain": [
       "'50%'"
      ]
     },
     "execution_count": 159,
     "metadata": {},
     "output_type": "execute_result"
    }
   ],
   "source": [
    "p.text.split()[0]"
   ]
  },
  {
   "cell_type": "code",
   "execution_count": 160,
   "id": "bfcaf691",
   "metadata": {},
   "outputs": [
    {
     "data": {
      "text/plain": [
       "[<selenium.webdriver.remote.webelement.WebElement (session=\"648e86cdb295f4e5902a3ebd54887597\", element=\"30d9b47b-5fda-454c-b1a3-b7921f8ac627\")>,\n",
       " <selenium.webdriver.remote.webelement.WebElement (session=\"648e86cdb295f4e5902a3ebd54887597\", element=\"2f1a3aec-3283-4e8e-a671-a9938c9c50f1\")>]"
      ]
     },
     "execution_count": 160,
     "metadata": {},
     "output_type": "execute_result"
    }
   ],
   "source": [
    "price =[]\n",
    "ct=driver.find_elements_by_class_name(\"_3bPFwb\")\n",
    "ct[0:2]"
   ]
  },
  {
   "cell_type": "code",
   "execution_count": 161,
   "id": "9467a33f",
   "metadata": {},
   "outputs": [
    {
     "data": {
      "text/plain": [
       "['499', '499']"
      ]
     },
     "execution_count": 161,
     "metadata": {},
     "output_type": "execute_result"
    }
   ],
   "source": [
    "for i in ct:\n",
    "    price.append(i.text.split()[0].replace('₹','  ').split()[0])\n",
    "price[0:2]"
   ]
  },
  {
   "cell_type": "code",
   "execution_count": 163,
   "id": "e803bf9e",
   "metadata": {},
   "outputs": [
    {
     "data": {
      "text/plain": [
       "[<selenium.webdriver.remote.webelement.WebElement (session=\"648e86cdb295f4e5902a3ebd54887597\", element=\"fc440e02-fe84-47cb-9b9d-2cd5b0f1ba09\")>,\n",
       " <selenium.webdriver.remote.webelement.WebElement (session=\"648e86cdb295f4e5902a3ebd54887597\", element=\"506f0d1c-d14b-4319-a1eb-d9d6bec86cdc\")>]"
      ]
     },
     "execution_count": 163,
     "metadata": {},
     "output_type": "execute_result"
    }
   ],
   "source": [
    "discount =[]\n",
    "p=driver.find_elements_by_xpath('//div[@class=\"_3Ay6Sb\"]')\n",
    "p[0:2]"
   ]
  },
  {
   "cell_type": "code",
   "execution_count": 164,
   "id": "58315671",
   "metadata": {},
   "outputs": [
    {
     "data": {
      "text/plain": [
       "['50%', '85%']"
      ]
     },
     "execution_count": 164,
     "metadata": {},
     "output_type": "execute_result"
    }
   ],
   "source": [
    "for i in p:\n",
    "    discount.append(i.text.split()[0])\n",
    "discount[0:2]"
   ]
  },
  {
   "cell_type": "code",
   "execution_count": 166,
   "id": "b597b540",
   "metadata": {},
   "outputs": [
    {
     "data": {
      "text/plain": [
       "(40, 40, 40, 80)"
      ]
     },
     "execution_count": 166,
     "metadata": {},
     "output_type": "execute_result"
    }
   ],
   "source": [
    "len(discount),len(price),len(product),len(brand)"
   ]
  },
  {
   "cell_type": "code",
   "execution_count": 167,
   "id": "e39cb843",
   "metadata": {},
   "outputs": [],
   "source": [
    "Brand=brand[0:40]"
   ]
  },
  {
   "cell_type": "code",
   "execution_count": 168,
   "id": "dea082cf",
   "metadata": {},
   "outputs": [
    {
     "data": {
      "text/plain": [
       "40"
      ]
     },
     "execution_count": 168,
     "metadata": {},
     "output_type": "execute_result"
    }
   ],
   "source": [
    "len(Brand)"
   ]
  },
  {
   "cell_type": "code",
   "execution_count": 174,
   "id": "4052a995",
   "metadata": {},
   "outputs": [
    {
     "ename": "AttributeError",
     "evalue": "'list' object has no attribute 'DataFrame'",
     "output_type": "error",
     "traceback": [
      "\u001b[1;31m---------------------------------------------------------------------------\u001b[0m",
      "\u001b[1;31mAttributeError\u001b[0m                            Traceback (most recent call last)",
      "\u001b[1;32m~\\AppData\\Local\\Temp/ipykernel_23092/2223339561.py\u001b[0m in \u001b[0;36m<module>\u001b[1;34m\u001b[0m\n\u001b[1;32m----> 1\u001b[1;33m \u001b[0mSneaker\u001b[0m \u001b[1;33m=\u001b[0m \u001b[0mpd\u001b[0m\u001b[1;33m.\u001b[0m\u001b[0mDataFrame\u001b[0m\u001b[1;33m(\u001b[0m\u001b[1;33m{\u001b[0m\u001b[1;34m'Brand'\u001b[0m\u001b[1;33m:\u001b[0m\u001b[0mBrand\u001b[0m\u001b[1;33m,\u001b[0m\u001b[1;34m'Product Description'\u001b[0m\u001b[1;33m:\u001b[0m\u001b[0mproduct\u001b[0m\u001b[1;33m,\u001b[0m\u001b[1;34m'Cost'\u001b[0m\u001b[1;33m:\u001b[0m\u001b[0mprice\u001b[0m\u001b[1;33m,\u001b[0m\u001b[1;34m'Discount %'\u001b[0m\u001b[1;33m:\u001b[0m\u001b[0mdiscount\u001b[0m\u001b[1;33m}\u001b[0m\u001b[1;33m)\u001b[0m\u001b[1;33m\u001b[0m\u001b[1;33m\u001b[0m\u001b[0m\n\u001b[0m\u001b[0;32m      2\u001b[0m \u001b[0mSneaker\u001b[0m\u001b[1;33m\u001b[0m\u001b[1;33m\u001b[0m\u001b[0m\n",
      "\u001b[1;31mAttributeError\u001b[0m: 'list' object has no attribute 'DataFrame'"
     ]
    }
   ],
   "source": [
    "Sneaker = pd.DataFrame({'Brand':Brand,'Product Description':product,'Cost':price,'Discount %':discount})\n",
    "Sneaker"
   ]
  },
  {
   "cell_type": "markdown",
   "id": "7914d586",
   "metadata": {},
   "source": [
    "Q7: Go to the link - https://www.myntra.com/shoes\n",
    "Set second Price filter and Color filter to “Black”, as shown in the below image\n",
    "And then scrape First 100 shoes data you get. The data should include “Brand” of the shoes , Short Shoe\n",
    "description, price of the shoe as shown in the below image.\n",
    "Note: Applying the filter and scraping the data, everything should be done through code only and there\n",
    "should not be any manual step."
   ]
  },
  {
   "cell_type": "code",
   "execution_count": 175,
   "id": "d7d3915f",
   "metadata": {},
   "outputs": [],
   "source": [
    "driver = webdriver.Chrome(r\"C:\\Users\\ndurg\\OneDrive\\Desktop\\webdriver\\chromedriver.exe\")\n",
    "time.sleep(2)\n",
    "driver.get('https://www.myntra.com/shoes')"
   ]
  },
  {
   "cell_type": "code",
   "execution_count": 176,
   "id": "08bcecf3",
   "metadata": {},
   "outputs": [],
   "source": [
    "button = driver.find_element_by_xpath(\"/html/body/div[2]/div/div[1]/main/div[3]/div[1]/section/div/div[5]/ul/li[2]/label\")\n",
    "button.click()"
   ]
  },
  {
   "cell_type": "code",
   "execution_count": 177,
   "id": "e94f5b41",
   "metadata": {},
   "outputs": [],
   "source": [
    "button = driver.find_element_by_xpath(\"/html/body/div[2]/div/div[1]/main/div[3]/div[1]/section/div/div[6]/ul/li[1]/label\")\n",
    "button.click()"
   ]
  },
  {
   "cell_type": "code",
   "execution_count": 178,
   "id": "89b37798",
   "metadata": {},
   "outputs": [
    {
     "data": {
      "text/plain": [
       "<selenium.webdriver.remote.webelement.WebElement (session=\"43c3ae6e37a24f30515476d6003e278f\", element=\"9d552734-6e57-4953-a4d4-65a088ddaeff\")>"
      ]
     },
     "execution_count": 178,
     "metadata": {},
     "output_type": "execute_result"
    }
   ],
   "source": [
    "br=driver.find_element_by_class_name('product-brand')\n",
    "br"
   ]
  },
  {
   "cell_type": "code",
   "execution_count": 179,
   "id": "d3fef142",
   "metadata": {},
   "outputs": [
    {
     "data": {
      "text/plain": [
       "'Skechers'"
      ]
     },
     "execution_count": 179,
     "metadata": {},
     "output_type": "execute_result"
    }
   ],
   "source": [
    "br.text"
   ]
  },
  {
   "cell_type": "code",
   "execution_count": 180,
   "id": "f5eb9fe0",
   "metadata": {},
   "outputs": [
    {
     "data": {
      "text/plain": [
       "[<selenium.webdriver.remote.webelement.WebElement (session=\"43c3ae6e37a24f30515476d6003e278f\", element=\"9d552734-6e57-4953-a4d4-65a088ddaeff\")>,\n",
       " <selenium.webdriver.remote.webelement.WebElement (session=\"43c3ae6e37a24f30515476d6003e278f\", element=\"29191ab0-3a80-481d-ba36-9bc50d9b7207\")>]"
      ]
     },
     "execution_count": 180,
     "metadata": {},
     "output_type": "execute_result"
    }
   ],
   "source": [
    "br=driver.find_elements_by_class_name('product-brand')\n",
    "br[0:2]"
   ]
  },
  {
   "cell_type": "code",
   "execution_count": 181,
   "id": "51e0f315",
   "metadata": {},
   "outputs": [
    {
     "data": {
      "text/plain": [
       "['Skechers', 'UNDER ARMOUR']"
      ]
     },
     "execution_count": 181,
     "metadata": {},
     "output_type": "execute_result"
    }
   ],
   "source": [
    "Brand=[]\n",
    "for i in br:\n",
    "    Brand.append(i.text)\n",
    "Brand[0:2]"
   ]
  },
  {
   "cell_type": "code",
   "execution_count": 182,
   "id": "a5f8b54c",
   "metadata": {},
   "outputs": [
    {
     "data": {
      "text/plain": [
       "50"
      ]
     },
     "execution_count": 182,
     "metadata": {},
     "output_type": "execute_result"
    }
   ],
   "source": [
    "len(Brand)"
   ]
  },
  {
   "cell_type": "code",
   "execution_count": 183,
   "id": "8ea3189f",
   "metadata": {},
   "outputs": [
    {
     "data": {
      "text/plain": [
       "<selenium.webdriver.remote.webelement.WebElement (session=\"43c3ae6e37a24f30515476d6003e278f\", element=\"14ec41bd-ccbf-4788-8356-0b2d0a810a60\")>"
      ]
     },
     "execution_count": 183,
     "metadata": {},
     "output_type": "execute_result"
    }
   ],
   "source": [
    "ssd = []\n",
    "ss = driver.find_element_by_xpath('//h4[@class=\"product-product\"]')\n",
    "ss"
   ]
  },
  {
   "cell_type": "code",
   "execution_count": 184,
   "id": "32e3dfdb",
   "metadata": {},
   "outputs": [
    {
     "data": {
      "text/plain": [
       "'Men Go Walk 5 Walking Shoes'"
      ]
     },
     "execution_count": 184,
     "metadata": {},
     "output_type": "execute_result"
    }
   ],
   "source": [
    "ss.text"
   ]
  },
  {
   "cell_type": "code",
   "execution_count": 185,
   "id": "a332065f",
   "metadata": {},
   "outputs": [
    {
     "data": {
      "text/plain": [
       "[<selenium.webdriver.remote.webelement.WebElement (session=\"43c3ae6e37a24f30515476d6003e278f\", element=\"14ec41bd-ccbf-4788-8356-0b2d0a810a60\")>,\n",
       " <selenium.webdriver.remote.webelement.WebElement (session=\"43c3ae6e37a24f30515476d6003e278f\", element=\"3824334b-ddf3-48c2-ae2c-49abf57c0254\")>]"
      ]
     },
     "execution_count": 185,
     "metadata": {},
     "output_type": "execute_result"
    }
   ],
   "source": [
    "s = driver.find_elements_by_xpath('//h4[@class=\"product-product\"]')\n",
    "s[0:2]"
   ]
  },
  {
   "cell_type": "code",
   "execution_count": 187,
   "id": "c44711b3",
   "metadata": {},
   "outputs": [
    {
     "data": {
      "text/plain": [
       "['Men Go Walk 5 Walking Shoes', 'Men UA Charged Breeze Training']"
      ]
     },
     "execution_count": 187,
     "metadata": {},
     "output_type": "execute_result"
    }
   ],
   "source": [
    "for i in s:\n",
    "    ssd.append(i.text)\n",
    "ssd[0:2]"
   ]
  },
  {
   "cell_type": "code",
   "execution_count": 188,
   "id": "b2716d9d",
   "metadata": {},
   "outputs": [
    {
     "data": {
      "text/plain": [
       "100"
      ]
     },
     "execution_count": 188,
     "metadata": {},
     "output_type": "execute_result"
    }
   ],
   "source": [
    "len(ssd)"
   ]
  },
  {
   "cell_type": "code",
   "execution_count": 190,
   "id": "5025b75f",
   "metadata": {},
   "outputs": [
    {
     "data": {
      "text/plain": [
       "[<selenium.webdriver.remote.webelement.WebElement (session=\"43c3ae6e37a24f30515476d6003e278f\", element=\"05ffac71-fd72-4534-8644-b89cd89c5bbf\")>,\n",
       " <selenium.webdriver.remote.webelement.WebElement (session=\"43c3ae6e37a24f30515476d6003e278f\", element=\"13d3722c-ef94-4b27-9ff0-04833901d244\")>]"
      ]
     },
     "execution_count": 190,
     "metadata": {},
     "output_type": "execute_result"
    }
   ],
   "source": [
    "price=[]\n",
    "cost=driver.find_elements_by_class_name('product-price')\n",
    "cost[0:2]"
   ]
  },
  {
   "cell_type": "code",
   "execution_count": 191,
   "id": "b5b56122",
   "metadata": {},
   "outputs": [
    {
     "data": {
      "text/plain": [
       "['Rs. 8499', 'Rs. 8999']"
      ]
     },
     "execution_count": 191,
     "metadata": {},
     "output_type": "execute_result"
    }
   ],
   "source": [
    "for i in cost:\n",
    "    price.append(i.text)\n",
    "price[0:2]"
   ]
  },
  {
   "cell_type": "code",
   "execution_count": 192,
   "id": "0c792eed",
   "metadata": {},
   "outputs": [
    {
     "data": {
      "text/plain": [
       "50"
      ]
     },
     "execution_count": 192,
     "metadata": {},
     "output_type": "execute_result"
    }
   ],
   "source": [
    "len(price)"
   ]
  },
  {
   "cell_type": "code",
   "execution_count": 193,
   "id": "39aa809f",
   "metadata": {},
   "outputs": [],
   "source": [
    "button = driver.find_element_by_xpath('/html/body/div[2]/div/div[1]/main/div[3]/div[2]/div/div[2]/section/div[2]/ul/li[12]/a')\n",
    "button.click()"
   ]
  },
  {
   "cell_type": "code",
   "execution_count": 195,
   "id": "202d83ee",
   "metadata": {},
   "outputs": [
    {
     "data": {
      "text/plain": [
       "[<selenium.webdriver.remote.webelement.WebElement (session=\"43c3ae6e37a24f30515476d6003e278f\", element=\"a9721146-d7df-406e-ab91-63d72d11b26d\")>,\n",
       " <selenium.webdriver.remote.webelement.WebElement (session=\"43c3ae6e37a24f30515476d6003e278f\", element=\"ca748d11-e679-49f5-bfca-ce6872ece362\")>]"
      ]
     },
     "execution_count": 195,
     "metadata": {},
     "output_type": "execute_result"
    }
   ],
   "source": [
    "b=driver.find_elements_by_class_name('product-brand')\n",
    "b[0:2]"
   ]
  },
  {
   "cell_type": "code",
   "execution_count": 196,
   "id": "809a1aa9",
   "metadata": {},
   "outputs": [
    {
     "data": {
      "text/plain": [
       "['Skechers', 'UNDER ARMOUR']"
      ]
     },
     "execution_count": 196,
     "metadata": {},
     "output_type": "execute_result"
    }
   ],
   "source": [
    "for i in b:\n",
    "    Brand.append(i.text)\n",
    "Brand[0:2]"
   ]
  },
  {
   "cell_type": "code",
   "execution_count": 197,
   "id": "59cf6d82",
   "metadata": {},
   "outputs": [
    {
     "data": {
      "text/plain": [
       "100"
      ]
     },
     "execution_count": 197,
     "metadata": {},
     "output_type": "execute_result"
    }
   ],
   "source": [
    "len(Brand)"
   ]
  },
  {
   "cell_type": "code",
   "execution_count": 199,
   "id": "f97f44fa",
   "metadata": {},
   "outputs": [
    {
     "data": {
      "text/plain": [
       "[<selenium.webdriver.remote.webelement.WebElement (session=\"43c3ae6e37a24f30515476d6003e278f\", element=\"80011dca-7bd3-46d0-88bc-9ee1df150355\")>,\n",
       " <selenium.webdriver.remote.webelement.WebElement (session=\"43c3ae6e37a24f30515476d6003e278f\", element=\"d2b0c2fc-c523-402b-a503-d034da7dd314\")>]"
      ]
     },
     "execution_count": 199,
     "metadata": {},
     "output_type": "execute_result"
    }
   ],
   "source": [
    "s = driver.find_elements_by_xpath('//h4[@class=\"product-product\"]')\n",
    "s[0:2]"
   ]
  },
  {
   "cell_type": "code",
   "execution_count": 201,
   "id": "3b3b7915",
   "metadata": {},
   "outputs": [
    {
     "data": {
      "text/plain": [
       "['Men Go Walk 5 Walking Shoes', 'Men UA Charged Breeze Training']"
      ]
     },
     "execution_count": 201,
     "metadata": {},
     "output_type": "execute_result"
    }
   ],
   "source": [
    "for i in s:\n",
    "    ssd.append(i.text)\n",
    "ssd[0:2]"
   ]
  },
  {
   "cell_type": "code",
   "execution_count": 202,
   "id": "c19dc0bd",
   "metadata": {},
   "outputs": [
    {
     "data": {
      "text/plain": [
       "200"
      ]
     },
     "execution_count": 202,
     "metadata": {},
     "output_type": "execute_result"
    }
   ],
   "source": [
    "len(ssd)"
   ]
  },
  {
   "cell_type": "code",
   "execution_count": 203,
   "id": "b3bb2ed2",
   "metadata": {},
   "outputs": [
    {
     "data": {
      "text/plain": [
       "[<selenium.webdriver.remote.webelement.WebElement (session=\"43c3ae6e37a24f30515476d6003e278f\", element=\"9cb4e83d-19e4-45b6-9b05-49c624adb9bf\")>,\n",
       " <selenium.webdriver.remote.webelement.WebElement (session=\"43c3ae6e37a24f30515476d6003e278f\", element=\"3c5020df-e3d8-4f80-a983-9b6e47a3dc99\")>]"
      ]
     },
     "execution_count": 203,
     "metadata": {},
     "output_type": "execute_result"
    }
   ],
   "source": [
    "cost=driver.find_elements_by_class_name('product-price')\n",
    "cost[0:2]"
   ]
  },
  {
   "cell_type": "code",
   "execution_count": 204,
   "id": "a05d7ef0",
   "metadata": {},
   "outputs": [
    {
     "data": {
      "text/plain": [
       "['Rs. 8499', 'Rs. 8999']"
      ]
     },
     "execution_count": 204,
     "metadata": {},
     "output_type": "execute_result"
    }
   ],
   "source": [
    "for i in cost:\n",
    "    price.append(i.text)\n",
    "price[0:2]"
   ]
  },
  {
   "cell_type": "code",
   "execution_count": 205,
   "id": "f34a0f9d",
   "metadata": {},
   "outputs": [
    {
     "data": {
      "text/plain": [
       "100"
      ]
     },
     "execution_count": 205,
     "metadata": {},
     "output_type": "execute_result"
    }
   ],
   "source": [
    "len(price)"
   ]
  },
  {
   "cell_type": "code",
   "execution_count": 206,
   "id": "25a6a179",
   "metadata": {},
   "outputs": [
    {
     "data": {
      "text/plain": [
       "(100, 200, 100)"
      ]
     },
     "execution_count": 206,
     "metadata": {},
     "output_type": "execute_result"
    }
   ],
   "source": [
    "len(Brand),len(ssd),len(price)"
   ]
  },
  {
   "cell_type": "code",
   "execution_count": 207,
   "id": "e5112e1c",
   "metadata": {},
   "outputs": [],
   "source": [
    "ssde=ssd[0:100]"
   ]
  },
  {
   "cell_type": "code",
   "execution_count": 209,
   "id": "e707a0e0",
   "metadata": {},
   "outputs": [
    {
     "data": {
      "text/plain": [
       "100"
      ]
     },
     "execution_count": 209,
     "metadata": {},
     "output_type": "execute_result"
    }
   ],
   "source": [
    "len(ssde)"
   ]
  },
  {
   "cell_type": "code",
   "execution_count": 208,
   "id": "018a3edc",
   "metadata": {},
   "outputs": [
    {
     "ename": "AttributeError",
     "evalue": "'list' object has no attribute 'DataFrame'",
     "output_type": "error",
     "traceback": [
      "\u001b[1;31m---------------------------------------------------------------------------\u001b[0m",
      "\u001b[1;31mAttributeError\u001b[0m                            Traceback (most recent call last)",
      "\u001b[1;32m~\\AppData\\Local\\Temp/ipykernel_23092/2949256371.py\u001b[0m in \u001b[0;36m<module>\u001b[1;34m\u001b[0m\n\u001b[1;32m----> 1\u001b[1;33m \u001b[0mdf\u001b[0m\u001b[1;33m=\u001b[0m\u001b[0mpd\u001b[0m\u001b[1;33m.\u001b[0m\u001b[0mDataFrame\u001b[0m\u001b[1;33m(\u001b[0m\u001b[1;33m{\u001b[0m\u001b[1;34m'Brand'\u001b[0m\u001b[1;33m:\u001b[0m\u001b[0mBrand\u001b[0m\u001b[1;33m,\u001b[0m\u001b[1;34m'ShortDescription'\u001b[0m\u001b[1;33m:\u001b[0m\u001b[0mssde\u001b[0m\u001b[1;33m,\u001b[0m\u001b[1;34m'Price'\u001b[0m\u001b[1;33m:\u001b[0m\u001b[0mprice\u001b[0m\u001b[1;33m}\u001b[0m\u001b[1;33m)\u001b[0m\u001b[1;33m\u001b[0m\u001b[1;33m\u001b[0m\u001b[0m\n\u001b[0m\u001b[0;32m      2\u001b[0m \u001b[0mdf\u001b[0m\u001b[1;33m\u001b[0m\u001b[1;33m\u001b[0m\u001b[0m\n",
      "\u001b[1;31mAttributeError\u001b[0m: 'list' object has no attribute 'DataFrame'"
     ]
    }
   ],
   "source": [
    "df=pd.DataFrame({'Brand':Brand,'ShortDescription':ssde,'Price':price})\n",
    "df"
   ]
  },
  {
   "cell_type": "code",
   "execution_count": null,
   "id": "f2ef6b3a",
   "metadata": {},
   "outputs": [],
   "source": []
  },
  {
   "cell_type": "markdown",
   "id": "b2945852",
   "metadata": {},
   "source": [
    "Q8: Go to webpage https://www.amazon.in/\n",
    "Enter “Laptop” in the search field and then click the search icon.\n",
    "Then set CPU Type filter to “Intel Core i7” as shown in the below image:\n",
    "After setting the filters scrape first 10 laptops data. You have to scrape 3 attributesfor each laptop:\n",
    "1. Title\n",
    "2. Ratings\n",
    "3. Price\n",
    "Note: All the steps required during scraping should be done through code only and not manually."
   ]
  },
  {
   "cell_type": "code",
   "execution_count": 210,
   "id": "3a6ebab7",
   "metadata": {},
   "outputs": [],
   "source": [
    "driver = webdriver.Chrome(r\"C:\\Users\\ndurg\\OneDrive\\Desktop\\webdriver\\chromedriver.exe\")\n",
    "time.sleep(2)\n",
    "driver.get('https://www.amazon.in/')"
   ]
  },
  {
   "cell_type": "code",
   "execution_count": 211,
   "id": "6a871d42",
   "metadata": {},
   "outputs": [],
   "source": [
    "search = driver.find_element_by_xpath('/html/body/div[1]/header/div/div[1]/div[2]/div/form/div[2]/div[1]/input')\n",
    "search.send_keys('Laptop')"
   ]
  },
  {
   "cell_type": "code",
   "execution_count": 212,
   "id": "9242d1ba",
   "metadata": {},
   "outputs": [],
   "source": [
    "button = driver.find_element_by_xpath(\"/html/body/div[1]/header/div/div[1]/div[2]/div/form/div[3]/div/span/input\")\n",
    "button.click()"
   ]
  },
  {
   "cell_type": "code",
   "execution_count": 213,
   "id": "f1792352",
   "metadata": {},
   "outputs": [],
   "source": [
    "fil = driver.find_element_by_xpath('/html/body/div[1]/div[2]/div[1]/div[2]/div/div[3]/span/div[1]/div/div/div[6]/ul[4]/li[14]/span/a/div/label/i')\n",
    "fil.click()"
   ]
  },
  {
   "cell_type": "code",
   "execution_count": 214,
   "id": "a02e979e",
   "metadata": {},
   "outputs": [
    {
     "data": {
      "text/plain": [
       "<selenium.webdriver.remote.webelement.WebElement (session=\"f0dec0091b5eec4ae0a257f5b6a23347\", element=\"6bdaf372-4aac-4c08-8b70-d2624d7d6b41\")>"
      ]
     },
     "execution_count": 214,
     "metadata": {},
     "output_type": "execute_result"
    }
   ],
   "source": [
    "tit=driver.find_element_by_xpath('//h2[@class=\"a-size-mini a-spacing-none a-color-base s-line-clamp-2\"]')\n",
    "tit"
   ]
  },
  {
   "cell_type": "code",
   "execution_count": 215,
   "id": "27dafd8b",
   "metadata": {},
   "outputs": [
    {
     "data": {
      "text/plain": [
       "'ASUS VivoBook 14 (2021), 14-inch (35.56 cms) FHD, Intel Core i7-1065G7 10th Gen, Thin and Light Laptop (16GB/512GB SSD/Integrated Graphics/Office 2021/Windows 11/Silver/1.6 Kg), X415JA-EK701WS'"
      ]
     },
     "execution_count": 215,
     "metadata": {},
     "output_type": "execute_result"
    }
   ],
   "source": [
    "tit.text"
   ]
  },
  {
   "cell_type": "code",
   "execution_count": 216,
   "id": "f312c1b3",
   "metadata": {},
   "outputs": [
    {
     "data": {
      "text/plain": [
       "[<selenium.webdriver.remote.webelement.WebElement (session=\"f0dec0091b5eec4ae0a257f5b6a23347\", element=\"6bdaf372-4aac-4c08-8b70-d2624d7d6b41\")>,\n",
       " <selenium.webdriver.remote.webelement.WebElement (session=\"f0dec0091b5eec4ae0a257f5b6a23347\", element=\"1c628ecd-374e-4ae5-9aee-bb0c3ea2cc79\")>]"
      ]
     },
     "execution_count": 216,
     "metadata": {},
     "output_type": "execute_result"
    }
   ],
   "source": [
    "tit=driver.find_elements_by_xpath('//h2[@class=\"a-size-mini a-spacing-none a-color-base s-line-clamp-2\"]')\n",
    "title=tit[0:10]\n",
    "title[0:2]"
   ]
  },
  {
   "cell_type": "code",
   "execution_count": 217,
   "id": "3a2b7f8a",
   "metadata": {},
   "outputs": [
    {
     "data": {
      "text/plain": [
       "['ASUS VivoBook 14 (2021), 14-inch (35.56 cms) FHD, Intel Core i7-1065G7 10th Gen, Thin and Light Laptop (16GB/512GB SSD/Integrated Graphics/Office 2021/Windows 11/Silver/1.6 Kg), X415JA-EK701WS',\n",
       " 'ASUS TUF Gaming F15 (2021), 15.6\" (39.62 cms) FHD 144Hz, Intel Core i7-11600H 11th Gen, 4GB RTX 3050 Graphics, Gaming Laptop (16GB/512GB SSD/Windows 10/Office 2019/Gray/2.3 Kg), FX566HCB-HN299TS']"
      ]
     },
     "execution_count": 217,
     "metadata": {},
     "output_type": "execute_result"
    }
   ],
   "source": [
    "Title=[]\n",
    "for i in title:\n",
    "    Title.append(i.text)\n",
    "Title[0:2]"
   ]
  },
  {
   "cell_type": "code",
   "execution_count": 220,
   "id": "3d7feeff",
   "metadata": {},
   "outputs": [
    {
     "data": {
      "text/plain": [
       "<selenium.webdriver.remote.webelement.WebElement (session=\"f0dec0091b5eec4ae0a257f5b6a23347\", element=\"970cd311-62f2-4f86-99a8-214ca8bb3d56\")>"
      ]
     },
     "execution_count": 220,
     "metadata": {},
     "output_type": "execute_result"
    }
   ],
   "source": [
    "rating = driver.find_element_by_xpath('/html/body/div[4]/div/div[1]/div/div/div/div/div[1]/span')\n",
    "rating"
   ]
  },
  {
   "cell_type": "code",
   "execution_count": 221,
   "id": "42ca9a6e",
   "metadata": {},
   "outputs": [
    {
     "data": {
      "text/plain": [
       "''"
      ]
     },
     "execution_count": 221,
     "metadata": {},
     "output_type": "execute_result"
    }
   ],
   "source": [
    "rating.text"
   ]
  },
  {
   "cell_type": "code",
   "execution_count": 223,
   "id": "cdf1c6ae",
   "metadata": {},
   "outputs": [
    {
     "data": {
      "text/plain": [
       "[<selenium.webdriver.remote.webelement.WebElement (session=\"f0dec0091b5eec4ae0a257f5b6a23347\", element=\"f33884fc-2644-410e-b5a3-cb59ae16dd6a\")>,\n",
       " <selenium.webdriver.remote.webelement.WebElement (session=\"f0dec0091b5eec4ae0a257f5b6a23347\", element=\"fec7b943-66b9-4425-88cd-74705c844f08\")>]"
      ]
     },
     "execution_count": 223,
     "metadata": {},
     "output_type": "execute_result"
    }
   ],
   "source": [
    "ratee=driver.find_elements_by_xpath('//i[@class=\"a-icon a-icon-star-small a-star-small-4-5 aok-align-bottom\"]/span')\n",
    "ratee[0:2]"
   ]
  },
  {
   "cell_type": "code",
   "execution_count": 224,
   "id": "d26413c4",
   "metadata": {},
   "outputs": [
    {
     "data": {
      "text/plain": [
       "['', '']"
      ]
     },
     "execution_count": 224,
     "metadata": {},
     "output_type": "execute_result"
    }
   ],
   "source": [
    "Rating=[]\n",
    "for i in ratee:\n",
    "    Rating.append(i.text)\n",
    "Rating[0:2]"
   ]
  },
  {
   "cell_type": "code",
   "execution_count": 225,
   "id": "91f333f0",
   "metadata": {},
   "outputs": [
    {
     "data": {
      "text/plain": [
       "(10, 7)"
      ]
     },
     "execution_count": 225,
     "metadata": {},
     "output_type": "execute_result"
    }
   ],
   "source": [
    "len(Title),len(Rating)"
   ]
  },
  {
   "cell_type": "code",
   "execution_count": null,
   "id": "01dd37f5",
   "metadata": {},
   "outputs": [],
   "source": [
    "df=pd.DataFrame({'ProductTitle':Title,'Rating':Rating})"
   ]
  },
  {
   "cell_type": "code",
   "execution_count": null,
   "id": "5159c95e",
   "metadata": {},
   "outputs": [],
   "source": []
  },
  {
   "cell_type": "markdown",
   "id": "8af5a947",
   "metadata": {},
   "source": [
    "Q9: Write a python program to scrape data for first 10 job results for Data Scientist Designation in Noida\n",
    "location. You have to scrape company name, No. of days ago when job was posted, Rating of the company.\n",
    "This task will be done in following steps:\n",
    "1. First get the webpage https://www.ambitionbox.com/\n",
    "2. Click on the Job option as shown in the image\n",
    "3. After reaching to the next webpage, In place of “Search by Designations, Companies, Skills” enter\n",
    "“Data Scientist” and click on search button.\n",
    "4. You will reach to the following web page click on location and in place of “Search location” enter\n",
    "“Noida” and select location “Noida”.\n",
    "5. Then scrape the data for the first 10 jobs results you get on the above shown page.\n",
    "6. Finally create a dataframe of the scraped data.\n",
    "Note: All the steps required during scraping should be done through code only and not manually.\n"
   ]
  },
  {
   "cell_type": "code",
   "execution_count": 226,
   "id": "492595ef",
   "metadata": {},
   "outputs": [],
   "source": [
    "driver = webdriver.Chrome(r\"C:\\Users\\ndurg\\OneDrive\\Desktop\\webdriver\\chromedriver.exe\")\n",
    "time.sleep(2)\n",
    "driver.get('https://www.ambitionbox.com/')"
   ]
  },
  {
   "cell_type": "code",
   "execution_count": 227,
   "id": "fc44f3c5",
   "metadata": {},
   "outputs": [],
   "source": [
    "button = driver.find_element_by_xpath(\"/html/body/div[1]/nav/nav/a[6]\")\n",
    "button.click()"
   ]
  },
  {
   "cell_type": "code",
   "execution_count": 228,
   "id": "144395a1",
   "metadata": {},
   "outputs": [],
   "source": [
    "search = driver.find_element_by_xpath('/html/body/div/div/div/div[2]/div[1]/div[1]/div/div/div/div/span/input')\n",
    "search.send_keys('Data Scientist')"
   ]
  },
  {
   "cell_type": "code",
   "execution_count": 229,
   "id": "ba097997",
   "metadata": {},
   "outputs": [],
   "source": [
    "button = driver.find_element_by_xpath(\"/html/body/div/div/div/div[2]/div[1]/div[1]/div/div/div/button\")\n",
    "button.click()"
   ]
  },
  {
   "cell_type": "code",
   "execution_count": 230,
   "id": "50df8cb2",
   "metadata": {},
   "outputs": [],
   "source": [
    "button = driver.find_element_by_xpath(\"/html/body/div/div/div/div[2]/div[1]/div[2]/div[1]/div/div/div/div[2]/div[1]/p\")\n",
    "button.click()"
   ]
  },
  {
   "cell_type": "code",
   "execution_count": 231,
   "id": "2d50b871",
   "metadata": {},
   "outputs": [],
   "source": [
    "button = driver.find_element_by_xpath(\"/html/body/div/div/div/div[2]/div[1]/div[2]/div[1]/div/div/div/div[2]/div[2]/div/div[3]/div[1]/div[5]/div/label\")\n",
    "button.click()"
   ]
  },
  {
   "cell_type": "code",
   "execution_count": 232,
   "id": "fe788985",
   "metadata": {},
   "outputs": [
    {
     "data": {
      "text/plain": [
       "<selenium.webdriver.remote.webelement.WebElement (session=\"9588e713154618504ca0f3136939b531\", element=\"c3604da4-f8f2-4d0f-b8d8-122cf61da614\")>"
      ]
     },
     "execution_count": 232,
     "metadata": {},
     "output_type": "execute_result"
    }
   ],
   "source": [
    "tit=driver.find_element_by_xpath('//a[@class=\"title noclick\"]')\n",
    "tit"
   ]
  },
  {
   "cell_type": "code",
   "execution_count": 233,
   "id": "dcb92b0e",
   "metadata": {},
   "outputs": [
    {
     "data": {
      "text/plain": [
       "'Principal Data Scientist'"
      ]
     },
     "execution_count": 233,
     "metadata": {},
     "output_type": "execute_result"
    }
   ],
   "source": [
    "tit.text"
   ]
  },
  {
   "cell_type": "code",
   "execution_count": 235,
   "id": "757f7772",
   "metadata": {},
   "outputs": [
    {
     "data": {
      "text/plain": [
       "[<selenium.webdriver.remote.webelement.WebElement (session=\"9588e713154618504ca0f3136939b531\", element=\"c3604da4-f8f2-4d0f-b8d8-122cf61da614\")>,\n",
       " <selenium.webdriver.remote.webelement.WebElement (session=\"9588e713154618504ca0f3136939b531\", element=\"94324777-f65d-4c3d-8db9-a0f72f545477\")>]"
      ]
     },
     "execution_count": 235,
     "metadata": {},
     "output_type": "execute_result"
    }
   ],
   "source": [
    "title=driver.find_elements_by_xpath('//a[@class=\"title noclick\"]')\n",
    "title[0:2]"
   ]
  },
  {
   "cell_type": "code",
   "execution_count": 236,
   "id": "282ac1f2",
   "metadata": {},
   "outputs": [
    {
     "data": {
      "text/plain": [
       "['Principal Data Scientist', 'Data Scientist']"
      ]
     },
     "execution_count": 236,
     "metadata": {},
     "output_type": "execute_result"
    }
   ],
   "source": [
    "JOB=[]\n",
    "for i in title:\n",
    "    JOB.append(i.text)\n",
    "JOB[0:2]"
   ]
  },
  {
   "cell_type": "code",
   "execution_count": 237,
   "id": "7f3edc19",
   "metadata": {},
   "outputs": [
    {
     "data": {
      "text/plain": [
       "<selenium.webdriver.remote.webelement.WebElement (session=\"9588e713154618504ca0f3136939b531\", element=\"987fb3b9-6748-4625-bb57-dfbe9ec69f3b\")>"
      ]
     },
     "execution_count": 237,
     "metadata": {},
     "output_type": "execute_result"
    }
   ],
   "source": [
    "comp=driver.find_element_by_xpath('//p[@class=\"company body-medium\"]')\n",
    "comp"
   ]
  },
  {
   "cell_type": "code",
   "execution_count": 238,
   "id": "e22dfc5a",
   "metadata": {},
   "outputs": [
    {
     "data": {
      "text/plain": [
       "'Sanofi India Ltd'"
      ]
     },
     "execution_count": 238,
     "metadata": {},
     "output_type": "execute_result"
    }
   ],
   "source": [
    "comp.text"
   ]
  },
  {
   "cell_type": "code",
   "execution_count": 240,
   "id": "709a2023",
   "metadata": {},
   "outputs": [
    {
     "data": {
      "text/plain": [
       "[<selenium.webdriver.remote.webelement.WebElement (session=\"9588e713154618504ca0f3136939b531\", element=\"987fb3b9-6748-4625-bb57-dfbe9ec69f3b\")>,\n",
       " <selenium.webdriver.remote.webelement.WebElement (session=\"9588e713154618504ca0f3136939b531\", element=\"82985bc5-3d70-47c0-b4a6-85caa9708673\")>]"
      ]
     },
     "execution_count": 240,
     "metadata": {},
     "output_type": "execute_result"
    }
   ],
   "source": [
    "company=driver.find_elements_by_xpath('//p[@class=\"company body-medium\"]')\n",
    "company[0:2]"
   ]
  },
  {
   "cell_type": "code",
   "execution_count": 241,
   "id": "d91347ba",
   "metadata": {},
   "outputs": [
    {
     "data": {
      "text/plain": [
       "['Sanofi India Ltd', 'GENPACT India Private Limited']"
      ]
     },
     "execution_count": 241,
     "metadata": {},
     "output_type": "execute_result"
    }
   ],
   "source": [
    "NAME=[]\n",
    "for i in company:\n",
    "    NAME.append(i.text)\n",
    "NAME[0:2]"
   ]
  },
  {
   "cell_type": "code",
   "execution_count": 242,
   "id": "767f1710",
   "metadata": {},
   "outputs": [
    {
     "data": {
      "text/plain": [
       "<selenium.webdriver.remote.webelement.WebElement (session=\"9588e713154618504ca0f3136939b531\", element=\"d407263e-773a-449a-9c5e-7752c9a8cc56\")>"
      ]
     },
     "execution_count": 242,
     "metadata": {},
     "output_type": "execute_result"
    }
   ],
   "source": [
    "exep=driver.find_element_by_xpath('//div[@class=\"entity\"]/p[1]')\n",
    "exep"
   ]
  },
  {
   "cell_type": "code",
   "execution_count": 243,
   "id": "9440f8dd",
   "metadata": {},
   "outputs": [
    {
     "data": {
      "text/plain": [
       "'5-8 years'"
      ]
     },
     "execution_count": 243,
     "metadata": {},
     "output_type": "execute_result"
    }
   ],
   "source": [
    "exep.text"
   ]
  },
  {
   "cell_type": "code",
   "execution_count": 244,
   "id": "f493806c",
   "metadata": {},
   "outputs": [
    {
     "data": {
      "text/plain": [
       "[<selenium.webdriver.remote.webelement.WebElement (session=\"9588e713154618504ca0f3136939b531\", element=\"d407263e-773a-449a-9c5e-7752c9a8cc56\")>,\n",
       " <selenium.webdriver.remote.webelement.WebElement (session=\"9588e713154618504ca0f3136939b531\", element=\"46d43142-313a-4780-a600-b18a046b0fea\")>]"
      ]
     },
     "execution_count": 244,
     "metadata": {},
     "output_type": "execute_result"
    }
   ],
   "source": [
    "exep_req=driver.find_elements_by_xpath('//div[@class=\"entity\"]/p[1]')\n",
    "exep_req[0:2]"
   ]
  },
  {
   "cell_type": "code",
   "execution_count": 245,
   "id": "e4e7bc5f",
   "metadata": {},
   "outputs": [
    {
     "data": {
      "text/plain": [
       "['5-8 years', 'Not Disclosed']"
      ]
     },
     "execution_count": 245,
     "metadata": {},
     "output_type": "execute_result"
    }
   ],
   "source": [
    "EXE=[]\n",
    "for i in exep_req:\n",
    "    EXE.append(i.text)\n",
    "EXE[0:2]"
   ]
  },
  {
   "cell_type": "code",
   "execution_count": 246,
   "id": "0b62efe0",
   "metadata": {},
   "outputs": [
    {
     "data": {
      "text/plain": [
       "32"
      ]
     },
     "execution_count": 246,
     "metadata": {},
     "output_type": "execute_result"
    }
   ],
   "source": [
    "len(EXE)"
   ]
  },
  {
   "cell_type": "code",
   "execution_count": 247,
   "id": "a9c8198f",
   "metadata": {},
   "outputs": [],
   "source": [
    "Exe=EXE[0:10]"
   ]
  },
  {
   "cell_type": "code",
   "execution_count": 248,
   "id": "1fad5b22",
   "metadata": {},
   "outputs": [
    {
     "data": {
      "text/plain": [
       "10"
      ]
     },
     "execution_count": 248,
     "metadata": {},
     "output_type": "execute_result"
    }
   ],
   "source": [
    "len(Exe)"
   ]
  },
  {
   "cell_type": "code",
   "execution_count": 249,
   "id": "616d7fb5",
   "metadata": {},
   "outputs": [
    {
     "data": {
      "text/plain": [
       "<selenium.webdriver.remote.webelement.WebElement (session=\"9588e713154618504ca0f3136939b531\", element=\"8d702e63-df06-4579-ac7d-e2b45fe6159d\")>"
      ]
     },
     "execution_count": 249,
     "metadata": {},
     "output_type": "execute_result"
    }
   ],
   "source": [
    "loc=driver.find_element_by_xpath('//div[@class=\"entity loc\"]/p')\n",
    "loc"
   ]
  },
  {
   "cell_type": "code",
   "execution_count": 250,
   "id": "412100ca",
   "metadata": {},
   "outputs": [
    {
     "data": {
      "text/plain": [
       "'Hyderabad/Secunderabad'"
      ]
     },
     "execution_count": 250,
     "metadata": {},
     "output_type": "execute_result"
    }
   ],
   "source": [
    "loc.text"
   ]
  },
  {
   "cell_type": "code",
   "execution_count": 252,
   "id": "ac6a8e66",
   "metadata": {},
   "outputs": [
    {
     "data": {
      "text/plain": [
       "[<selenium.webdriver.remote.webelement.WebElement (session=\"9588e713154618504ca0f3136939b531\", element=\"8d702e63-df06-4579-ac7d-e2b45fe6159d\")>,\n",
       " <selenium.webdriver.remote.webelement.WebElement (session=\"9588e713154618504ca0f3136939b531\", element=\"48de7545-ba2d-4481-8261-e9c41b1d5f85\")>]"
      ]
     },
     "execution_count": 252,
     "metadata": {},
     "output_type": "execute_result"
    }
   ],
   "source": [
    "lo=driver.find_elements_by_xpath('//div[@class=\"entity loc\"]/p')\n",
    "lo[0:2]"
   ]
  },
  {
   "cell_type": "code",
   "execution_count": 253,
   "id": "ff103b0f",
   "metadata": {},
   "outputs": [
    {
     "data": {
      "text/plain": [
       "['Hyderabad/Secunderabad', 'Hyderabad/Secunderabad']"
      ]
     },
     "execution_count": 253,
     "metadata": {},
     "output_type": "execute_result"
    }
   ],
   "source": [
    "Loc=[]\n",
    "for i in lo:\n",
    "    Loc.append(i.text)\n",
    "Loc[0:2]"
   ]
  },
  {
   "cell_type": "code",
   "execution_count": 254,
   "id": "d270b232",
   "metadata": {},
   "outputs": [
    {
     "ename": "AttributeError",
     "evalue": "'list' object has no attribute 'DataFrame'",
     "output_type": "error",
     "traceback": [
      "\u001b[1;31m---------------------------------------------------------------------------\u001b[0m",
      "\u001b[1;31mAttributeError\u001b[0m                            Traceback (most recent call last)",
      "\u001b[1;32m~\\AppData\\Local\\Temp/ipykernel_23092/443746485.py\u001b[0m in \u001b[0;36m<module>\u001b[1;34m\u001b[0m\n\u001b[1;32m----> 1\u001b[1;33m \u001b[0mdf\u001b[0m\u001b[1;33m=\u001b[0m\u001b[0mpd\u001b[0m\u001b[1;33m.\u001b[0m\u001b[0mDataFrame\u001b[0m\u001b[1;33m(\u001b[0m\u001b[1;33m{\u001b[0m\u001b[1;34m'JobTitle'\u001b[0m\u001b[1;33m:\u001b[0m\u001b[0mJOB\u001b[0m\u001b[1;33m,\u001b[0m\u001b[1;34m'CompanyName'\u001b[0m\u001b[1;33m:\u001b[0m\u001b[0mNAME\u001b[0m\u001b[1;33m,\u001b[0m\u001b[1;34m'ExperienceRequired'\u001b[0m\u001b[1;33m:\u001b[0m\u001b[0mExe\u001b[0m\u001b[1;33m}\u001b[0m\u001b[1;33m)\u001b[0m\u001b[1;33m\u001b[0m\u001b[1;33m\u001b[0m\u001b[0m\n\u001b[0m\u001b[0;32m      2\u001b[0m \u001b[0mdf\u001b[0m\u001b[1;33m\u001b[0m\u001b[1;33m\u001b[0m\u001b[0m\n",
      "\u001b[1;31mAttributeError\u001b[0m: 'list' object has no attribute 'DataFrame'"
     ]
    }
   ],
   "source": [
    "df=pd.DataFrame({'JobTitle':JOB,'CompanyName':NAME,'ExperienceRequired':Exe})\n",
    "df"
   ]
  },
  {
   "cell_type": "code",
   "execution_count": null,
   "id": "3d6d4b0e",
   "metadata": {},
   "outputs": [],
   "source": []
  },
  {
   "cell_type": "markdown",
   "id": "e6f05186",
   "metadata": {},
   "source": [
    "Q10: Write a python program to scrape the salary data for Data Scientist designation.\n",
    "You have to scrape Company name, Number of salaries, Average salary, Minsalary, Max Salary.\n",
    "The above task will be, done as shown in the below steps:\n",
    "1. First get the webpage https://www.ambitionbox.com/\n",
    "2. Click on the salaries option as shown in the image.\n",
    "3. After reaching to the following webpage, In place of “Search Job Profile” enters “Data Scientist” and\n",
    "then click on “Data Scientist”.\n",
    "You have to scrape the data ticked in the above image.\n",
    "4. Scrape the data for the first 10 companies. Scrape the company name, total salary record, average\n",
    "salary, minimum salary, maximum salary, experience required.\n",
    "5. Store the data in a dataframe.\n",
    "Note: All the steps required during scraping should be done through code only and not manually."
   ]
  },
  {
   "cell_type": "code",
   "execution_count": 255,
   "id": "d540b1b7",
   "metadata": {},
   "outputs": [],
   "source": [
    "driver = webdriver.Chrome(r\"C:\\Users\\ndurg\\OneDrive\\Desktop\\webdriver\\chromedriver.exe\")\n",
    "time.sleep(2)\n",
    "driver.get('https://www.ambitionbox.com/')\n"
   ]
  },
  {
   "cell_type": "code",
   "execution_count": 256,
   "id": "31e82948",
   "metadata": {},
   "outputs": [],
   "source": [
    "button = driver.find_element_by_xpath(\"/html/body/div[1]/nav/nav/a[4]\")\n",
    "button.click()"
   ]
  },
  {
   "cell_type": "code",
   "execution_count": 257,
   "id": "5e8c25dc",
   "metadata": {},
   "outputs": [],
   "source": [
    "search = driver.find_element_by_xpath('/html/body/div/div/div/main/section[1]/div[2]/div[1]/span/input')\n",
    "search.send_keys('Data Scientist')"
   ]
  },
  {
   "cell_type": "code",
   "execution_count": 258,
   "id": "109cf711",
   "metadata": {},
   "outputs": [],
   "source": [
    "button = driver.find_element_by_xpath(\"/html/body/div/div/div/main/section[1]/div[2]/div[1]/i[1]\")\n",
    "button.click()"
   ]
  },
  {
   "cell_type": "code",
   "execution_count": 259,
   "id": "5b674664",
   "metadata": {},
   "outputs": [],
   "source": [
    "companyname=[]\n",
    "totalsalaryrecord=[]\n",
    "averagesalary = []\n",
    "experiencerequired = []"
   ]
  },
  {
   "cell_type": "code",
   "execution_count": 260,
   "id": "952030f3",
   "metadata": {},
   "outputs": [
    {
     "data": {
      "text/plain": [
       "<selenium.webdriver.remote.webelement.WebElement (session=\"37afcdac29bc99f25b05e7570479948c\", element=\"5551d76c-94c8-4509-863c-7b50ff028496\")>"
      ]
     },
     "execution_count": 260,
     "metadata": {},
     "output_type": "execute_result"
    }
   ],
   "source": [
    "cn = driver.find_element_by_class_name('name')\n",
    "cn"
   ]
  },
  {
   "cell_type": "code",
   "execution_count": 261,
   "id": "55d75cb6",
   "metadata": {},
   "outputs": [
    {
     "data": {
      "text/plain": [
       "'Google'"
      ]
     },
     "execution_count": 261,
     "metadata": {},
     "output_type": "execute_result"
    }
   ],
   "source": [
    "cn.text.split()[0]"
   ]
  },
  {
   "cell_type": "code",
   "execution_count": 262,
   "id": "790c2895",
   "metadata": {},
   "outputs": [
    {
     "data": {
      "text/plain": [
       "[<selenium.webdriver.remote.webelement.WebElement (session=\"37afcdac29bc99f25b05e7570479948c\", element=\"5551d76c-94c8-4509-863c-7b50ff028496\")>,\n",
       " <selenium.webdriver.remote.webelement.WebElement (session=\"37afcdac29bc99f25b05e7570479948c\", element=\"234cef39-2709-468c-aa99-936ff4fcd14d\")>]"
      ]
     },
     "execution_count": 262,
     "metadata": {},
     "output_type": "execute_result"
    }
   ],
   "source": [
    "cn = driver.find_elements_by_class_name('name')\n",
    "c=cn[0:10]\n",
    "c[0:2]"
   ]
  },
  {
   "cell_type": "code",
   "execution_count": 263,
   "id": "3e160af7",
   "metadata": {},
   "outputs": [
    {
     "data": {
      "text/plain": [
       "['Google', 'Microsoft']"
      ]
     },
     "execution_count": 263,
     "metadata": {},
     "output_type": "execute_result"
    }
   ],
   "source": [
    "for i in c:\n",
    "    companyname.append(i.text.split()[0])\n",
    "companyname[0:2]"
   ]
  },
  {
   "cell_type": "code",
   "execution_count": 264,
   "id": "351249f8",
   "metadata": {},
   "outputs": [
    {
     "data": {
      "text/plain": [
       "<selenium.webdriver.remote.webelement.WebElement (session=\"37afcdac29bc99f25b05e7570479948c\", element=\"afe72ddc-2b06-4916-81b8-3e220656c0ec\")>"
      ]
     },
     "execution_count": 264,
     "metadata": {},
     "output_type": "execute_result"
    }
   ],
   "source": [
    "tsr=driver.find_element_by_class_name('salary-range-wrapper')\n",
    "tsr"
   ]
  },
  {
   "cell_type": "code",
   "execution_count": 265,
   "id": "743fc4bd",
   "metadata": {},
   "outputs": [
    {
     "data": {
      "text/plain": [
       "'   31.8L\\n   11.0L\\n   65.0L'"
      ]
     },
     "execution_count": 265,
     "metadata": {},
     "output_type": "execute_result"
    }
   ],
   "source": [
    "tsr.text.replace('₹','  ')"
   ]
  },
  {
   "cell_type": "code",
   "execution_count": 266,
   "id": "408a1a8c",
   "metadata": {},
   "outputs": [
    {
     "data": {
      "text/plain": [
       "[<selenium.webdriver.remote.webelement.WebElement (session=\"37afcdac29bc99f25b05e7570479948c\", element=\"afe72ddc-2b06-4916-81b8-3e220656c0ec\")>,\n",
       " <selenium.webdriver.remote.webelement.WebElement (session=\"37afcdac29bc99f25b05e7570479948c\", element=\"817d13c3-688b-4508-9457-2061b5d689cf\")>]"
      ]
     },
     "execution_count": 266,
     "metadata": {},
     "output_type": "execute_result"
    }
   ],
   "source": [
    "tsr=driver.find_elements_by_class_name('salary-range-wrapper')\n",
    "ts=tsr[0:10]\n",
    "ts[0:2]"
   ]
  },
  {
   "cell_type": "code",
   "execution_count": 267,
   "id": "afa79653",
   "metadata": {},
   "outputs": [
    {
     "data": {
      "text/plain": [
       "['   31.8L\\n   11.0L\\n   65.0L', '   23.9L\\n   13.0L\\n   45.0L']"
      ]
     },
     "execution_count": 267,
     "metadata": {},
     "output_type": "execute_result"
    }
   ],
   "source": [
    "for i in ts:\n",
    "    totalsalaryrecord.append(i.text.replace('₹','  '))\n",
    "totalsalaryrecord[0:2]"
   ]
  },
  {
   "cell_type": "code",
   "execution_count": 268,
   "id": "6848c151",
   "metadata": {},
   "outputs": [
    {
     "data": {
      "text/plain": [
       "<selenium.webdriver.remote.webelement.WebElement (session=\"37afcdac29bc99f25b05e7570479948c\", element=\"dffe70eb-6362-4312-9803-7db27f2913bc\")>"
      ]
     },
     "execution_count": 268,
     "metadata": {},
     "output_type": "execute_result"
    }
   ],
   "source": [
    "asa = driver.find_element_by_class_name('averageCtc')\n",
    "asa"
   ]
  },
  {
   "cell_type": "code",
   "execution_count": 269,
   "id": "1f61db94",
   "metadata": {},
   "outputs": [
    {
     "data": {
      "text/plain": [
       "'   31.8L'"
      ]
     },
     "execution_count": 269,
     "metadata": {},
     "output_type": "execute_result"
    }
   ],
   "source": [
    "asa.text.replace('₹','  ')"
   ]
  },
  {
   "cell_type": "code",
   "execution_count": 271,
   "id": "e8b986d5",
   "metadata": {},
   "outputs": [
    {
     "data": {
      "text/plain": [
       "[<selenium.webdriver.remote.webelement.WebElement (session=\"37afcdac29bc99f25b05e7570479948c\", element=\"dffe70eb-6362-4312-9803-7db27f2913bc\")>,\n",
       " <selenium.webdriver.remote.webelement.WebElement (session=\"37afcdac29bc99f25b05e7570479948c\", element=\"c1226e66-c38f-4048-bba1-4cd06bee9d2c\")>]"
      ]
     },
     "execution_count": 271,
     "metadata": {},
     "output_type": "execute_result"
    }
   ],
   "source": [
    "asa = driver.find_elements_by_class_name('averageCtc')\n",
    "asal = asa[0:10]\n",
    "asal[0:2]"
   ]
  },
  {
   "cell_type": "code",
   "execution_count": 272,
   "id": "47897a62",
   "metadata": {},
   "outputs": [
    {
     "data": {
      "text/plain": [
       "['   31.8L', '   23.9L']"
      ]
     },
     "execution_count": 272,
     "metadata": {},
     "output_type": "execute_result"
    }
   ],
   "source": [
    "for i in asal:\n",
    "    averagesalary.append(i.text.replace('₹','  '))\n",
    "averagesalary[0:2]"
   ]
  },
  {
   "cell_type": "code",
   "execution_count": 273,
   "id": "4843fc5b",
   "metadata": {},
   "outputs": [
    {
     "data": {
      "text/plain": [
       "<selenium.webdriver.remote.webelement.WebElement (session=\"37afcdac29bc99f25b05e7570479948c\", element=\"3980b56e-7ab9-4732-8b73-1818b8dfbdde\")>"
      ]
     },
     "execution_count": 273,
     "metadata": {},
     "output_type": "execute_result"
    }
   ],
   "source": [
    "sal=driver.find_element_by_xpath('/html/body/div/div/div/main/section[1]/div[2]/div[3]/div[2]/div[1]/div[2]/div/div[2]')\n",
    "sal"
   ]
  },
  {
   "cell_type": "code",
   "execution_count": 274,
   "id": "b1f931c4",
   "metadata": {},
   "outputs": [
    {
     "data": {
      "text/plain": [
       "'   11.0L\\n   65.0L'"
      ]
     },
     "execution_count": 274,
     "metadata": {},
     "output_type": "execute_result"
    }
   ],
   "source": [
    "sal.text.replace('₹','  ')"
   ]
  },
  {
   "cell_type": "code",
   "execution_count": 276,
   "id": "bedae2cd",
   "metadata": {},
   "outputs": [
    {
     "data": {
      "text/plain": [
       "[<selenium.webdriver.remote.webelement.WebElement (session=\"37afcdac29bc99f25b05e7570479948c\", element=\"3980b56e-7ab9-4732-8b73-1818b8dfbdde\")>,\n",
       " <selenium.webdriver.remote.webelement.WebElement (session=\"37afcdac29bc99f25b05e7570479948c\", element=\"86ccb620-056d-416f-b602-4108e401456e\")>]"
      ]
     },
     "execution_count": 276,
     "metadata": {},
     "output_type": "execute_result"
    }
   ],
   "source": [
    "sal=driver.find_elements_by_xpath('//div[@class=\"salary-values\"]')\n",
    "sal[0:2]"
   ]
  },
  {
   "cell_type": "code",
   "execution_count": 277,
   "id": "15ec90cc",
   "metadata": {},
   "outputs": [
    {
     "data": {
      "text/plain": [
       "['   11.0L\\n   65.0L', '   13.0L\\n   45.0L']"
      ]
     },
     "execution_count": 277,
     "metadata": {},
     "output_type": "execute_result"
    }
   ],
   "source": [
    "salary=[]\n",
    "for i in sal:\n",
    "    salary.append(i.text.replace('₹','  '))\n",
    "salary[0:2]"
   ]
  },
  {
   "cell_type": "code",
   "execution_count": 278,
   "id": "9c05f745",
   "metadata": {},
   "outputs": [
    {
     "data": {
      "text/plain": [
       "<selenium.webdriver.remote.webelement.WebElement (session=\"37afcdac29bc99f25b05e7570479948c\", element=\"44c84f1d-b86a-4040-95e2-2251f393a86e\")>"
      ]
     },
     "execution_count": 278,
     "metadata": {},
     "output_type": "execute_result"
    }
   ],
   "source": [
    "er=driver.find_element_by_xpath('//div[@class=\"salaries sbold-list-header\"]')\n",
    "er"
   ]
  },
  {
   "cell_type": "code",
   "execution_count": 279,
   "id": "0f6945cc",
   "metadata": {},
   "outputs": [
    {
     "data": {
      "text/plain": [
       "'1-3'"
      ]
     },
     "execution_count": 279,
     "metadata": {},
     "output_type": "execute_result"
    }
   ],
   "source": [
    "er.text.split()[3]"
   ]
  },
  {
   "cell_type": "code",
   "execution_count": 280,
   "id": "fe3c1a32",
   "metadata": {},
   "outputs": [
    {
     "data": {
      "text/plain": [
       "[<selenium.webdriver.remote.webelement.WebElement (session=\"37afcdac29bc99f25b05e7570479948c\", element=\"44c84f1d-b86a-4040-95e2-2251f393a86e\")>,\n",
       " <selenium.webdriver.remote.webelement.WebElement (session=\"37afcdac29bc99f25b05e7570479948c\", element=\"e4c74df7-90c3-4348-8496-f6374d8ca16b\")>]"
      ]
     },
     "execution_count": 280,
     "metadata": {},
     "output_type": "execute_result"
    }
   ],
   "source": [
    "er=driver.find_elements_by_xpath('//div[@class=\"salaries sbold-list-header\"]')\n",
    "er[0:2]"
   ]
  },
  {
   "cell_type": "code",
   "execution_count": 281,
   "id": "f3df4100",
   "metadata": {},
   "outputs": [
    {
     "data": {
      "text/plain": [
       "['1-3', '1-4']"
      ]
     },
     "execution_count": 281,
     "metadata": {},
     "output_type": "execute_result"
    }
   ],
   "source": [
    "for i in er:\n",
    "    experiencerequired.append(i.text.split()[3])\n",
    "experiencerequired[0:2]"
   ]
  },
  {
   "cell_type": "code",
   "execution_count": 282,
   "id": "d669ed62",
   "metadata": {},
   "outputs": [
    {
     "data": {
      "text/plain": [
       "(10, 10, 10, 10, 10)"
      ]
     },
     "execution_count": 282,
     "metadata": {},
     "output_type": "execute_result"
    }
   ],
   "source": [
    "len(companyname),len(totalsalaryrecord),len(averagesalary),len(salary),len(experiencerequired)"
   ]
  },
  {
   "cell_type": "code",
   "execution_count": 283,
   "id": "49147e06",
   "metadata": {},
   "outputs": [
    {
     "ename": "AttributeError",
     "evalue": "'list' object has no attribute 'DataFrame'",
     "output_type": "error",
     "traceback": [
      "\u001b[1;31m---------------------------------------------------------------------------\u001b[0m",
      "\u001b[1;31mAttributeError\u001b[0m                            Traceback (most recent call last)",
      "\u001b[1;32m~\\AppData\\Local\\Temp/ipykernel_23092/684584945.py\u001b[0m in \u001b[0;36m<module>\u001b[1;34m\u001b[0m\n\u001b[1;32m----> 1\u001b[1;33m \u001b[0msalary_data\u001b[0m\u001b[1;33m=\u001b[0m\u001b[0mpd\u001b[0m\u001b[1;33m.\u001b[0m\u001b[0mDataFrame\u001b[0m\u001b[1;33m(\u001b[0m\u001b[1;33m{\u001b[0m\u001b[1;34m'Company Name'\u001b[0m\u001b[1;33m:\u001b[0m\u001b[0mcompanyname\u001b[0m\u001b[1;33m,\u001b[0m\u001b[1;34m'Total salary record'\u001b[0m\u001b[1;33m:\u001b[0m\u001b[0mtotalsalaryrecord\u001b[0m\u001b[1;33m,\u001b[0m\u001b[1;34m'Average Salary'\u001b[0m\u001b[1;33m:\u001b[0m\u001b[0maveragesalary\u001b[0m\u001b[1;33m,\u001b[0m\u001b[1;34m'Min_Max Salary'\u001b[0m\u001b[1;33m:\u001b[0m\u001b[0msalary\u001b[0m\u001b[1;33m,\u001b[0m\u001b[1;34m'Experience Required'\u001b[0m\u001b[1;33m:\u001b[0m\u001b[0mexperiencerequired\u001b[0m\u001b[1;33m}\u001b[0m\u001b[1;33m)\u001b[0m\u001b[1;33m\u001b[0m\u001b[1;33m\u001b[0m\u001b[0m\n\u001b[0m\u001b[0;32m      2\u001b[0m \u001b[0msalary_data\u001b[0m\u001b[1;33m\u001b[0m\u001b[1;33m\u001b[0m\u001b[0m\n",
      "\u001b[1;31mAttributeError\u001b[0m: 'list' object has no attribute 'DataFrame'"
     ]
    }
   ],
   "source": [
    "salary_data=pd.DataFrame({'Company Name':companyname,'Total salary record':totalsalaryrecord,'Average Salary':averagesalary,'Min_Max Salary':salary,'Experience Required':experiencerequired})\n",
    "salary_data"
   ]
  },
  {
   "cell_type": "code",
   "execution_count": null,
   "id": "9a01826c",
   "metadata": {},
   "outputs": [],
   "source": []
  }
 ],
 "metadata": {
  "kernelspec": {
   "display_name": "Python 3 (ipykernel)",
   "language": "python",
   "name": "python3"
  },
  "language_info": {
   "codemirror_mode": {
    "name": "ipython",
    "version": 3
   },
   "file_extension": ".py",
   "mimetype": "text/x-python",
   "name": "python",
   "nbconvert_exporter": "python",
   "pygments_lexer": "ipython3",
   "version": "3.9.7"
  }
 },
 "nbformat": 4,
 "nbformat_minor": 5
}
